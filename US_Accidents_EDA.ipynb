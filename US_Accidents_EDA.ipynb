{
 "cells": [
  {
   "cell_type": "markdown",
   "id": "066a0c90",
   "metadata": {},
   "source": [
    "## US-Accident Analysis - EDA"
   ]
  },
  {
   "cell_type": "markdown",
   "id": "2ecc9c13",
   "metadata": {},
   "source": [
    "### EDA Objective:\n",
    "\n",
    "### 📉Analysing Accidents Dataset for following purposes:\n",
    "\n",
    "- Locations(Cities/States) where accidents happen most.\n",
    "- What time of day most accidents happen?\n",
    "- which months have most accidents?\n",
    "- Is NY in the top 10 list of most accidents states?\n",
    "- which state has most cities with accidents happening?\n",
    "- what is trend of accidents year over year?(Increasing/decreasing)\n",
    "- Are there more accidents in warmer or cold areas\n",
    "- what can be done to prevent accidents?\n",
    "- Analyse accidents in NJ.\n",
    "- which states has highest number of accidents? How about per capita?\n",
    "- To analyse the details about what situations trigger accidents."
   ]
  },
  {
   "cell_type": "markdown",
   "id": "bfb6fdd8",
   "metadata": {},
   "source": [
    "### Importing Dataset from kaggle"
   ]
  },
  {
   "cell_type": "code",
   "execution_count": 1,
   "id": "8802d2b5",
   "metadata": {},
   "outputs": [],
   "source": [
    "#pip install opendatasets --upgrade --quiet"
   ]
  },
  {
   "cell_type": "code",
   "execution_count": 2,
   "id": "38ddc558",
   "metadata": {},
   "outputs": [],
   "source": [
    "# import opendatasets as od\n",
    "# download_url='https://www.kaggle.com/datasets/sobhanmoosavi/us-accidents'\n",
    "# od.download(download_url)"
   ]
  },
  {
   "cell_type": "code",
   "execution_count": 3,
   "id": "15ba0828",
   "metadata": {},
   "outputs": [],
   "source": [
    "data_filename = './us-accidents/US_Accidents_Dec21_updated.csv'"
   ]
  },
  {
   "cell_type": "markdown",
   "id": "153d8ff6",
   "metadata": {},
   "source": [
    "### Importing libraries"
   ]
  },
  {
   "cell_type": "code",
   "execution_count": 4,
   "id": "a316455f",
   "metadata": {},
   "outputs": [],
   "source": [
    "import pandas as pd\n",
    "import numpy as np\n",
    "import matplotlib.pyplot as plt\n",
    "import seaborn as sns\n",
    "pd.options.display.max_columns = None\n",
    "sns.set_style('darkgrid')"
   ]
  },
  {
   "cell_type": "code",
   "execution_count": 5,
   "id": "80a1b251",
   "metadata": {},
   "outputs": [],
   "source": [
    "df=pd.read_csv(data_filename)"
   ]
  },
  {
   "cell_type": "code",
   "execution_count": 6,
   "id": "45755251",
   "metadata": {
    "scrolled": true
   },
   "outputs": [
    {
     "data": {
      "text/html": [
       "<div>\n",
       "<style scoped>\n",
       "    .dataframe tbody tr th:only-of-type {\n",
       "        vertical-align: middle;\n",
       "    }\n",
       "\n",
       "    .dataframe tbody tr th {\n",
       "        vertical-align: top;\n",
       "    }\n",
       "\n",
       "    .dataframe thead th {\n",
       "        text-align: right;\n",
       "    }\n",
       "</style>\n",
       "<table border=\"1\" class=\"dataframe\">\n",
       "  <thead>\n",
       "    <tr style=\"text-align: right;\">\n",
       "      <th></th>\n",
       "      <th>ID</th>\n",
       "      <th>Severity</th>\n",
       "      <th>Start_Time</th>\n",
       "      <th>End_Time</th>\n",
       "      <th>Start_Lat</th>\n",
       "      <th>Start_Lng</th>\n",
       "      <th>End_Lat</th>\n",
       "      <th>End_Lng</th>\n",
       "      <th>Distance(mi)</th>\n",
       "      <th>Description</th>\n",
       "      <th>Number</th>\n",
       "      <th>Street</th>\n",
       "      <th>Side</th>\n",
       "      <th>City</th>\n",
       "      <th>County</th>\n",
       "      <th>State</th>\n",
       "      <th>Zipcode</th>\n",
       "      <th>Country</th>\n",
       "      <th>Timezone</th>\n",
       "      <th>Airport_Code</th>\n",
       "      <th>Weather_Timestamp</th>\n",
       "      <th>Temperature(F)</th>\n",
       "      <th>Wind_Chill(F)</th>\n",
       "      <th>Humidity(%)</th>\n",
       "      <th>Pressure(in)</th>\n",
       "      <th>Visibility(mi)</th>\n",
       "      <th>Wind_Direction</th>\n",
       "      <th>Wind_Speed(mph)</th>\n",
       "      <th>Precipitation(in)</th>\n",
       "      <th>Weather_Condition</th>\n",
       "      <th>Amenity</th>\n",
       "      <th>Bump</th>\n",
       "      <th>Crossing</th>\n",
       "      <th>Give_Way</th>\n",
       "      <th>Junction</th>\n",
       "      <th>No_Exit</th>\n",
       "      <th>Railway</th>\n",
       "      <th>Roundabout</th>\n",
       "      <th>Station</th>\n",
       "      <th>Stop</th>\n",
       "      <th>Traffic_Calming</th>\n",
       "      <th>Traffic_Signal</th>\n",
       "      <th>Turning_Loop</th>\n",
       "      <th>Sunrise_Sunset</th>\n",
       "      <th>Civil_Twilight</th>\n",
       "      <th>Nautical_Twilight</th>\n",
       "      <th>Astronomical_Twilight</th>\n",
       "    </tr>\n",
       "  </thead>\n",
       "  <tbody>\n",
       "    <tr>\n",
       "      <th>0</th>\n",
       "      <td>A-1</td>\n",
       "      <td>3</td>\n",
       "      <td>2016-02-08 00:37:08</td>\n",
       "      <td>2016-02-08 06:37:08</td>\n",
       "      <td>40.10891</td>\n",
       "      <td>-83.09286</td>\n",
       "      <td>40.11206</td>\n",
       "      <td>-83.03187</td>\n",
       "      <td>3.230</td>\n",
       "      <td>Between Sawmill Rd/Exit 20 and OH-315/Olentang...</td>\n",
       "      <td>NaN</td>\n",
       "      <td>Outerbelt E</td>\n",
       "      <td>R</td>\n",
       "      <td>Dublin</td>\n",
       "      <td>Franklin</td>\n",
       "      <td>OH</td>\n",
       "      <td>43017</td>\n",
       "      <td>US</td>\n",
       "      <td>US/Eastern</td>\n",
       "      <td>KOSU</td>\n",
       "      <td>2016-02-08 00:53:00</td>\n",
       "      <td>42.1</td>\n",
       "      <td>36.1</td>\n",
       "      <td>58.0</td>\n",
       "      <td>29.76</td>\n",
       "      <td>10.0</td>\n",
       "      <td>SW</td>\n",
       "      <td>10.4</td>\n",
       "      <td>0.00</td>\n",
       "      <td>Light Rain</td>\n",
       "      <td>False</td>\n",
       "      <td>False</td>\n",
       "      <td>False</td>\n",
       "      <td>False</td>\n",
       "      <td>False</td>\n",
       "      <td>False</td>\n",
       "      <td>False</td>\n",
       "      <td>False</td>\n",
       "      <td>False</td>\n",
       "      <td>False</td>\n",
       "      <td>False</td>\n",
       "      <td>False</td>\n",
       "      <td>False</td>\n",
       "      <td>Night</td>\n",
       "      <td>Night</td>\n",
       "      <td>Night</td>\n",
       "      <td>Night</td>\n",
       "    </tr>\n",
       "    <tr>\n",
       "      <th>1</th>\n",
       "      <td>A-2</td>\n",
       "      <td>2</td>\n",
       "      <td>2016-02-08 05:56:20</td>\n",
       "      <td>2016-02-08 11:56:20</td>\n",
       "      <td>39.86542</td>\n",
       "      <td>-84.06280</td>\n",
       "      <td>39.86501</td>\n",
       "      <td>-84.04873</td>\n",
       "      <td>0.747</td>\n",
       "      <td>At OH-4/OH-235/Exit 41 - Accident.</td>\n",
       "      <td>NaN</td>\n",
       "      <td>I-70 E</td>\n",
       "      <td>R</td>\n",
       "      <td>Dayton</td>\n",
       "      <td>Montgomery</td>\n",
       "      <td>OH</td>\n",
       "      <td>45424</td>\n",
       "      <td>US</td>\n",
       "      <td>US/Eastern</td>\n",
       "      <td>KFFO</td>\n",
       "      <td>2016-02-08 05:58:00</td>\n",
       "      <td>36.9</td>\n",
       "      <td>NaN</td>\n",
       "      <td>91.0</td>\n",
       "      <td>29.68</td>\n",
       "      <td>10.0</td>\n",
       "      <td>Calm</td>\n",
       "      <td>NaN</td>\n",
       "      <td>0.02</td>\n",
       "      <td>Light Rain</td>\n",
       "      <td>False</td>\n",
       "      <td>False</td>\n",
       "      <td>False</td>\n",
       "      <td>False</td>\n",
       "      <td>False</td>\n",
       "      <td>False</td>\n",
       "      <td>False</td>\n",
       "      <td>False</td>\n",
       "      <td>False</td>\n",
       "      <td>False</td>\n",
       "      <td>False</td>\n",
       "      <td>False</td>\n",
       "      <td>False</td>\n",
       "      <td>Night</td>\n",
       "      <td>Night</td>\n",
       "      <td>Night</td>\n",
       "      <td>Night</td>\n",
       "    </tr>\n",
       "    <tr>\n",
       "      <th>2</th>\n",
       "      <td>A-3</td>\n",
       "      <td>2</td>\n",
       "      <td>2016-02-08 06:15:39</td>\n",
       "      <td>2016-02-08 12:15:39</td>\n",
       "      <td>39.10266</td>\n",
       "      <td>-84.52468</td>\n",
       "      <td>39.10209</td>\n",
       "      <td>-84.52396</td>\n",
       "      <td>0.055</td>\n",
       "      <td>At I-71/US-50/Exit 1 - Accident.</td>\n",
       "      <td>NaN</td>\n",
       "      <td>I-75 S</td>\n",
       "      <td>R</td>\n",
       "      <td>Cincinnati</td>\n",
       "      <td>Hamilton</td>\n",
       "      <td>OH</td>\n",
       "      <td>45203</td>\n",
       "      <td>US</td>\n",
       "      <td>US/Eastern</td>\n",
       "      <td>KLUK</td>\n",
       "      <td>2016-02-08 05:53:00</td>\n",
       "      <td>36.0</td>\n",
       "      <td>NaN</td>\n",
       "      <td>97.0</td>\n",
       "      <td>29.70</td>\n",
       "      <td>10.0</td>\n",
       "      <td>Calm</td>\n",
       "      <td>NaN</td>\n",
       "      <td>0.02</td>\n",
       "      <td>Overcast</td>\n",
       "      <td>False</td>\n",
       "      <td>False</td>\n",
       "      <td>False</td>\n",
       "      <td>False</td>\n",
       "      <td>True</td>\n",
       "      <td>False</td>\n",
       "      <td>False</td>\n",
       "      <td>False</td>\n",
       "      <td>False</td>\n",
       "      <td>False</td>\n",
       "      <td>False</td>\n",
       "      <td>False</td>\n",
       "      <td>False</td>\n",
       "      <td>Night</td>\n",
       "      <td>Night</td>\n",
       "      <td>Night</td>\n",
       "      <td>Day</td>\n",
       "    </tr>\n",
       "    <tr>\n",
       "      <th>3</th>\n",
       "      <td>A-4</td>\n",
       "      <td>2</td>\n",
       "      <td>2016-02-08 06:51:45</td>\n",
       "      <td>2016-02-08 12:51:45</td>\n",
       "      <td>41.06213</td>\n",
       "      <td>-81.53784</td>\n",
       "      <td>41.06217</td>\n",
       "      <td>-81.53547</td>\n",
       "      <td>0.123</td>\n",
       "      <td>At Dart Ave/Exit 21 - Accident.</td>\n",
       "      <td>NaN</td>\n",
       "      <td>I-77 N</td>\n",
       "      <td>R</td>\n",
       "      <td>Akron</td>\n",
       "      <td>Summit</td>\n",
       "      <td>OH</td>\n",
       "      <td>44311</td>\n",
       "      <td>US</td>\n",
       "      <td>US/Eastern</td>\n",
       "      <td>KAKR</td>\n",
       "      <td>2016-02-08 06:54:00</td>\n",
       "      <td>39.0</td>\n",
       "      <td>NaN</td>\n",
       "      <td>55.0</td>\n",
       "      <td>29.65</td>\n",
       "      <td>10.0</td>\n",
       "      <td>Calm</td>\n",
       "      <td>NaN</td>\n",
       "      <td>NaN</td>\n",
       "      <td>Overcast</td>\n",
       "      <td>False</td>\n",
       "      <td>False</td>\n",
       "      <td>False</td>\n",
       "      <td>False</td>\n",
       "      <td>False</td>\n",
       "      <td>False</td>\n",
       "      <td>False</td>\n",
       "      <td>False</td>\n",
       "      <td>False</td>\n",
       "      <td>False</td>\n",
       "      <td>False</td>\n",
       "      <td>False</td>\n",
       "      <td>False</td>\n",
       "      <td>Night</td>\n",
       "      <td>Night</td>\n",
       "      <td>Day</td>\n",
       "      <td>Day</td>\n",
       "    </tr>\n",
       "  </tbody>\n",
       "</table>\n",
       "</div>"
      ],
      "text/plain": [
       "    ID  Severity           Start_Time             End_Time  Start_Lat  \\\n",
       "0  A-1         3  2016-02-08 00:37:08  2016-02-08 06:37:08   40.10891   \n",
       "1  A-2         2  2016-02-08 05:56:20  2016-02-08 11:56:20   39.86542   \n",
       "2  A-3         2  2016-02-08 06:15:39  2016-02-08 12:15:39   39.10266   \n",
       "3  A-4         2  2016-02-08 06:51:45  2016-02-08 12:51:45   41.06213   \n",
       "\n",
       "   Start_Lng   End_Lat   End_Lng  Distance(mi)  \\\n",
       "0  -83.09286  40.11206 -83.03187         3.230   \n",
       "1  -84.06280  39.86501 -84.04873         0.747   \n",
       "2  -84.52468  39.10209 -84.52396         0.055   \n",
       "3  -81.53784  41.06217 -81.53547         0.123   \n",
       "\n",
       "                                         Description  Number       Street  \\\n",
       "0  Between Sawmill Rd/Exit 20 and OH-315/Olentang...     NaN  Outerbelt E   \n",
       "1                 At OH-4/OH-235/Exit 41 - Accident.     NaN       I-70 E   \n",
       "2                   At I-71/US-50/Exit 1 - Accident.     NaN       I-75 S   \n",
       "3                    At Dart Ave/Exit 21 - Accident.     NaN       I-77 N   \n",
       "\n",
       "  Side        City      County State Zipcode Country    Timezone Airport_Code  \\\n",
       "0    R      Dublin    Franklin    OH   43017      US  US/Eastern         KOSU   \n",
       "1    R      Dayton  Montgomery    OH   45424      US  US/Eastern         KFFO   \n",
       "2    R  Cincinnati    Hamilton    OH   45203      US  US/Eastern         KLUK   \n",
       "3    R       Akron      Summit    OH   44311      US  US/Eastern         KAKR   \n",
       "\n",
       "     Weather_Timestamp  Temperature(F)  Wind_Chill(F)  Humidity(%)  \\\n",
       "0  2016-02-08 00:53:00            42.1           36.1         58.0   \n",
       "1  2016-02-08 05:58:00            36.9            NaN         91.0   \n",
       "2  2016-02-08 05:53:00            36.0            NaN         97.0   \n",
       "3  2016-02-08 06:54:00            39.0            NaN         55.0   \n",
       "\n",
       "   Pressure(in)  Visibility(mi) Wind_Direction  Wind_Speed(mph)  \\\n",
       "0         29.76            10.0             SW             10.4   \n",
       "1         29.68            10.0           Calm              NaN   \n",
       "2         29.70            10.0           Calm              NaN   \n",
       "3         29.65            10.0           Calm              NaN   \n",
       "\n",
       "   Precipitation(in) Weather_Condition  Amenity   Bump  Crossing  Give_Way  \\\n",
       "0               0.00        Light Rain    False  False     False     False   \n",
       "1               0.02        Light Rain    False  False     False     False   \n",
       "2               0.02          Overcast    False  False     False     False   \n",
       "3                NaN          Overcast    False  False     False     False   \n",
       "\n",
       "   Junction  No_Exit  Railway  Roundabout  Station   Stop  Traffic_Calming  \\\n",
       "0     False    False    False       False    False  False            False   \n",
       "1     False    False    False       False    False  False            False   \n",
       "2      True    False    False       False    False  False            False   \n",
       "3     False    False    False       False    False  False            False   \n",
       "\n",
       "   Traffic_Signal  Turning_Loop Sunrise_Sunset Civil_Twilight  \\\n",
       "0           False         False          Night          Night   \n",
       "1           False         False          Night          Night   \n",
       "2           False         False          Night          Night   \n",
       "3           False         False          Night          Night   \n",
       "\n",
       "  Nautical_Twilight Astronomical_Twilight  \n",
       "0             Night                 Night  \n",
       "1             Night                 Night  \n",
       "2             Night                   Day  \n",
       "3               Day                   Day  "
      ]
     },
     "execution_count": 6,
     "metadata": {},
     "output_type": "execute_result"
    }
   ],
   "source": [
    "df.head(4)"
   ]
  },
  {
   "cell_type": "code",
   "execution_count": 7,
   "id": "cfdfc5ba",
   "metadata": {},
   "outputs": [
    {
     "name": "stdout",
     "output_type": "stream",
     "text": [
      "<class 'pandas.core.frame.DataFrame'>\n",
      "RangeIndex: 2845342 entries, 0 to 2845341\n",
      "Data columns (total 47 columns):\n",
      " #   Column                 Dtype  \n",
      "---  ------                 -----  \n",
      " 0   ID                     object \n",
      " 1   Severity               int64  \n",
      " 2   Start_Time             object \n",
      " 3   End_Time               object \n",
      " 4   Start_Lat              float64\n",
      " 5   Start_Lng              float64\n",
      " 6   End_Lat                float64\n",
      " 7   End_Lng                float64\n",
      " 8   Distance(mi)           float64\n",
      " 9   Description            object \n",
      " 10  Number                 float64\n",
      " 11  Street                 object \n",
      " 12  Side                   object \n",
      " 13  City                   object \n",
      " 14  County                 object \n",
      " 15  State                  object \n",
      " 16  Zipcode                object \n",
      " 17  Country                object \n",
      " 18  Timezone               object \n",
      " 19  Airport_Code           object \n",
      " 20  Weather_Timestamp      object \n",
      " 21  Temperature(F)         float64\n",
      " 22  Wind_Chill(F)          float64\n",
      " 23  Humidity(%)            float64\n",
      " 24  Pressure(in)           float64\n",
      " 25  Visibility(mi)         float64\n",
      " 26  Wind_Direction         object \n",
      " 27  Wind_Speed(mph)        float64\n",
      " 28  Precipitation(in)      float64\n",
      " 29  Weather_Condition      object \n",
      " 30  Amenity                bool   \n",
      " 31  Bump                   bool   \n",
      " 32  Crossing               bool   \n",
      " 33  Give_Way               bool   \n",
      " 34  Junction               bool   \n",
      " 35  No_Exit                bool   \n",
      " 36  Railway                bool   \n",
      " 37  Roundabout             bool   \n",
      " 38  Station                bool   \n",
      " 39  Stop                   bool   \n",
      " 40  Traffic_Calming        bool   \n",
      " 41  Traffic_Signal         bool   \n",
      " 42  Turning_Loop           bool   \n",
      " 43  Sunrise_Sunset         object \n",
      " 44  Civil_Twilight         object \n",
      " 45  Nautical_Twilight      object \n",
      " 46  Astronomical_Twilight  object \n",
      "dtypes: bool(13), float64(13), int64(1), object(20)\n",
      "memory usage: 773.4+ MB\n"
     ]
    }
   ],
   "source": [
    "df.info()"
   ]
  },
  {
   "cell_type": "code",
   "execution_count": 8,
   "id": "b0d6a837",
   "metadata": {
    "scrolled": false
   },
   "outputs": [
    {
     "data": {
      "text/html": [
       "<div>\n",
       "<style scoped>\n",
       "    .dataframe tbody tr th:only-of-type {\n",
       "        vertical-align: middle;\n",
       "    }\n",
       "\n",
       "    .dataframe tbody tr th {\n",
       "        vertical-align: top;\n",
       "    }\n",
       "\n",
       "    .dataframe thead th {\n",
       "        text-align: right;\n",
       "    }\n",
       "</style>\n",
       "<table border=\"1\" class=\"dataframe\">\n",
       "  <thead>\n",
       "    <tr style=\"text-align: right;\">\n",
       "      <th></th>\n",
       "      <th>count</th>\n",
       "      <th>mean</th>\n",
       "      <th>std</th>\n",
       "      <th>min</th>\n",
       "      <th>25%</th>\n",
       "      <th>50%</th>\n",
       "      <th>75%</th>\n",
       "      <th>max</th>\n",
       "    </tr>\n",
       "  </thead>\n",
       "  <tbody>\n",
       "    <tr>\n",
       "      <th>Severity</th>\n",
       "      <td>2845342.0</td>\n",
       "      <td>2.137572</td>\n",
       "      <td>0.478722</td>\n",
       "      <td>1.000000</td>\n",
       "      <td>2.000000</td>\n",
       "      <td>2.000000</td>\n",
       "      <td>2.000000</td>\n",
       "      <td>4.000000e+00</td>\n",
       "    </tr>\n",
       "    <tr>\n",
       "      <th>Start_Lat</th>\n",
       "      <td>2845342.0</td>\n",
       "      <td>36.245201</td>\n",
       "      <td>5.363797</td>\n",
       "      <td>24.566027</td>\n",
       "      <td>33.445174</td>\n",
       "      <td>36.098609</td>\n",
       "      <td>40.160243</td>\n",
       "      <td>4.900058e+01</td>\n",
       "    </tr>\n",
       "    <tr>\n",
       "      <th>Start_Lng</th>\n",
       "      <td>2845342.0</td>\n",
       "      <td>-97.114633</td>\n",
       "      <td>18.317819</td>\n",
       "      <td>-124.548074</td>\n",
       "      <td>-118.033113</td>\n",
       "      <td>-92.418076</td>\n",
       "      <td>-80.372431</td>\n",
       "      <td>-6.711317e+01</td>\n",
       "    </tr>\n",
       "    <tr>\n",
       "      <th>End_Lat</th>\n",
       "      <td>2845342.0</td>\n",
       "      <td>36.245321</td>\n",
       "      <td>5.363873</td>\n",
       "      <td>24.566013</td>\n",
       "      <td>33.446278</td>\n",
       "      <td>36.097987</td>\n",
       "      <td>40.161049</td>\n",
       "      <td>4.907500e+01</td>\n",
       "    </tr>\n",
       "    <tr>\n",
       "      <th>End_Lng</th>\n",
       "      <td>2845342.0</td>\n",
       "      <td>-97.114387</td>\n",
       "      <td>18.317632</td>\n",
       "      <td>-124.545748</td>\n",
       "      <td>-118.033331</td>\n",
       "      <td>-92.417718</td>\n",
       "      <td>-80.373383</td>\n",
       "      <td>-6.710924e+01</td>\n",
       "    </tr>\n",
       "    <tr>\n",
       "      <th>Distance(mi)</th>\n",
       "      <td>2845342.0</td>\n",
       "      <td>0.702678</td>\n",
       "      <td>1.560361</td>\n",
       "      <td>0.000000</td>\n",
       "      <td>0.052000</td>\n",
       "      <td>0.244000</td>\n",
       "      <td>0.764000</td>\n",
       "      <td>1.551860e+02</td>\n",
       "    </tr>\n",
       "    <tr>\n",
       "      <th>Number</th>\n",
       "      <td>1101431.0</td>\n",
       "      <td>8089.408114</td>\n",
       "      <td>18360.093995</td>\n",
       "      <td>0.000000</td>\n",
       "      <td>1270.000000</td>\n",
       "      <td>4007.000000</td>\n",
       "      <td>9567.000000</td>\n",
       "      <td>9.999997e+06</td>\n",
       "    </tr>\n",
       "    <tr>\n",
       "      <th>Temperature(F)</th>\n",
       "      <td>2776068.0</td>\n",
       "      <td>61.793556</td>\n",
       "      <td>18.622629</td>\n",
       "      <td>-89.000000</td>\n",
       "      <td>50.000000</td>\n",
       "      <td>64.000000</td>\n",
       "      <td>76.000000</td>\n",
       "      <td>1.960000e+02</td>\n",
       "    </tr>\n",
       "    <tr>\n",
       "      <th>Wind_Chill(F)</th>\n",
       "      <td>2375699.0</td>\n",
       "      <td>59.658231</td>\n",
       "      <td>21.160967</td>\n",
       "      <td>-89.000000</td>\n",
       "      <td>46.000000</td>\n",
       "      <td>63.000000</td>\n",
       "      <td>76.000000</td>\n",
       "      <td>1.960000e+02</td>\n",
       "    </tr>\n",
       "    <tr>\n",
       "      <th>Humidity(%)</th>\n",
       "      <td>2772250.0</td>\n",
       "      <td>64.365452</td>\n",
       "      <td>22.874568</td>\n",
       "      <td>1.000000</td>\n",
       "      <td>48.000000</td>\n",
       "      <td>67.000000</td>\n",
       "      <td>83.000000</td>\n",
       "      <td>1.000000e+02</td>\n",
       "    </tr>\n",
       "    <tr>\n",
       "      <th>Pressure(in)</th>\n",
       "      <td>2786142.0</td>\n",
       "      <td>29.472344</td>\n",
       "      <td>1.045286</td>\n",
       "      <td>0.000000</td>\n",
       "      <td>29.310000</td>\n",
       "      <td>29.820000</td>\n",
       "      <td>30.010000</td>\n",
       "      <td>5.890000e+01</td>\n",
       "    </tr>\n",
       "    <tr>\n",
       "      <th>Visibility(mi)</th>\n",
       "      <td>2774796.0</td>\n",
       "      <td>9.099391</td>\n",
       "      <td>2.717546</td>\n",
       "      <td>0.000000</td>\n",
       "      <td>10.000000</td>\n",
       "      <td>10.000000</td>\n",
       "      <td>10.000000</td>\n",
       "      <td>1.400000e+02</td>\n",
       "    </tr>\n",
       "    <tr>\n",
       "      <th>Wind_Speed(mph)</th>\n",
       "      <td>2687398.0</td>\n",
       "      <td>7.395044</td>\n",
       "      <td>5.527454</td>\n",
       "      <td>0.000000</td>\n",
       "      <td>3.500000</td>\n",
       "      <td>7.000000</td>\n",
       "      <td>10.000000</td>\n",
       "      <td>1.087000e+03</td>\n",
       "    </tr>\n",
       "    <tr>\n",
       "      <th>Precipitation(in)</th>\n",
       "      <td>2295884.0</td>\n",
       "      <td>0.007017</td>\n",
       "      <td>0.093488</td>\n",
       "      <td>0.000000</td>\n",
       "      <td>0.000000</td>\n",
       "      <td>0.000000</td>\n",
       "      <td>0.000000</td>\n",
       "      <td>2.400000e+01</td>\n",
       "    </tr>\n",
       "  </tbody>\n",
       "</table>\n",
       "</div>"
      ],
      "text/plain": [
       "                       count         mean           std         min  \\\n",
       "Severity           2845342.0     2.137572      0.478722    1.000000   \n",
       "Start_Lat          2845342.0    36.245201      5.363797   24.566027   \n",
       "Start_Lng          2845342.0   -97.114633     18.317819 -124.548074   \n",
       "End_Lat            2845342.0    36.245321      5.363873   24.566013   \n",
       "End_Lng            2845342.0   -97.114387     18.317632 -124.545748   \n",
       "Distance(mi)       2845342.0     0.702678      1.560361    0.000000   \n",
       "Number             1101431.0  8089.408114  18360.093995    0.000000   \n",
       "Temperature(F)     2776068.0    61.793556     18.622629  -89.000000   \n",
       "Wind_Chill(F)      2375699.0    59.658231     21.160967  -89.000000   \n",
       "Humidity(%)        2772250.0    64.365452     22.874568    1.000000   \n",
       "Pressure(in)       2786142.0    29.472344      1.045286    0.000000   \n",
       "Visibility(mi)     2774796.0     9.099391      2.717546    0.000000   \n",
       "Wind_Speed(mph)    2687398.0     7.395044      5.527454    0.000000   \n",
       "Precipitation(in)  2295884.0     0.007017      0.093488    0.000000   \n",
       "\n",
       "                           25%          50%          75%           max  \n",
       "Severity              2.000000     2.000000     2.000000  4.000000e+00  \n",
       "Start_Lat            33.445174    36.098609    40.160243  4.900058e+01  \n",
       "Start_Lng          -118.033113   -92.418076   -80.372431 -6.711317e+01  \n",
       "End_Lat              33.446278    36.097987    40.161049  4.907500e+01  \n",
       "End_Lng            -118.033331   -92.417718   -80.373383 -6.710924e+01  \n",
       "Distance(mi)          0.052000     0.244000     0.764000  1.551860e+02  \n",
       "Number             1270.000000  4007.000000  9567.000000  9.999997e+06  \n",
       "Temperature(F)       50.000000    64.000000    76.000000  1.960000e+02  \n",
       "Wind_Chill(F)        46.000000    63.000000    76.000000  1.960000e+02  \n",
       "Humidity(%)          48.000000    67.000000    83.000000  1.000000e+02  \n",
       "Pressure(in)         29.310000    29.820000    30.010000  5.890000e+01  \n",
       "Visibility(mi)       10.000000    10.000000    10.000000  1.400000e+02  \n",
       "Wind_Speed(mph)       3.500000     7.000000    10.000000  1.087000e+03  \n",
       "Precipitation(in)     0.000000     0.000000     0.000000  2.400000e+01  "
      ]
     },
     "execution_count": 8,
     "metadata": {},
     "output_type": "execute_result"
    }
   ],
   "source": [
    "df.describe().transpose()"
   ]
  },
  {
   "cell_type": "markdown",
   "id": "38527336",
   "metadata": {},
   "source": [
    "#### Percentage of missing values per column"
   ]
  },
  {
   "cell_type": "code",
   "execution_count": 9,
   "id": "dd78d021",
   "metadata": {},
   "outputs": [
    {
     "data": {
      "text/plain": [
       "Number                   1743911\n",
       "Precipitation(in)         549458\n",
       "Wind_Chill(F)             469643\n",
       "Wind_Speed(mph)           157944\n",
       "Wind_Direction             73775\n",
       "Humidity(%)                73092\n",
       "Weather_Condition          70636\n",
       "Visibility(mi)             70546\n",
       "Temperature(F)             69274\n",
       "Pressure(in)               59200\n",
       "Weather_Timestamp          50736\n",
       "Airport_Code                9549\n",
       "Timezone                    3659\n",
       "Nautical_Twilight           2867\n",
       "Civil_Twilight              2867\n",
       "Sunrise_Sunset              2867\n",
       "Astronomical_Twilight       2867\n",
       "Zipcode                     1319\n",
       "City                         137\n",
       "Street                         2\n",
       "Country                        0\n",
       "Junction                       0\n",
       "Start_Time                     0\n",
       "End_Time                       0\n",
       "Start_Lat                      0\n",
       "Turning_Loop                   0\n",
       "Traffic_Signal                 0\n",
       "Traffic_Calming                0\n",
       "Stop                           0\n",
       "Station                        0\n",
       "Roundabout                     0\n",
       "Railway                        0\n",
       "No_Exit                        0\n",
       "Crossing                       0\n",
       "Give_Way                       0\n",
       "Bump                           0\n",
       "Amenity                        0\n",
       "Start_Lng                      0\n",
       "End_Lat                        0\n",
       "End_Lng                        0\n",
       "Distance(mi)                   0\n",
       "Description                    0\n",
       "Severity                       0\n",
       "Side                           0\n",
       "County                         0\n",
       "State                          0\n",
       "ID                             0\n",
       "dtype: int64"
      ]
     },
     "execution_count": 9,
     "metadata": {},
     "output_type": "execute_result"
    }
   ],
   "source": [
    "df.isnull().sum().sort_values(ascending=False)"
   ]
  },
  {
   "cell_type": "code",
   "execution_count": 10,
   "id": "2cab5f54",
   "metadata": {},
   "outputs": [
    {
     "data": {
      "text/plain": [
       "Number                   6.129003e-01\n",
       "Precipitation(in)        1.931079e-01\n",
       "Wind_Chill(F)            1.650568e-01\n",
       "Wind_Speed(mph)          5.550967e-02\n",
       "Wind_Direction           2.592834e-02\n",
       "Humidity(%)              2.568830e-02\n",
       "Weather_Condition        2.482514e-02\n",
       "Visibility(mi)           2.479350e-02\n",
       "Temperature(F)           2.434646e-02\n",
       "Pressure(in)             2.080593e-02\n",
       "Weather_Timestamp        1.783125e-02\n",
       "Airport_Code             3.356011e-03\n",
       "Timezone                 1.285961e-03\n",
       "Sunrise_Sunset           1.007612e-03\n",
       "Civil_Twilight           1.007612e-03\n",
       "Nautical_Twilight        1.007612e-03\n",
       "Astronomical_Twilight    1.007612e-03\n",
       "Zipcode                  4.635647e-04\n",
       "City                     4.814887e-05\n",
       "Street                   7.029032e-07\n",
       "dtype: float64"
      ]
     },
     "execution_count": 10,
     "metadata": {},
     "output_type": "execute_result"
    }
   ],
   "source": [
    "missing_percentage=df.isnull().sum()/len(df)\n",
    "missing_percentage[missing_percentage!=0].sort_values(ascending=False)"
   ]
  },
  {
   "cell_type": "code",
   "execution_count": 11,
   "id": "50d57d2e",
   "metadata": {
    "scrolled": false
   },
   "outputs": [
    {
     "data": {
      "text/plain": [
       "<AxesSubplot:>"
      ]
     },
     "execution_count": 11,
     "metadata": {},
     "output_type": "execute_result"
    },
    {
     "data": {
      "image/png": "[encoded data removed]",
      "text/plain": [
       "<Figure size 432x288 with 1 Axes>"
      ]
     },
     "metadata": {},
     "output_type": "display_data"
    }
   ],
   "source": [
    "missing_percentage[missing_percentage!=0].sort_values(ascending=False).plot(kind='bar',logy=True)"
   ]
  },
  {
   "cell_type": "markdown",
   "id": "e0472d47",
   "metadata": {},
   "source": [
    "✅Number, Precipitation, Wind_Chill, Wind_Speed has most null values"
   ]
  },
  {
   "cell_type": "code",
   "execution_count": 12,
   "id": "1bfbecc2",
   "metadata": {},
   "outputs": [
    {
     "data": {
      "text/html": [
       "<div>\n",
       "<style scoped>\n",
       "    .dataframe tbody tr th:only-of-type {\n",
       "        vertical-align: middle;\n",
       "    }\n",
       "\n",
       "    .dataframe tbody tr th {\n",
       "        vertical-align: top;\n",
       "    }\n",
       "\n",
       "    .dataframe thead th {\n",
       "        text-align: right;\n",
       "    }\n",
       "</style>\n",
       "<table border=\"1\" class=\"dataframe\">\n",
       "  <thead>\n",
       "    <tr style=\"text-align: right;\">\n",
       "      <th></th>\n",
       "      <th>ID</th>\n",
       "      <th>Severity</th>\n",
       "      <th>Start_Time</th>\n",
       "      <th>End_Time</th>\n",
       "      <th>Start_Lat</th>\n",
       "      <th>Start_Lng</th>\n",
       "      <th>End_Lat</th>\n",
       "      <th>End_Lng</th>\n",
       "      <th>Distance(mi)</th>\n",
       "      <th>Description</th>\n",
       "      <th>Number</th>\n",
       "      <th>Street</th>\n",
       "      <th>Side</th>\n",
       "      <th>City</th>\n",
       "      <th>County</th>\n",
       "      <th>State</th>\n",
       "      <th>Zipcode</th>\n",
       "      <th>Country</th>\n",
       "      <th>Timezone</th>\n",
       "      <th>Airport_Code</th>\n",
       "      <th>Weather_Timestamp</th>\n",
       "      <th>Temperature(F)</th>\n",
       "      <th>Wind_Chill(F)</th>\n",
       "      <th>Humidity(%)</th>\n",
       "      <th>Pressure(in)</th>\n",
       "      <th>Visibility(mi)</th>\n",
       "      <th>Wind_Direction</th>\n",
       "      <th>Wind_Speed(mph)</th>\n",
       "      <th>Precipitation(in)</th>\n",
       "      <th>Weather_Condition</th>\n",
       "      <th>Amenity</th>\n",
       "      <th>Bump</th>\n",
       "      <th>Crossing</th>\n",
       "      <th>Give_Way</th>\n",
       "      <th>Junction</th>\n",
       "      <th>No_Exit</th>\n",
       "      <th>Railway</th>\n",
       "      <th>Roundabout</th>\n",
       "      <th>Station</th>\n",
       "      <th>Stop</th>\n",
       "      <th>Traffic_Calming</th>\n",
       "      <th>Traffic_Signal</th>\n",
       "      <th>Turning_Loop</th>\n",
       "      <th>Sunrise_Sunset</th>\n",
       "      <th>Civil_Twilight</th>\n",
       "      <th>Nautical_Twilight</th>\n",
       "      <th>Astronomical_Twilight</th>\n",
       "    </tr>\n",
       "  </thead>\n",
       "  <tbody>\n",
       "    <tr>\n",
       "      <th>0</th>\n",
       "      <td>A-1</td>\n",
       "      <td>3</td>\n",
       "      <td>2016-02-08 00:37:08</td>\n",
       "      <td>2016-02-08 06:37:08</td>\n",
       "      <td>40.10891</td>\n",
       "      <td>-83.09286</td>\n",
       "      <td>40.11206</td>\n",
       "      <td>-83.03187</td>\n",
       "      <td>3.230</td>\n",
       "      <td>Between Sawmill Rd/Exit 20 and OH-315/Olentang...</td>\n",
       "      <td>NaN</td>\n",
       "      <td>Outerbelt E</td>\n",
       "      <td>R</td>\n",
       "      <td>Dublin</td>\n",
       "      <td>Franklin</td>\n",
       "      <td>OH</td>\n",
       "      <td>43017</td>\n",
       "      <td>US</td>\n",
       "      <td>US/Eastern</td>\n",
       "      <td>KOSU</td>\n",
       "      <td>2016-02-08 00:53:00</td>\n",
       "      <td>42.1</td>\n",
       "      <td>36.1</td>\n",
       "      <td>58.0</td>\n",
       "      <td>29.76</td>\n",
       "      <td>10.0</td>\n",
       "      <td>SW</td>\n",
       "      <td>10.4</td>\n",
       "      <td>0.00</td>\n",
       "      <td>Light Rain</td>\n",
       "      <td>False</td>\n",
       "      <td>False</td>\n",
       "      <td>False</td>\n",
       "      <td>False</td>\n",
       "      <td>False</td>\n",
       "      <td>False</td>\n",
       "      <td>False</td>\n",
       "      <td>False</td>\n",
       "      <td>False</td>\n",
       "      <td>False</td>\n",
       "      <td>False</td>\n",
       "      <td>False</td>\n",
       "      <td>False</td>\n",
       "      <td>Night</td>\n",
       "      <td>Night</td>\n",
       "      <td>Night</td>\n",
       "      <td>Night</td>\n",
       "    </tr>\n",
       "    <tr>\n",
       "      <th>1</th>\n",
       "      <td>A-2</td>\n",
       "      <td>2</td>\n",
       "      <td>2016-02-08 05:56:20</td>\n",
       "      <td>2016-02-08 11:56:20</td>\n",
       "      <td>39.86542</td>\n",
       "      <td>-84.06280</td>\n",
       "      <td>39.86501</td>\n",
       "      <td>-84.04873</td>\n",
       "      <td>0.747</td>\n",
       "      <td>At OH-4/OH-235/Exit 41 - Accident.</td>\n",
       "      <td>NaN</td>\n",
       "      <td>I-70 E</td>\n",
       "      <td>R</td>\n",
       "      <td>Dayton</td>\n",
       "      <td>Montgomery</td>\n",
       "      <td>OH</td>\n",
       "      <td>45424</td>\n",
       "      <td>US</td>\n",
       "      <td>US/Eastern</td>\n",
       "      <td>KFFO</td>\n",
       "      <td>2016-02-08 05:58:00</td>\n",
       "      <td>36.9</td>\n",
       "      <td>NaN</td>\n",
       "      <td>91.0</td>\n",
       "      <td>29.68</td>\n",
       "      <td>10.0</td>\n",
       "      <td>Calm</td>\n",
       "      <td>NaN</td>\n",
       "      <td>0.02</td>\n",
       "      <td>Light Rain</td>\n",
       "      <td>False</td>\n",
       "      <td>False</td>\n",
       "      <td>False</td>\n",
       "      <td>False</td>\n",
       "      <td>False</td>\n",
       "      <td>False</td>\n",
       "      <td>False</td>\n",
       "      <td>False</td>\n",
       "      <td>False</td>\n",
       "      <td>False</td>\n",
       "      <td>False</td>\n",
       "      <td>False</td>\n",
       "      <td>False</td>\n",
       "      <td>Night</td>\n",
       "      <td>Night</td>\n",
       "      <td>Night</td>\n",
       "      <td>Night</td>\n",
       "    </tr>\n",
       "    <tr>\n",
       "      <th>2</th>\n",
       "      <td>A-3</td>\n",
       "      <td>2</td>\n",
       "      <td>2016-02-08 06:15:39</td>\n",
       "      <td>2016-02-08 12:15:39</td>\n",
       "      <td>39.10266</td>\n",
       "      <td>-84.52468</td>\n",
       "      <td>39.10209</td>\n",
       "      <td>-84.52396</td>\n",
       "      <td>0.055</td>\n",
       "      <td>At I-71/US-50/Exit 1 - Accident.</td>\n",
       "      <td>NaN</td>\n",
       "      <td>I-75 S</td>\n",
       "      <td>R</td>\n",
       "      <td>Cincinnati</td>\n",
       "      <td>Hamilton</td>\n",
       "      <td>OH</td>\n",
       "      <td>45203</td>\n",
       "      <td>US</td>\n",
       "      <td>US/Eastern</td>\n",
       "      <td>KLUK</td>\n",
       "      <td>2016-02-08 05:53:00</td>\n",
       "      <td>36.0</td>\n",
       "      <td>NaN</td>\n",
       "      <td>97.0</td>\n",
       "      <td>29.70</td>\n",
       "      <td>10.0</td>\n",
       "      <td>Calm</td>\n",
       "      <td>NaN</td>\n",
       "      <td>0.02</td>\n",
       "      <td>Overcast</td>\n",
       "      <td>False</td>\n",
       "      <td>False</td>\n",
       "      <td>False</td>\n",
       "      <td>False</td>\n",
       "      <td>True</td>\n",
       "      <td>False</td>\n",
       "      <td>False</td>\n",
       "      <td>False</td>\n",
       "      <td>False</td>\n",
       "      <td>False</td>\n",
       "      <td>False</td>\n",
       "      <td>False</td>\n",
       "      <td>False</td>\n",
       "      <td>Night</td>\n",
       "      <td>Night</td>\n",
       "      <td>Night</td>\n",
       "      <td>Day</td>\n",
       "    </tr>\n",
       "  </tbody>\n",
       "</table>\n",
       "</div>"
      ],
      "text/plain": [
       "    ID  Severity           Start_Time             End_Time  Start_Lat  \\\n",
       "0  A-1         3  2016-02-08 00:37:08  2016-02-08 06:37:08   40.10891   \n",
       "1  A-2         2  2016-02-08 05:56:20  2016-02-08 11:56:20   39.86542   \n",
       "2  A-3         2  2016-02-08 06:15:39  2016-02-08 12:15:39   39.10266   \n",
       "\n",
       "   Start_Lng   End_Lat   End_Lng  Distance(mi)  \\\n",
       "0  -83.09286  40.11206 -83.03187         3.230   \n",
       "1  -84.06280  39.86501 -84.04873         0.747   \n",
       "2  -84.52468  39.10209 -84.52396         0.055   \n",
       "\n",
       "                                         Description  Number       Street  \\\n",
       "0  Between Sawmill Rd/Exit 20 and OH-315/Olentang...     NaN  Outerbelt E   \n",
       "1                 At OH-4/OH-235/Exit 41 - Accident.     NaN       I-70 E   \n",
       "2                   At I-71/US-50/Exit 1 - Accident.     NaN       I-75 S   \n",
       "\n",
       "  Side        City      County State Zipcode Country    Timezone Airport_Code  \\\n",
       "0    R      Dublin    Franklin    OH   43017      US  US/Eastern         KOSU   \n",
       "1    R      Dayton  Montgomery    OH   45424      US  US/Eastern         KFFO   \n",
       "2    R  Cincinnati    Hamilton    OH   45203      US  US/Eastern         KLUK   \n",
       "\n",
       "     Weather_Timestamp  Temperature(F)  Wind_Chill(F)  Humidity(%)  \\\n",
       "0  2016-02-08 00:53:00            42.1           36.1         58.0   \n",
       "1  2016-02-08 05:58:00            36.9            NaN         91.0   \n",
       "2  2016-02-08 05:53:00            36.0            NaN         97.0   \n",
       "\n",
       "   Pressure(in)  Visibility(mi) Wind_Direction  Wind_Speed(mph)  \\\n",
       "0         29.76            10.0             SW             10.4   \n",
       "1         29.68            10.0           Calm              NaN   \n",
       "2         29.70            10.0           Calm              NaN   \n",
       "\n",
       "   Precipitation(in) Weather_Condition  Amenity   Bump  Crossing  Give_Way  \\\n",
       "0               0.00        Light Rain    False  False     False     False   \n",
       "1               0.02        Light Rain    False  False     False     False   \n",
       "2               0.02          Overcast    False  False     False     False   \n",
       "\n",
       "   Junction  No_Exit  Railway  Roundabout  Station   Stop  Traffic_Calming  \\\n",
       "0     False    False    False       False    False  False            False   \n",
       "1     False    False    False       False    False  False            False   \n",
       "2      True    False    False       False    False  False            False   \n",
       "\n",
       "   Traffic_Signal  Turning_Loop Sunrise_Sunset Civil_Twilight  \\\n",
       "0           False         False          Night          Night   \n",
       "1           False         False          Night          Night   \n",
       "2           False         False          Night          Night   \n",
       "\n",
       "  Nautical_Twilight Astronomical_Twilight  \n",
       "0             Night                 Night  \n",
       "1             Night                 Night  \n",
       "2             Night                   Day  "
      ]
     },
     "execution_count": 12,
     "metadata": {},
     "output_type": "execute_result"
    }
   ],
   "source": [
    "df.head(3)"
   ]
  },
  {
   "cell_type": "markdown",
   "id": "6c59aa3c",
   "metadata": {},
   "source": [
    "#### Dropping unncessary columns:"
   ]
  },
  {
   "cell_type": "code",
   "execution_count": 13,
   "id": "fb3d8ea7",
   "metadata": {},
   "outputs": [
    {
     "data": {
      "text/html": [
       "<div>\n",
       "<style scoped>\n",
       "    .dataframe tbody tr th:only-of-type {\n",
       "        vertical-align: middle;\n",
       "    }\n",
       "\n",
       "    .dataframe tbody tr th {\n",
       "        vertical-align: top;\n",
       "    }\n",
       "\n",
       "    .dataframe thead th {\n",
       "        text-align: right;\n",
       "    }\n",
       "</style>\n",
       "<table border=\"1\" class=\"dataframe\">\n",
       "  <thead>\n",
       "    <tr style=\"text-align: right;\">\n",
       "      <th></th>\n",
       "      <th>ID</th>\n",
       "      <th>Severity</th>\n",
       "      <th>Start_Time</th>\n",
       "      <th>End_Time</th>\n",
       "      <th>Start_Lat</th>\n",
       "      <th>Start_Lng</th>\n",
       "      <th>Distance(mi)</th>\n",
       "      <th>City</th>\n",
       "      <th>State</th>\n",
       "      <th>Timezone</th>\n",
       "      <th>Airport_Code</th>\n",
       "      <th>Temperature(F)</th>\n",
       "      <th>Humidity(%)</th>\n",
       "      <th>Pressure(in)</th>\n",
       "      <th>Visibility(mi)</th>\n",
       "      <th>Wind_Direction</th>\n",
       "      <th>Wind_Speed(mph)</th>\n",
       "      <th>Precipitation(in)</th>\n",
       "      <th>Weather_Condition</th>\n",
       "      <th>Amenity</th>\n",
       "      <th>Bump</th>\n",
       "      <th>Crossing</th>\n",
       "      <th>Give_Way</th>\n",
       "      <th>Junction</th>\n",
       "      <th>No_Exit</th>\n",
       "      <th>Railway</th>\n",
       "      <th>Roundabout</th>\n",
       "      <th>Station</th>\n",
       "      <th>Stop</th>\n",
       "      <th>Traffic_Calming</th>\n",
       "      <th>Traffic_Signal</th>\n",
       "      <th>Turning_Loop</th>\n",
       "      <th>Sunrise_Sunset</th>\n",
       "    </tr>\n",
       "  </thead>\n",
       "  <tbody>\n",
       "    <tr>\n",
       "      <th>0</th>\n",
       "      <td>A-1</td>\n",
       "      <td>3</td>\n",
       "      <td>2016-02-08 00:37:08</td>\n",
       "      <td>2016-02-08 06:37:08</td>\n",
       "      <td>40.108910</td>\n",
       "      <td>-83.092860</td>\n",
       "      <td>3.230</td>\n",
       "      <td>Dublin</td>\n",
       "      <td>OH</td>\n",
       "      <td>US/Eastern</td>\n",
       "      <td>KOSU</td>\n",
       "      <td>42.1</td>\n",
       "      <td>58.0</td>\n",
       "      <td>29.76</td>\n",
       "      <td>10.0</td>\n",
       "      <td>SW</td>\n",
       "      <td>10.4</td>\n",
       "      <td>0.00</td>\n",
       "      <td>Light Rain</td>\n",
       "      <td>False</td>\n",
       "      <td>False</td>\n",
       "      <td>False</td>\n",
       "      <td>False</td>\n",
       "      <td>False</td>\n",
       "      <td>False</td>\n",
       "      <td>False</td>\n",
       "      <td>False</td>\n",
       "      <td>False</td>\n",
       "      <td>False</td>\n",
       "      <td>False</td>\n",
       "      <td>False</td>\n",
       "      <td>False</td>\n",
       "      <td>Night</td>\n",
       "    </tr>\n",
       "    <tr>\n",
       "      <th>1</th>\n",
       "      <td>A-2</td>\n",
       "      <td>2</td>\n",
       "      <td>2016-02-08 05:56:20</td>\n",
       "      <td>2016-02-08 11:56:20</td>\n",
       "      <td>39.865420</td>\n",
       "      <td>-84.062800</td>\n",
       "      <td>0.747</td>\n",
       "      <td>Dayton</td>\n",
       "      <td>OH</td>\n",
       "      <td>US/Eastern</td>\n",
       "      <td>KFFO</td>\n",
       "      <td>36.9</td>\n",
       "      <td>91.0</td>\n",
       "      <td>29.68</td>\n",
       "      <td>10.0</td>\n",
       "      <td>Calm</td>\n",
       "      <td>NaN</td>\n",
       "      <td>0.02</td>\n",
       "      <td>Light Rain</td>\n",
       "      <td>False</td>\n",
       "      <td>False</td>\n",
       "      <td>False</td>\n",
       "      <td>False</td>\n",
       "      <td>False</td>\n",
       "      <td>False</td>\n",
       "      <td>False</td>\n",
       "      <td>False</td>\n",
       "      <td>False</td>\n",
       "      <td>False</td>\n",
       "      <td>False</td>\n",
       "      <td>False</td>\n",
       "      <td>False</td>\n",
       "      <td>Night</td>\n",
       "    </tr>\n",
       "    <tr>\n",
       "      <th>2</th>\n",
       "      <td>A-3</td>\n",
       "      <td>2</td>\n",
       "      <td>2016-02-08 06:15:39</td>\n",
       "      <td>2016-02-08 12:15:39</td>\n",
       "      <td>39.102660</td>\n",
       "      <td>-84.524680</td>\n",
       "      <td>0.055</td>\n",
       "      <td>Cincinnati</td>\n",
       "      <td>OH</td>\n",
       "      <td>US/Eastern</td>\n",
       "      <td>KLUK</td>\n",
       "      <td>36.0</td>\n",
       "      <td>97.0</td>\n",
       "      <td>29.70</td>\n",
       "      <td>10.0</td>\n",
       "      <td>Calm</td>\n",
       "      <td>NaN</td>\n",
       "      <td>0.02</td>\n",
       "      <td>Overcast</td>\n",
       "      <td>False</td>\n",
       "      <td>False</td>\n",
       "      <td>False</td>\n",
       "      <td>False</td>\n",
       "      <td>True</td>\n",
       "      <td>False</td>\n",
       "      <td>False</td>\n",
       "      <td>False</td>\n",
       "      <td>False</td>\n",
       "      <td>False</td>\n",
       "      <td>False</td>\n",
       "      <td>False</td>\n",
       "      <td>False</td>\n",
       "      <td>Night</td>\n",
       "    </tr>\n",
       "    <tr>\n",
       "      <th>3</th>\n",
       "      <td>A-4</td>\n",
       "      <td>2</td>\n",
       "      <td>2016-02-08 06:51:45</td>\n",
       "      <td>2016-02-08 12:51:45</td>\n",
       "      <td>41.062130</td>\n",
       "      <td>-81.537840</td>\n",
       "      <td>0.123</td>\n",
       "      <td>Akron</td>\n",
       "      <td>OH</td>\n",
       "      <td>US/Eastern</td>\n",
       "      <td>KAKR</td>\n",
       "      <td>39.0</td>\n",
       "      <td>55.0</td>\n",
       "      <td>29.65</td>\n",
       "      <td>10.0</td>\n",
       "      <td>Calm</td>\n",
       "      <td>NaN</td>\n",
       "      <td>NaN</td>\n",
       "      <td>Overcast</td>\n",
       "      <td>False</td>\n",
       "      <td>False</td>\n",
       "      <td>False</td>\n",
       "      <td>False</td>\n",
       "      <td>False</td>\n",
       "      <td>False</td>\n",
       "      <td>False</td>\n",
       "      <td>False</td>\n",
       "      <td>False</td>\n",
       "      <td>False</td>\n",
       "      <td>False</td>\n",
       "      <td>False</td>\n",
       "      <td>False</td>\n",
       "      <td>Night</td>\n",
       "    </tr>\n",
       "    <tr>\n",
       "      <th>4</th>\n",
       "      <td>A-5</td>\n",
       "      <td>3</td>\n",
       "      <td>2016-02-08 07:53:43</td>\n",
       "      <td>2016-02-08 13:53:43</td>\n",
       "      <td>39.172393</td>\n",
       "      <td>-84.492792</td>\n",
       "      <td>0.500</td>\n",
       "      <td>Cincinnati</td>\n",
       "      <td>OH</td>\n",
       "      <td>US/Eastern</td>\n",
       "      <td>KLUK</td>\n",
       "      <td>37.0</td>\n",
       "      <td>93.0</td>\n",
       "      <td>29.69</td>\n",
       "      <td>10.0</td>\n",
       "      <td>WSW</td>\n",
       "      <td>10.4</td>\n",
       "      <td>0.01</td>\n",
       "      <td>Light Rain</td>\n",
       "      <td>False</td>\n",
       "      <td>False</td>\n",
       "      <td>False</td>\n",
       "      <td>False</td>\n",
       "      <td>False</td>\n",
       "      <td>False</td>\n",
       "      <td>False</td>\n",
       "      <td>False</td>\n",
       "      <td>False</td>\n",
       "      <td>False</td>\n",
       "      <td>False</td>\n",
       "      <td>False</td>\n",
       "      <td>False</td>\n",
       "      <td>Day</td>\n",
       "    </tr>\n",
       "  </tbody>\n",
       "</table>\n",
       "</div>"
      ],
      "text/plain": [
       "    ID  Severity           Start_Time             End_Time  Start_Lat  \\\n",
       "0  A-1         3  2016-02-08 00:37:08  2016-02-08 06:37:08  40.108910   \n",
       "1  A-2         2  2016-02-08 05:56:20  2016-02-08 11:56:20  39.865420   \n",
       "2  A-3         2  2016-02-08 06:15:39  2016-02-08 12:15:39  39.102660   \n",
       "3  A-4         2  2016-02-08 06:51:45  2016-02-08 12:51:45  41.062130   \n",
       "4  A-5         3  2016-02-08 07:53:43  2016-02-08 13:53:43  39.172393   \n",
       "\n",
       "   Start_Lng  Distance(mi)        City State    Timezone Airport_Code  \\\n",
       "0 -83.092860         3.230      Dublin    OH  US/Eastern         KOSU   \n",
       "1 -84.062800         0.747      Dayton    OH  US/Eastern         KFFO   \n",
       "2 -84.524680         0.055  Cincinnati    OH  US/Eastern         KLUK   \n",
       "3 -81.537840         0.123       Akron    OH  US/Eastern         KAKR   \n",
       "4 -84.492792         0.500  Cincinnati    OH  US/Eastern         KLUK   \n",
       "\n",
       "   Temperature(F)  Humidity(%)  Pressure(in)  Visibility(mi) Wind_Direction  \\\n",
       "0            42.1         58.0         29.76            10.0             SW   \n",
       "1            36.9         91.0         29.68            10.0           Calm   \n",
       "2            36.0         97.0         29.70            10.0           Calm   \n",
       "3            39.0         55.0         29.65            10.0           Calm   \n",
       "4            37.0         93.0         29.69            10.0            WSW   \n",
       "\n",
       "   Wind_Speed(mph)  Precipitation(in) Weather_Condition  Amenity   Bump  \\\n",
       "0             10.4               0.00        Light Rain    False  False   \n",
       "1              NaN               0.02        Light Rain    False  False   \n",
       "2              NaN               0.02          Overcast    False  False   \n",
       "3              NaN                NaN          Overcast    False  False   \n",
       "4             10.4               0.01        Light Rain    False  False   \n",
       "\n",
       "   Crossing  Give_Way  Junction  No_Exit  Railway  Roundabout  Station   Stop  \\\n",
       "0     False     False     False    False    False       False    False  False   \n",
       "1     False     False     False    False    False       False    False  False   \n",
       "2     False     False      True    False    False       False    False  False   \n",
       "3     False     False     False    False    False       False    False  False   \n",
       "4     False     False     False    False    False       False    False  False   \n",
       "\n",
       "   Traffic_Calming  Traffic_Signal  Turning_Loop Sunrise_Sunset  \n",
       "0            False           False         False          Night  \n",
       "1            False           False         False          Night  \n",
       "2            False           False         False          Night  \n",
       "3            False           False         False          Night  \n",
       "4            False           False         False            Day  "
      ]
     },
     "execution_count": 13,
     "metadata": {},
     "output_type": "execute_result"
    }
   ],
   "source": [
    "df=df.drop(['End_Lat','End_Lng','Description','Number','Street','Side','County','Zipcode','Country','Weather_Timestamp','Wind_Chill(F)','Civil_Twilight','Nautical_Twilight','Astronomical_Twilight'],axis=1)\n",
    "df.head()"
   ]
  },
  {
   "cell_type": "markdown",
   "id": "3fd5f050",
   "metadata": {},
   "source": [
    "### Exploratory Data Analysis and Visualization\n",
    "\n",
    "Columns to be analysed \n",
    "1. City \n",
    "2. Start Time\n",
    "3. Start Lat,Start Lng\n",
    "4. Temperature\n",
    "5. Weather Condition\n",
    "\n",
    "### City"
   ]
  },
  {
   "cell_type": "code",
   "execution_count": 14,
   "id": "5594c733",
   "metadata": {},
   "outputs": [
    {
     "data": {
      "text/plain": [
       "array(['Dublin', 'Dayton', 'Cincinnati', ..., 'Clarksdale', 'Bridgeboro',\n",
       "       'American Fork-Pleasant Grove'], dtype=object)"
      ]
     },
     "execution_count": 14,
     "metadata": {},
     "output_type": "execute_result"
    }
   ],
   "source": [
    "df.City.unique()"
   ]
  },
  {
   "cell_type": "code",
   "execution_count": 15,
   "id": "c706dabc",
   "metadata": {},
   "outputs": [
    {
     "data": {
      "text/plain": [
       "11682"
      ]
     },
     "execution_count": 15,
     "metadata": {},
     "output_type": "execute_result"
    }
   ],
   "source": [
    "len(df['City'].unique())"
   ]
  },
  {
   "cell_type": "code",
   "execution_count": 16,
   "id": "9fd4eab6",
   "metadata": {},
   "outputs": [
    {
     "data": {
      "text/plain": [
       "City         State\n",
       "Miami        FL       106896\n",
       "Los Angeles  CA        68956\n",
       "Orlando      FL        54654\n",
       "Dallas       TX        41615\n",
       "Houston      TX        39366\n",
       "Charlotte    NC        32998\n",
       "Sacramento   CA        32559\n",
       "San Diego    CA        26627\n",
       "Raleigh      NC        22837\n",
       "Minneapolis  MN        22768\n",
       "Portland     OR        20563\n",
       "Nashville    TN        20160\n",
       "Baton Rouge  LA        18182\n",
       "Austin       TX        17928\n",
       "Phoenix      AZ        16940\n",
       "Name: State, dtype: int64"
      ]
     },
     "execution_count": 16,
     "metadata": {},
     "output_type": "execute_result"
    }
   ],
   "source": [
    "top_cities=df.groupby('City')['State'].value_counts().sort_values(ascending=False)[:15]\n",
    "top_cities"
   ]
  },
  {
   "cell_type": "code",
   "execution_count": 17,
   "id": "0a0774f8",
   "metadata": {},
   "outputs": [],
   "source": [
    "top_cities=pd.DataFrame(top_cities)\n",
    "top_cities.index\n",
    "top_cities.columns=['Accidents']\n",
    "top_cities=top_cities.reset_index()"
   ]
  },
  {
   "cell_type": "code",
   "execution_count": 18,
   "id": "2dcdc010",
   "metadata": {},
   "outputs": [
    {
     "data": {
      "text/html": [
       "<div>\n",
       "<style scoped>\n",
       "    .dataframe tbody tr th:only-of-type {\n",
       "        vertical-align: middle;\n",
       "    }\n",
       "\n",
       "    .dataframe tbody tr th {\n",
       "        vertical-align: top;\n",
       "    }\n",
       "\n",
       "    .dataframe thead th {\n",
       "        text-align: right;\n",
       "    }\n",
       "</style>\n",
       "<table border=\"1\" class=\"dataframe\">\n",
       "  <thead>\n",
       "    <tr style=\"text-align: right;\">\n",
       "      <th></th>\n",
       "      <th>City</th>\n",
       "      <th>State</th>\n",
       "      <th>Accidents</th>\n",
       "    </tr>\n",
       "  </thead>\n",
       "  <tbody>\n",
       "    <tr>\n",
       "      <th>0</th>\n",
       "      <td>Miami</td>\n",
       "      <td>FL</td>\n",
       "      <td>106896</td>\n",
       "    </tr>\n",
       "    <tr>\n",
       "      <th>1</th>\n",
       "      <td>Los Angeles</td>\n",
       "      <td>CA</td>\n",
       "      <td>68956</td>\n",
       "    </tr>\n",
       "    <tr>\n",
       "      <th>2</th>\n",
       "      <td>Orlando</td>\n",
       "      <td>FL</td>\n",
       "      <td>54654</td>\n",
       "    </tr>\n",
       "    <tr>\n",
       "      <th>3</th>\n",
       "      <td>Dallas</td>\n",
       "      <td>TX</td>\n",
       "      <td>41615</td>\n",
       "    </tr>\n",
       "    <tr>\n",
       "      <th>4</th>\n",
       "      <td>Houston</td>\n",
       "      <td>TX</td>\n",
       "      <td>39366</td>\n",
       "    </tr>\n",
       "    <tr>\n",
       "      <th>5</th>\n",
       "      <td>Charlotte</td>\n",
       "      <td>NC</td>\n",
       "      <td>32998</td>\n",
       "    </tr>\n",
       "    <tr>\n",
       "      <th>6</th>\n",
       "      <td>Sacramento</td>\n",
       "      <td>CA</td>\n",
       "      <td>32559</td>\n",
       "    </tr>\n",
       "    <tr>\n",
       "      <th>7</th>\n",
       "      <td>San Diego</td>\n",
       "      <td>CA</td>\n",
       "      <td>26627</td>\n",
       "    </tr>\n",
       "    <tr>\n",
       "      <th>8</th>\n",
       "      <td>Raleigh</td>\n",
       "      <td>NC</td>\n",
       "      <td>22837</td>\n",
       "    </tr>\n",
       "    <tr>\n",
       "      <th>9</th>\n",
       "      <td>Minneapolis</td>\n",
       "      <td>MN</td>\n",
       "      <td>22768</td>\n",
       "    </tr>\n",
       "    <tr>\n",
       "      <th>10</th>\n",
       "      <td>Portland</td>\n",
       "      <td>OR</td>\n",
       "      <td>20563</td>\n",
       "    </tr>\n",
       "    <tr>\n",
       "      <th>11</th>\n",
       "      <td>Nashville</td>\n",
       "      <td>TN</td>\n",
       "      <td>20160</td>\n",
       "    </tr>\n",
       "    <tr>\n",
       "      <th>12</th>\n",
       "      <td>Baton Rouge</td>\n",
       "      <td>LA</td>\n",
       "      <td>18182</td>\n",
       "    </tr>\n",
       "    <tr>\n",
       "      <th>13</th>\n",
       "      <td>Austin</td>\n",
       "      <td>TX</td>\n",
       "      <td>17928</td>\n",
       "    </tr>\n",
       "    <tr>\n",
       "      <th>14</th>\n",
       "      <td>Phoenix</td>\n",
       "      <td>AZ</td>\n",
       "      <td>16940</td>\n",
       "    </tr>\n",
       "  </tbody>\n",
       "</table>\n",
       "</div>"
      ],
      "text/plain": [
       "           City State  Accidents\n",
       "0         Miami    FL     106896\n",
       "1   Los Angeles    CA      68956\n",
       "2       Orlando    FL      54654\n",
       "3        Dallas    TX      41615\n",
       "4       Houston    TX      39366\n",
       "5     Charlotte    NC      32998\n",
       "6    Sacramento    CA      32559\n",
       "7     San Diego    CA      26627\n",
       "8       Raleigh    NC      22837\n",
       "9   Minneapolis    MN      22768\n",
       "10     Portland    OR      20563\n",
       "11    Nashville    TN      20160\n",
       "12  Baton Rouge    LA      18182\n",
       "13       Austin    TX      17928\n",
       "14      Phoenix    AZ      16940"
      ]
     },
     "execution_count": 18,
     "metadata": {},
     "output_type": "execute_result"
    }
   ],
   "source": [
    "top_cities"
   ]
  },
  {
   "cell_type": "code",
   "execution_count": 19,
   "id": "336be537",
   "metadata": {},
   "outputs": [
    {
     "data": {
      "image/png": "[encoded data removed]",
      "text/plain": [
       "<Figure size 576x360 with 1 Axes>"
      ]
     },
     "metadata": {},
     "output_type": "display_data"
    }
   ],
   "source": [
    "plt.figure(figsize=(8,5))\n",
    "sns.barplot(x='City',y='Accidents', data=top_cities,ci=None)\n",
    "plt.xticks(rotation=45)\n",
    "plt.title('Top 15 cities with most accidents')\n",
    "plt.show()"
   ]
  },
  {
   "cell_type": "code",
   "execution_count": 20,
   "id": "648c8999",
   "metadata": {},
   "outputs": [
    {
     "data": {
      "text/plain": [
       "Miami                           106966\n",
       "Los Angeles                      68956\n",
       "Orlando                          54691\n",
       "Dallas                           41979\n",
       "Houston                          39448\n",
       "                                 ...  \n",
       "Ridgedale                            1\n",
       "Sekiu                                1\n",
       "Wooldridge                           1\n",
       "Bullock                              1\n",
       "American Fork-Pleasant Grove         1\n",
       "Name: City, Length: 11681, dtype: int64"
      ]
     },
     "execution_count": 20,
     "metadata": {},
     "output_type": "execute_result"
    }
   ],
   "source": [
    "cities=df['City'].value_counts()\n",
    "cities"
   ]
  },
  {
   "cell_type": "markdown",
   "id": "c34464bd",
   "metadata": {},
   "source": [
    "#### ✅ Results:\n",
    "- Miami has most accidents, Even though it is not more populated than Los Angeles.\n",
    "- New York City is not among the top list of most accident cities."
   ]
  },
  {
   "cell_type": "markdown",
   "id": "ed7864b2",
   "metadata": {},
   "source": [
    "#### ❓Analysing why NY is not in the top list"
   ]
  },
  {
   "cell_type": "code",
   "execution_count": 21,
   "id": "cd92721b",
   "metadata": {},
   "outputs": [
    {
     "data": {
      "text/plain": [
       "array(['New York', 'Central Valley', 'Syracuse', 'Brooklyn', 'Albany',\n",
       "       'Nanuet', 'Islip Terrace', 'Peekskill', 'Bronx', 'Maspeth',\n",
       "       'Yonkers', 'Valley Stream', 'Islip', 'Binghamton', 'New Rochelle',\n",
       "       'Flushing', 'Queens Village', 'Monroe', 'Herkimer', 'Bellerose'],\n",
       "      dtype=object)"
      ]
     },
     "execution_count": 21,
     "metadata": {},
     "output_type": "execute_result"
    }
   ],
   "source": [
    "df[df['State']=='NY']['City'].unique()[:20]"
   ]
  },
  {
   "cell_type": "code",
   "execution_count": 22,
   "id": "9a4bf8a8",
   "metadata": {},
   "outputs": [
    {
     "data": {
      "text/plain": [
       "7068"
      ]
     },
     "execution_count": 22,
     "metadata": {},
     "output_type": "execute_result"
    }
   ],
   "source": [
    "# No of accidents in NY city\n",
    "df[df['City']=='New York']['ID'].count()"
   ]
  },
  {
   "cell_type": "code",
   "execution_count": 23,
   "id": "0955ae8f",
   "metadata": {},
   "outputs": [
    {
     "data": {
      "text/plain": [
       "CA    795868\n",
       "FL    401388\n",
       "TX    149037\n",
       "OR    126341\n",
       "VA    113535\n",
       "NY    108049\n",
       "PA     99975\n",
       "MN     97185\n",
       "NC     91362\n",
       "SC     89216\n",
       "Name: State, dtype: int64"
      ]
     },
     "execution_count": 23,
     "metadata": {},
     "output_type": "execute_result"
    }
   ],
   "source": [
    "df['State'].value_counts()[:10] "
   ]
  },
  {
   "cell_type": "markdown",
   "id": "f617c5b4",
   "metadata": {},
   "source": [
    "#### ✅ Results:\n",
    "\n",
    "- New york city has accidents around 7000 and hence it is not in the top list of cities with most accidents.\n",
    "- From the plot we can see that NY State is in the top 10 list when plotted State wise."
   ]
  },
  {
   "cell_type": "markdown",
   "id": "5abef736",
   "metadata": {},
   "source": [
    "#### ❓ Analysing Accidents by State"
   ]
  },
  {
   "cell_type": "code",
   "execution_count": 24,
   "id": "f60ee1f2",
   "metadata": {},
   "outputs": [
    {
     "data": {
      "text/plain": [
       "State\n",
       "CA    795868\n",
       "FL    401388\n",
       "TX    149037\n",
       "OR    126341\n",
       "VA    113535\n",
       "NY    108049\n",
       "PA     99975\n",
       "MN     97185\n",
       "NC     91362\n",
       "SC     89216\n",
       "MD     65085\n",
       "AZ     56504\n",
       "NJ     52902\n",
       "TN     52613\n",
       "UT     49193\n",
       "Name: ID, dtype: int64"
      ]
     },
     "execution_count": 24,
     "metadata": {},
     "output_type": "execute_result"
    }
   ],
   "source": [
    "accidents_by_states = df.groupby('State')['ID'].count().sort_values(ascending=False)\n",
    "accidents_by_states[:15]"
   ]
  },
  {
   "cell_type": "code",
   "execution_count": 25,
   "id": "ae281f3c",
   "metadata": {},
   "outputs": [
    {
     "data": {
      "text/html": [
       "<div>\n",
       "<style scoped>\n",
       "    .dataframe tbody tr th:only-of-type {\n",
       "        vertical-align: middle;\n",
       "    }\n",
       "\n",
       "    .dataframe tbody tr th {\n",
       "        vertical-align: top;\n",
       "    }\n",
       "\n",
       "    .dataframe thead th {\n",
       "        text-align: right;\n",
       "    }\n",
       "</style>\n",
       "<table border=\"1\" class=\"dataframe\">\n",
       "  <thead>\n",
       "    <tr style=\"text-align: right;\">\n",
       "      <th></th>\n",
       "      <th>State</th>\n",
       "      <th>ID</th>\n",
       "    </tr>\n",
       "  </thead>\n",
       "  <tbody>\n",
       "    <tr>\n",
       "      <th>0</th>\n",
       "      <td>CA</td>\n",
       "      <td>795868</td>\n",
       "    </tr>\n",
       "    <tr>\n",
       "      <th>1</th>\n",
       "      <td>FL</td>\n",
       "      <td>401388</td>\n",
       "    </tr>\n",
       "    <tr>\n",
       "      <th>2</th>\n",
       "      <td>TX</td>\n",
       "      <td>149037</td>\n",
       "    </tr>\n",
       "    <tr>\n",
       "      <th>3</th>\n",
       "      <td>OR</td>\n",
       "      <td>126341</td>\n",
       "    </tr>\n",
       "    <tr>\n",
       "      <th>4</th>\n",
       "      <td>VA</td>\n",
       "      <td>113535</td>\n",
       "    </tr>\n",
       "    <tr>\n",
       "      <th>5</th>\n",
       "      <td>NY</td>\n",
       "      <td>108049</td>\n",
       "    </tr>\n",
       "    <tr>\n",
       "      <th>6</th>\n",
       "      <td>PA</td>\n",
       "      <td>99975</td>\n",
       "    </tr>\n",
       "    <tr>\n",
       "      <th>7</th>\n",
       "      <td>MN</td>\n",
       "      <td>97185</td>\n",
       "    </tr>\n",
       "    <tr>\n",
       "      <th>8</th>\n",
       "      <td>NC</td>\n",
       "      <td>91362</td>\n",
       "    </tr>\n",
       "    <tr>\n",
       "      <th>9</th>\n",
       "      <td>SC</td>\n",
       "      <td>89216</td>\n",
       "    </tr>\n",
       "    <tr>\n",
       "      <th>10</th>\n",
       "      <td>MD</td>\n",
       "      <td>65085</td>\n",
       "    </tr>\n",
       "    <tr>\n",
       "      <th>11</th>\n",
       "      <td>AZ</td>\n",
       "      <td>56504</td>\n",
       "    </tr>\n",
       "    <tr>\n",
       "      <th>12</th>\n",
       "      <td>NJ</td>\n",
       "      <td>52902</td>\n",
       "    </tr>\n",
       "    <tr>\n",
       "      <th>13</th>\n",
       "      <td>TN</td>\n",
       "      <td>52613</td>\n",
       "    </tr>\n",
       "    <tr>\n",
       "      <th>14</th>\n",
       "      <td>UT</td>\n",
       "      <td>49193</td>\n",
       "    </tr>\n",
       "    <tr>\n",
       "      <th>15</th>\n",
       "      <td>LA</td>\n",
       "      <td>47232</td>\n",
       "    </tr>\n",
       "    <tr>\n",
       "      <th>16</th>\n",
       "      <td>IL</td>\n",
       "      <td>47105</td>\n",
       "    </tr>\n",
       "    <tr>\n",
       "      <th>17</th>\n",
       "      <td>MI</td>\n",
       "      <td>43843</td>\n",
       "    </tr>\n",
       "    <tr>\n",
       "      <th>18</th>\n",
       "      <td>GA</td>\n",
       "      <td>40086</td>\n",
       "    </tr>\n",
       "    <tr>\n",
       "      <th>19</th>\n",
       "      <td>WA</td>\n",
       "      <td>32554</td>\n",
       "    </tr>\n",
       "  </tbody>\n",
       "</table>\n",
       "</div>"
      ],
      "text/plain": [
       "   State      ID\n",
       "0     CA  795868\n",
       "1     FL  401388\n",
       "2     TX  149037\n",
       "3     OR  126341\n",
       "4     VA  113535\n",
       "5     NY  108049\n",
       "6     PA   99975\n",
       "7     MN   97185\n",
       "8     NC   91362\n",
       "9     SC   89216\n",
       "10    MD   65085\n",
       "11    AZ   56504\n",
       "12    NJ   52902\n",
       "13    TN   52613\n",
       "14    UT   49193\n",
       "15    LA   47232\n",
       "16    IL   47105\n",
       "17    MI   43843\n",
       "18    GA   40086\n",
       "19    WA   32554"
      ]
     },
     "execution_count": 25,
     "metadata": {},
     "output_type": "execute_result"
    }
   ],
   "source": [
    "accidents_by_states=accidents_by_states.reset_index()\n",
    "accidents_by_states[:20]"
   ]
  },
  {
   "cell_type": "code",
   "execution_count": 26,
   "id": "a72a188d",
   "metadata": {},
   "outputs": [
    {
     "data": {
      "image/png": "[encoded data removed]",
      "text/plain": [
       "<Figure size 576x360 with 1 Axes>"
      ]
     },
     "metadata": {},
     "output_type": "display_data"
    }
   ],
   "source": [
    "plt.figure(figsize=(8,5))\n",
    "sns.barplot(x='State',y='ID',data=accidents_by_states[:15],ci=None)\n",
    "plt.show()"
   ]
  },
  {
   "cell_type": "markdown",
   "id": "271e62b3",
   "metadata": {},
   "source": [
    "#### ✅Results:\n",
    "- CA has most accidents.\n",
    "- FL is the second state with most accidents.\n",
    "- Most populated cities have most accidents."
   ]
  },
  {
   "cell_type": "markdown",
   "id": "2f93a67f",
   "metadata": {},
   "source": [
    "#### ❓Analysing States having top Cities with most accidents"
   ]
  },
  {
   "cell_type": "code",
   "execution_count": 27,
   "id": "a2aab97e",
   "metadata": {},
   "outputs": [
    {
     "data": {
      "text/plain": [
       "City         State\n",
       "Miami        FL       106896\n",
       "Los Angeles  CA        68956\n",
       "Orlando      FL        54654\n",
       "Dallas       TX        41615\n",
       "Houston      TX        39366\n",
       "                       ...  \n",
       "Farmington   UT          460\n",
       "Triangle     VA          460\n",
       "Lakehead     CA          458\n",
       "Teaneck      NJ          458\n",
       "Mc Farland   CA          457\n",
       "Name: ID, Length: 1000, dtype: int64"
      ]
     },
     "execution_count": 27,
     "metadata": {},
     "output_type": "execute_result"
    }
   ],
   "source": [
    "top_cities1=df.groupby(['City','State']).count()['ID'].sort_values(ascending=False)[:1000]\n",
    "top_cities1"
   ]
  },
  {
   "cell_type": "code",
   "execution_count": 28,
   "id": "2bcb1484",
   "metadata": {},
   "outputs": [],
   "source": [
    "top_cities1=top_cities1.reset_index()"
   ]
  },
  {
   "cell_type": "code",
   "execution_count": 29,
   "id": "9e05fd2f",
   "metadata": {},
   "outputs": [
    {
     "data": {
      "text/plain": [
       "State\n",
       "CA    334\n",
       "FL    102\n",
       "OR     63\n",
       "VA     49\n",
       "SC     45\n",
       "PA     42\n",
       "MD     40\n",
       "NY     32\n",
       "NJ     28\n",
       "UT     27\n",
       "Name: ID, dtype: int64"
      ]
     },
     "execution_count": 29,
     "metadata": {},
     "output_type": "execute_result"
    }
   ],
   "source": [
    "top_states1=top_cities1.groupby('State')['ID'].count().sort_values(ascending=False)[:10]\n",
    "top_states1"
   ]
  },
  {
   "cell_type": "code",
   "execution_count": 30,
   "id": "f738f751",
   "metadata": {},
   "outputs": [
    {
     "data": {
      "text/plain": [
       "<AxesSubplot:ylabel='ID'>"
      ]
     },
     "execution_count": 30,
     "metadata": {},
     "output_type": "execute_result"
    },
    {
     "data": {
      "image/png": "[encoded data removed]",
      "text/plain": [
       "<Figure size 432x288 with 1 Axes>"
      ]
     },
     "metadata": {},
     "output_type": "display_data"
    }
   ],
   "source": [
    "top_states1.plot(kind='pie')"
   ]
  },
  {
   "cell_type": "markdown",
   "id": "9a8ed53b",
   "metadata": {},
   "source": [
    "#### ✅Results:\n",
    "- From the plot we can see that CA has the cities where most accidents happen.\n",
    "- The second state is FL."
   ]
  },
  {
   "cell_type": "markdown",
   "id": "00134375",
   "metadata": {},
   "source": [
    "### Start Time:"
   ]
  },
  {
   "cell_type": "code",
   "execution_count": 31,
   "id": "6ca97bed",
   "metadata": {},
   "outputs": [],
   "source": [
    "df['Start_Time']=pd.to_datetime(df.Start_Time)"
   ]
  },
  {
   "cell_type": "code",
   "execution_count": 32,
   "id": "f0fe2a80",
   "metadata": {},
   "outputs": [],
   "source": [
    "# To convert Start_Time from different timezones to eastern for analysis\n",
    "df['starttime_est'] = \\\n",
    "(df.groupby(['Timezone'])['Start_Time']  \n",
    "                      .apply(lambda x: x.dt.tz_localize(x.name,\n",
    "                      ambiguous='NaT').dt.tz_convert('US/Eastern')))"
   ]
  },
  {
   "cell_type": "code",
   "execution_count": 33,
   "id": "e96fb8c0",
   "metadata": {},
   "outputs": [
    {
     "data": {
      "image/png": "[encoded data removed]",
      "text/plain": [
       "<Figure size 360x360 with 1 Axes>"
      ]
     },
     "metadata": {},
     "output_type": "display_data"
    }
   ],
   "source": [
    "g=sns.displot(df,x=df['starttime_est'].dt.hour,bins=24,stat=\"percent\").set(title='Per Hour Accident Analysis');\n",
    "g.set(xticks=np.arange(0,24));"
   ]
  },
  {
   "cell_type": "markdown",
   "id": "732423f2",
   "metadata": {},
   "source": [
    "#### ✅ Results:\n",
    "\n",
    "- From the plot we can see that most accidents happen between 3pm to 6pm.\n",
    "- Probably accidents happen while going back home. \n",
    "- Least accidents happen in the early morning before 6am."
   ]
  },
  {
   "cell_type": "code",
   "execution_count": 34,
   "id": "98005f86",
   "metadata": {},
   "outputs": [
    {
     "data": {
      "text/plain": [
       "array(['US/Eastern', 'US/Pacific', nan, 'US/Central', 'US/Mountain'],\n",
       "      dtype=object)"
      ]
     },
     "execution_count": 34,
     "metadata": {},
     "output_type": "execute_result"
    }
   ],
   "source": [
    "df['Timezone'].unique()"
   ]
  },
  {
   "cell_type": "code",
   "execution_count": 35,
   "id": "936513de",
   "metadata": {},
   "outputs": [
    {
     "data": {
      "text/plain": [
       "US/Eastern     1221927\n",
       "US/Pacific      967094\n",
       "US/Central      488065\n",
       "US/Mountain     164597\n",
       "Name: Timezone, dtype: int64"
      ]
     },
     "execution_count": 35,
     "metadata": {},
     "output_type": "execute_result"
    }
   ],
   "source": [
    "df['Timezone'].value_counts()"
   ]
  },
  {
   "cell_type": "code",
   "execution_count": 36,
   "id": "e926d55e",
   "metadata": {},
   "outputs": [
    {
     "data": {
      "image/png": "[encoded data removed]",
      "text/plain": [
       "<Figure size 432x288 with 1 Axes>"
      ]
     },
     "metadata": {},
     "output_type": "display_data"
    }
   ],
   "source": [
    "df['Timezone'].value_counts().plot(kind='pie',normalize=True,title='Accidents per Timezone');"
   ]
  },
  {
   "cell_type": "markdown",
   "id": "49a212b7",
   "metadata": {},
   "source": [
    "#### ✅ Results:\n",
    "\n",
    "- We can see that we have most accidents in Eastern Timezone and then comes US/Pacific.\n",
    "- Least accidents in US/Mountain Timezone (May be because of less citites from US/Mountain)"
   ]
  },
  {
   "cell_type": "code",
   "execution_count": 37,
   "id": "b7cddf0e",
   "metadata": {},
   "outputs": [],
   "source": [
    "#df.groupby('Timezone')['City'].nunique().sort_values(ascending=False)"
   ]
  },
  {
   "cell_type": "code",
   "execution_count": 38,
   "id": "3383621a",
   "metadata": {},
   "outputs": [],
   "source": [
    "#f.groupby('Timezone')['City'].nunique().sort_values(ascending=False).plot(kind='pie',normalize=True,title='Number of cities per timezone');"
   ]
  },
  {
   "cell_type": "markdown",
   "id": "c88b7980",
   "metadata": {},
   "source": [
    "#### Analysis per Timezone:"
   ]
  },
  {
   "cell_type": "code",
   "execution_count": 39,
   "id": "38d6fe1c",
   "metadata": {},
   "outputs": [
    {
     "data": {
      "image/png": "[encoded data removed]",
      "text/plain": [
       "<Figure size 360x360 with 1 Axes>"
      ]
     },
     "metadata": {},
     "output_type": "display_data"
    }
   ],
   "source": [
    "g=sns.displot(df,x=df[df['Timezone']=='US/Eastern']['Start_Time'].dt.hour,bins=24,stat=\"percent\").set(title='Accidents in US/Eastern Timezone');\n",
    "g.set(xticks=np.arange(0,24));"
   ]
  },
  {
   "cell_type": "code",
   "execution_count": 40,
   "id": "5f6809c9",
   "metadata": {},
   "outputs": [
    {
     "data": {
      "image/png": "[encoded data removed]",
      "text/plain": [
       "<Figure size 360x360 with 1 Axes>"
      ]
     },
     "metadata": {},
     "output_type": "display_data"
    }
   ],
   "source": [
    "g=sns.displot(df,x=df[df['Timezone']=='US/Pacific']['Start_Time'].dt.hour,bins=24,stat=\"percent\").set(title='Accidents in US/Pacific Timezone');\n",
    "g.set(xticks=np.arange(0,24));"
   ]
  },
  {
   "cell_type": "code",
   "execution_count": 41,
   "id": "3bec68bd",
   "metadata": {},
   "outputs": [
    {
     "data": {
      "image/png": "[encoded data removed]",
      "text/plain": [
       "<Figure size 360x360 with 1 Axes>"
      ]
     },
     "metadata": {},
     "output_type": "display_data"
    }
   ],
   "source": [
    "g=sns.displot(df,x=df[df['Timezone']=='US/Central']['Start_Time'].dt.hour,bins=24,stat=\"percent\").set(title='Accidents in US/Central Timezone');\n",
    "g.set(xticks=np.arange(0,24));"
   ]
  },
  {
   "cell_type": "markdown",
   "id": "c968be89",
   "metadata": {},
   "source": [
    "#### ✅Results:\n",
    "\n",
    "- Most accidents happen between 2pm to 5pm \n",
    "- Least happen during early morning before 6am."
   ]
  },
  {
   "cell_type": "markdown",
   "id": "de615026",
   "metadata": {},
   "source": [
    "#### Analysis on Accidents - days of week:"
   ]
  },
  {
   "cell_type": "code",
   "execution_count": 42,
   "id": "9512d274",
   "metadata": {},
   "outputs": [
    {
     "data": {
      "image/png": "[encoded data removed]",
      "text/plain": [
       "<Figure size 360x360 with 1 Axes>"
      ]
     },
     "metadata": {},
     "output_type": "display_data"
    }
   ],
   "source": [
    "g=sns.displot(df,x=df['Start_Time'].dt.dayofweek,bins=7,kde=False,stat=\"percent\").set(title='Accidents - days of week');\n",
    "g.set(xticks=np.arange(0,7));"
   ]
  },
  {
   "cell_type": "markdown",
   "id": "6a6d2eca",
   "metadata": {},
   "source": [
    "#### ✅Results: \n",
    "- The day of the week with Monday=0, Sunday=6.\n",
    "- Most accidents happen on Friday and Least on Saturdays and sundays compared to week days.\n",
    "- Probably most accidents happen on friday on hurry to go back home."
   ]
  },
  {
   "cell_type": "markdown",
   "id": "8f4f5cd6",
   "metadata": {},
   "source": [
    "#### Analysing the distribution of accidents on weekdays and weekends"
   ]
  },
  {
   "cell_type": "code",
   "execution_count": 43,
   "id": "25e8c8ff",
   "metadata": {},
   "outputs": [
    {
     "data": {
      "text/plain": [
       "147       2016-02-13 04:56:20\n",
       "148       2016-02-13 07:14:41\n",
       "149       2016-02-13 09:13:49\n",
       "150       2016-02-13 16:00:59\n",
       "151       2016-02-13 18:06:41\n",
       "                  ...        \n",
       "2843130   2019-08-18 23:24:10\n",
       "2843169   2019-08-17 03:36:35\n",
       "2843243   2019-08-18 22:56:56\n",
       "2843244   2019-08-18 22:56:56\n",
       "2843282   2019-08-18 22:54:41\n",
       "Name: Start_Time, Length: 570965, dtype: datetime64[ns]"
      ]
     },
     "execution_count": 43,
     "metadata": {},
     "output_type": "execute_result"
    }
   ],
   "source": [
    "weekends_starttime=df.Start_Time[df.Start_Time.dt.dayofweek.isin([5,6])]\n",
    "weekends_starttime"
   ]
  },
  {
   "cell_type": "code",
   "execution_count": 44,
   "id": "5b769980",
   "metadata": {},
   "outputs": [
    {
     "data": {
      "image/png": "[encoded data removed]",
      "text/plain": [
       "<Figure size 360x360 with 1 Axes>"
      ]
     },
     "metadata": {},
     "output_type": "display_data"
    }
   ],
   "source": [
    "g=sns.displot(df,x=weekends_starttime.dt.hour,bins=24,stat=\"percent\").set(title='Accidents - weekends');\n",
    "g.set(xticks=np.arange(0,24));\n",
    "\n",
    "#g=sns.distplot(weekends_starttime,bins=7,kde=False);"
   ]
  },
  {
   "cell_type": "markdown",
   "id": "b62d6d28",
   "metadata": {},
   "source": [
    "#### ✅Results:\n",
    "\n",
    "- On weekends, Accidents happen between 12pm to 6pm and least accidents before 10am in the morning."
   ]
  },
  {
   "cell_type": "code",
   "execution_count": 45,
   "id": "327aeab7",
   "metadata": {},
   "outputs": [
    {
     "data": {
      "image/png": "[encoded data removed]",
      "text/plain": [
       "<Figure size 360x360 with 1 Axes>"
      ]
     },
     "metadata": {},
     "output_type": "display_data"
    }
   ],
   "source": [
    "weekdays_starttime=df.Start_Time[df.Start_Time.dt.dayofweek.isin([0,1,2,3,4])]\n",
    "g=sns.displot(df,x=weekdays_starttime.dt.hour,bins=24,stat=\"percent\").set(title='Accidents - weekdays');\n",
    "g.set(xticks=np.arange(0,24));"
   ]
  },
  {
   "cell_type": "markdown",
   "id": "346786cc",
   "metadata": {},
   "source": [
    "#### ✅ Results:\n",
    "- unlike weekends, on weekdays accidents happen between 2pm to 6pm and least before 6 am.\n",
    "- As analysed, Accidents happen on hurry to back home."
   ]
  },
  {
   "cell_type": "markdown",
   "id": "063836ad",
   "metadata": {},
   "source": [
    "#### Monthwise Analysis:"
   ]
  },
  {
   "cell_type": "code",
   "execution_count": 46,
   "id": "8122370d",
   "metadata": {},
   "outputs": [
    {
     "data": {
      "image/png": "[encoded data removed]",
      "text/plain": [
       "<Figure size 360x360 with 1 Axes>"
      ]
     },
     "metadata": {},
     "output_type": "display_data"
    }
   ],
   "source": [
    "#sns.distplot(df['Start_Time'].dt.month,bins=12,kde=False,norm_hist=True)\n",
    "\n",
    "g=sns.displot(df,x=df['Start_Time'].dt.month,bins=12,kde=False,stat=\"percent\").set(title='Accidents - Monthwise');\n",
    "g.set(xticks=np.arange(1,13));"
   ]
  },
  {
   "cell_type": "markdown",
   "id": "3ea538b3",
   "metadata": {},
   "source": [
    "#### Results:\n",
    "\n",
    "- Most accidents happen during November and December (Peak shopping period- Christmas, Thanks giving, Black Friday).\n",
    "- Least accidents happen on july."
   ]
  },
  {
   "cell_type": "markdown",
   "id": "74692d9b",
   "metadata": {},
   "source": [
    "#### Yearwise - Analysis:"
   ]
  },
  {
   "cell_type": "code",
   "execution_count": 47,
   "id": "67bb51ae",
   "metadata": {},
   "outputs": [
    {
     "data": {
      "text/plain": [
       "array([2016, 2017, 2021, 2020, 2018, 2019], dtype=int64)"
      ]
     },
     "execution_count": 47,
     "metadata": {},
     "output_type": "execute_result"
    }
   ],
   "source": [
    "df['Start_Time'].dt.year.unique()"
   ]
  },
  {
   "cell_type": "code",
   "execution_count": 48,
   "id": "85803445",
   "metadata": {},
   "outputs": [
    {
     "data": {
      "image/png": "[encoded data removed]",
      "text/plain": [
       "<Figure size 360x360 with 1 Axes>"
      ]
     },
     "metadata": {},
     "output_type": "display_data"
    }
   ],
   "source": [
    "g=sns.displot(df,x=df['Start_Time'].dt.year,bins=6,kde=False,stat=\"percent\").set(title='Accidents - Year-wise');\n",
    "#g.set(xticks=np.arange(1,6));"
   ]
  },
  {
   "cell_type": "markdown",
   "id": "d67c2f3b",
   "metadata": {},
   "source": [
    "- The number of accidents overall have been increasing during the past few years.\n",
    "- 2021 has the most number of accidents."
   ]
  },
  {
   "cell_type": "markdown",
   "id": "89d92d48",
   "metadata": {},
   "source": [
    "### Start Latitude and Longitude:"
   ]
  },
  {
   "cell_type": "code",
   "execution_count": 49,
   "id": "59fd27c1",
   "metadata": {},
   "outputs": [
    {
     "data": {
      "text/html": [
       "<div>\n",
       "<style scoped>\n",
       "    .dataframe tbody tr th:only-of-type {\n",
       "        vertical-align: middle;\n",
       "    }\n",
       "\n",
       "    .dataframe tbody tr th {\n",
       "        vertical-align: top;\n",
       "    }\n",
       "\n",
       "    .dataframe thead th {\n",
       "        text-align: right;\n",
       "    }\n",
       "</style>\n",
       "<table border=\"1\" class=\"dataframe\">\n",
       "  <thead>\n",
       "    <tr style=\"text-align: right;\">\n",
       "      <th></th>\n",
       "      <th>Start_Lat</th>\n",
       "      <th>Start_Lng</th>\n",
       "    </tr>\n",
       "  </thead>\n",
       "  <tbody>\n",
       "    <tr>\n",
       "      <th>0</th>\n",
       "      <td>40.108910</td>\n",
       "      <td>-83.092860</td>\n",
       "    </tr>\n",
       "    <tr>\n",
       "      <th>1</th>\n",
       "      <td>39.865420</td>\n",
       "      <td>-84.062800</td>\n",
       "    </tr>\n",
       "    <tr>\n",
       "      <th>2</th>\n",
       "      <td>39.102660</td>\n",
       "      <td>-84.524680</td>\n",
       "    </tr>\n",
       "    <tr>\n",
       "      <th>3</th>\n",
       "      <td>41.062130</td>\n",
       "      <td>-81.537840</td>\n",
       "    </tr>\n",
       "    <tr>\n",
       "      <th>4</th>\n",
       "      <td>39.172393</td>\n",
       "      <td>-84.492792</td>\n",
       "    </tr>\n",
       "    <tr>\n",
       "      <th>...</th>\n",
       "      <td>...</td>\n",
       "      <td>...</td>\n",
       "    </tr>\n",
       "    <tr>\n",
       "      <th>2845337</th>\n",
       "      <td>34.002480</td>\n",
       "      <td>-117.379360</td>\n",
       "    </tr>\n",
       "    <tr>\n",
       "      <th>2845338</th>\n",
       "      <td>32.766960</td>\n",
       "      <td>-117.148060</td>\n",
       "    </tr>\n",
       "    <tr>\n",
       "      <th>2845339</th>\n",
       "      <td>33.775450</td>\n",
       "      <td>-117.847790</td>\n",
       "    </tr>\n",
       "    <tr>\n",
       "      <th>2845340</th>\n",
       "      <td>33.992460</td>\n",
       "      <td>-118.403020</td>\n",
       "    </tr>\n",
       "    <tr>\n",
       "      <th>2845341</th>\n",
       "      <td>34.133930</td>\n",
       "      <td>-117.230920</td>\n",
       "    </tr>\n",
       "  </tbody>\n",
       "</table>\n",
       "<p>2845342 rows × 2 columns</p>\n",
       "</div>"
      ],
      "text/plain": [
       "         Start_Lat   Start_Lng\n",
       "0        40.108910  -83.092860\n",
       "1        39.865420  -84.062800\n",
       "2        39.102660  -84.524680\n",
       "3        41.062130  -81.537840\n",
       "4        39.172393  -84.492792\n",
       "...            ...         ...\n",
       "2845337  34.002480 -117.379360\n",
       "2845338  32.766960 -117.148060\n",
       "2845339  33.775450 -117.847790\n",
       "2845340  33.992460 -118.403020\n",
       "2845341  34.133930 -117.230920\n",
       "\n",
       "[2845342 rows x 2 columns]"
      ]
     },
     "execution_count": 49,
     "metadata": {},
     "output_type": "execute_result"
    }
   ],
   "source": [
    "df[['Start_Lat','Start_Lng']]"
   ]
  },
  {
   "cell_type": "code",
   "execution_count": 50,
   "id": "be56c89e",
   "metadata": {},
   "outputs": [
    {
     "data": {
      "text/plain": [
       "<AxesSubplot:xlabel='Start_Lng', ylabel='Start_Lat'>"
      ]
     },
     "execution_count": 50,
     "metadata": {},
     "output_type": "execute_result"
    },
    {
     "data": {
      "image/png": "[encoded data removed]",
      "text/plain": [
       "<Figure size 432x288 with 1 Axes>"
      ]
     },
     "metadata": {},
     "output_type": "display_data"
    }
   ],
   "source": [
    "sns.scatterplot(x=df.Start_Lng,y=df.Start_Lat, size=0.001)"
   ]
  },
  {
   "cell_type": "code",
   "execution_count": 51,
   "id": "df1774c9",
   "metadata": {},
   "outputs": [],
   "source": [
    "import folium\n",
    "from folium.plugins import HeatMap\n",
    "HeatMap(lat_lng_pairs).add_to(hmap)\n",
    "hmap\n",
    "Make this Notebook Trusted to load map: File -> Trust Notebook"
   ]
  },
  {
   "attachments": {
    "folium_map.jpg": {
     "image/jpeg": "[encoded data removed]"
    }
   },
   "cell_type": "markdown",
   "id": "78cf0c9b",
   "metadata": {},
   "source": [
    "![folium_map.jpg](attachment:folium_map.jpg)"
   ]
  },
  {
   "cell_type": "code",
   "execution_count": 54,
   "id": "ca0a0f77",
   "metadata": {},
   "outputs": [],
   "source": [
    "sample_df=df.sample(int(0.001*len(df)))\n",
    "lat_lng_pairs=list(zip(list(sample_df.Start_Lat),list(sample_df.Start_Lng)))\n",
    "hmap=folium.Map()"
   ]
  },
  {
   "cell_type": "code",
   "execution_count": 56,
   "id": "d44eb2c2",
   "metadata": {
    "scrolled": false
   },
   "outputs": [
    {
     "data": {
      "text/plain": [
       "<folium.plugins.heat_map.HeatMap at 0x1f2323f6880>"
      ]
     },
     "execution_count": 56,
     "metadata": {},
     "output_type": "execute_result"
    }
   ],
   "source": [
    "HeatMap(lat_lng_pairs).add_to(hmap)\n",
    "hmap\n",
    "#Please check the folium_map.png for folium map"
   ]
  },
  {
   "cell_type": "markdown",
   "id": "b8ec3e01",
   "metadata": {},
   "source": [
    "#### ✅Results:\n",
    "\n",
    "- From the map we can see that costal areas have most accidents."
   ]
  },
  {
   "cell_type": "markdown",
   "id": "9a7c8898",
   "metadata": {},
   "source": [
    "### Weather condition:"
   ]
  },
  {
   "cell_type": "code",
   "execution_count": null,
   "id": "a48736b5",
   "metadata": {},
   "outputs": [],
   "source": [
    "df['Weather_Condition'].value_counts().sort_values(ascending=False)[:10]"
   ]
  },
  {
   "cell_type": "code",
   "execution_count": null,
   "id": "8fd3ed74",
   "metadata": {},
   "outputs": [],
   "source": [
    "df['Weather_Condition'].value_counts().sort_values(ascending=False)[:10].plot(kind='bar')"
   ]
  },
  {
   "cell_type": "markdown",
   "id": "8420ed99",
   "metadata": {},
   "source": [
    "#### Results:\n",
    "\n",
    "- Most accidents happened duirng Fair weather. so in particular Weather condition doesnt cause accidents."
   ]
  },
  {
   "cell_type": "markdown",
   "id": "fa8c4856",
   "metadata": {},
   "source": [
    "### Bump:\n",
    "\n",
    "#### Does having bump reduces the number of accidents:"
   ]
  },
  {
   "cell_type": "code",
   "execution_count": null,
   "id": "03b48cdc",
   "metadata": {},
   "outputs": [],
   "source": [
    "df['Bump'].value_counts()"
   ]
  },
  {
   "cell_type": "code",
   "execution_count": null,
   "id": "3565ea74",
   "metadata": {},
   "outputs": [],
   "source": [
    "df['Bump'].value_counts().plot(kind='pie')"
   ]
  },
  {
   "cell_type": "markdown",
   "id": "ea675c2f",
   "metadata": {},
   "source": [
    "#### ✅ Results:\n",
    "\n",
    "- From the plot we can see that most accidents happen when there are no bumps.\n",
    "- We can reduce the number of accidents by adding more bumps."
   ]
  },
  {
   "cell_type": "markdown",
   "id": "317634a7",
   "metadata": {},
   "source": [
    "### Roundabout:"
   ]
  },
  {
   "cell_type": "code",
   "execution_count": null,
   "id": "d7132efc",
   "metadata": {},
   "outputs": [],
   "source": [
    "df['Roundabout'].value_counts()"
   ]
  },
  {
   "cell_type": "markdown",
   "id": "7923183e",
   "metadata": {},
   "source": [
    "#### Result:\n",
    "- We can see that there were no roundabouts nearby.\n",
    "- Adding Roundabouts can help to decrease the number of accidents."
   ]
  },
  {
   "cell_type": "markdown",
   "id": "f9efea93",
   "metadata": {},
   "source": [
    "###  Stop Sign:"
   ]
  },
  {
   "cell_type": "code",
   "execution_count": null,
   "id": "9752c6ea",
   "metadata": {},
   "outputs": [],
   "source": [
    "df['Stop'].value_counts()"
   ]
  },
  {
   "cell_type": "markdown",
   "id": "03a32ab6",
   "metadata": {},
   "source": [
    "#### Results:\n",
    "\n",
    "- We can see that adding more stop sign can help to reduce the number of accidents."
   ]
  },
  {
   "cell_type": "markdown",
   "id": "fcc4990e",
   "metadata": {},
   "source": [
    "#### Summary and Conclusion:\n",
    "\n",
    "- Miami and Los Angels are having most accidents.\n",
    "- California and Florida has most accidents state-wise probably because of population. \n",
    "- Most accidents happen between 3pm to 6pm probably while coming back home.\n",
    "- Least number of accidents happen before 6am\n",
    "- Year by year the number of accidents have been increasing and Most accidents happened in year 2019.\n",
    "- Most accidents happen on Fridays and least happen on weekends.\n",
    "- Many precautions canbe taken in order to reduce the number of accidents:\n",
    "1. Adding more bumps.\n",
    "2. Adding more roundabouts.\n",
    "3. Adding more stops.\n",
    "4. Adding more Traffic signals.\n",
    "\n",
    "Still there is so much scope for analysis. We can analyse on precipitation, Wind_Speed, visibility, Humidity etc. Due to time constraints I am limiting myself to this."
   ]
  },
  {
   "cell_type": "code",
   "execution_count": null,
   "id": "d691d603",
   "metadata": {},
   "outputs": [],
   "source": []
  }
 ],
 "metadata": {
  "kernelspec": {
   "display_name": "Python 3 (ipykernel)",
   "language": "python",
   "name": "python3"
  },
  "language_info": {
   "codemirror_mode": {
    "name": "ipython",
    "version": 3
   },
   "file_extension": ".py",
   "mimetype": "text/x-python",
   "name": "python",
   "nbconvert_exporter": "python",
   "pygments_lexer": "ipython3",
   "version": "3.9.7"
  },
  "widgets": {
   "application/vnd.jupyter.widget-state+json": {
    "state": {},
    "version_major": 2,
    "version_minor": 0
   }
  }
 },
 "nbformat": 4,
 "nbformat_minor": 5
}
