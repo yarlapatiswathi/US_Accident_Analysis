{
 "cells": [
  {
   "cell_type": "markdown",
   "id": "066a0c90",
   "metadata": {},
   "source": [
    "## US-Accident Analysis - EDA"
   ]
  },
  {
   "cell_type": "markdown",
   "id": "2ecc9c13",
   "metadata": {},
   "source": [
    "### EDA Objective:\n",
    "\n",
    "### 📉Analysing Accidents Dataset for following purposes:\n",
    "\n",
    "- Locations(Cities/States) where accidents happen most.\n",
    "- What time of day most accidents happen?\n",
    "- which months have most accidents?\n",
    "- Is NY in the top 10 list of most accidents states?\n",
    "- which state has most cities with accidents happening?\n",
    "- what is trend of accidents year over year?(Increasing/decreasing)\n",
    "- Are there more accidents in warmer or cold areas\n",
    "- what can be done to prevent accidents?\n",
    "- Analyse accidents in NJ.\n",
    "- which states has highest number of accidents? How about per capita?\n",
    "- To analyse the details about what situations trigger accidents."
   ]
  },
  {
   "cell_type": "markdown",
   "id": "bfb6fdd8",
   "metadata": {},
   "source": [
    "### Importing Dataset from kaggle"
   ]
  },
  {
   "cell_type": "code",
   "execution_count": 1,
   "id": "8802d2b5",
   "metadata": {},
   "outputs": [],
   "source": [
    "#pip install opendatasets --upgrade --quiet"
   ]
  },
  {
   "cell_type": "code",
   "execution_count": 2,
   "id": "38ddc558",
   "metadata": {},
   "outputs": [],
   "source": [
    "# import opendatasets as od\n",
    "# download_url='https://www.kaggle.com/datasets/sobhanmoosavi/us-accidents'\n",
    "# od.download(download_url)"
   ]
  },
  {
   "cell_type": "code",
   "execution_count": 3,
   "id": "15ba0828",
   "metadata": {},
   "outputs": [],
   "source": [
    "data_filename = './us-accidents/US_Accidents_Dec21_updated.csv'"
   ]
  },
  {
   "cell_type": "markdown",
   "id": "153d8ff6",
   "metadata": {},
   "source": [
    "### Importing libraries"
   ]
  },
  {
   "cell_type": "code",
   "execution_count": 4,
   "id": "a316455f",
   "metadata": {},
   "outputs": [],
   "source": [
    "import pandas as pd\n",
    "import numpy as np\n",
    "import matplotlib.pyplot as plt\n",
    "import seaborn as sns\n",
    "pd.options.display.max_columns = None\n",
    "sns.set_style('darkgrid')"
   ]
  },
  {
   "cell_type": "code",
   "execution_count": 5,
   "id": "80a1b251",
   "metadata": {},
   "outputs": [],
   "source": [
    "df=pd.read_csv(data_filename)"
   ]
  },
  {
   "cell_type": "code",
   "execution_count": 6,
   "id": "45755251",
   "metadata": {
    "scrolled": true
   },
   "outputs": [
    {
     "data": {
      "text/html": [
       "<div>\n",
       "<style scoped>\n",
       "    .dataframe tbody tr th:only-of-type {\n",
       "        vertical-align: middle;\n",
       "    }\n",
       "\n",
       "    .dataframe tbody tr th {\n",
       "        vertical-align: top;\n",
       "    }\n",
       "\n",
       "    .dataframe thead th {\n",
       "        text-align: right;\n",
       "    }\n",
       "</style>\n",
       "<table border=\"1\" class=\"dataframe\">\n",
       "  <thead>\n",
       "    <tr style=\"text-align: right;\">\n",
       "      <th></th>\n",
       "      <th>ID</th>\n",
       "      <th>Severity</th>\n",
       "      <th>Start_Time</th>\n",
       "      <th>End_Time</th>\n",
       "      <th>Start_Lat</th>\n",
       "      <th>Start_Lng</th>\n",
       "      <th>End_Lat</th>\n",
       "      <th>End_Lng</th>\n",
       "      <th>Distance(mi)</th>\n",
       "      <th>Description</th>\n",
       "      <th>Number</th>\n",
       "      <th>Street</th>\n",
       "      <th>Side</th>\n",
       "      <th>City</th>\n",
       "      <th>County</th>\n",
       "      <th>State</th>\n",
       "      <th>Zipcode</th>\n",
       "      <th>Country</th>\n",
       "      <th>Timezone</th>\n",
       "      <th>Airport_Code</th>\n",
       "      <th>Weather_Timestamp</th>\n",
       "      <th>Temperature(F)</th>\n",
       "      <th>Wind_Chill(F)</th>\n",
       "      <th>Humidity(%)</th>\n",
       "      <th>Pressure(in)</th>\n",
       "      <th>Visibility(mi)</th>\n",
       "      <th>Wind_Direction</th>\n",
       "      <th>Wind_Speed(mph)</th>\n",
       "      <th>Precipitation(in)</th>\n",
       "      <th>Weather_Condition</th>\n",
       "      <th>Amenity</th>\n",
       "      <th>Bump</th>\n",
       "      <th>Crossing</th>\n",
       "      <th>Give_Way</th>\n",
       "      <th>Junction</th>\n",
       "      <th>No_Exit</th>\n",
       "      <th>Railway</th>\n",
       "      <th>Roundabout</th>\n",
       "      <th>Station</th>\n",
       "      <th>Stop</th>\n",
       "      <th>Traffic_Calming</th>\n",
       "      <th>Traffic_Signal</th>\n",
       "      <th>Turning_Loop</th>\n",
       "      <th>Sunrise_Sunset</th>\n",
       "      <th>Civil_Twilight</th>\n",
       "      <th>Nautical_Twilight</th>\n",
       "      <th>Astronomical_Twilight</th>\n",
       "    </tr>\n",
       "  </thead>\n",
       "  <tbody>\n",
       "    <tr>\n",
       "      <th>0</th>\n",
       "      <td>A-1</td>\n",
       "      <td>3</td>\n",
       "      <td>2016-02-08 00:37:08</td>\n",
       "      <td>2016-02-08 06:37:08</td>\n",
       "      <td>40.10891</td>\n",
       "      <td>-83.09286</td>\n",
       "      <td>40.11206</td>\n",
       "      <td>-83.03187</td>\n",
       "      <td>3.230</td>\n",
       "      <td>Between Sawmill Rd/Exit 20 and OH-315/Olentang...</td>\n",
       "      <td>NaN</td>\n",
       "      <td>Outerbelt E</td>\n",
       "      <td>R</td>\n",
       "      <td>Dublin</td>\n",
       "      <td>Franklin</td>\n",
       "      <td>OH</td>\n",
       "      <td>43017</td>\n",
       "      <td>US</td>\n",
       "      <td>US/Eastern</td>\n",
       "      <td>KOSU</td>\n",
       "      <td>2016-02-08 00:53:00</td>\n",
       "      <td>42.1</td>\n",
       "      <td>36.1</td>\n",
       "      <td>58.0</td>\n",
       "      <td>29.76</td>\n",
       "      <td>10.0</td>\n",
       "      <td>SW</td>\n",
       "      <td>10.4</td>\n",
       "      <td>0.00</td>\n",
       "      <td>Light Rain</td>\n",
       "      <td>False</td>\n",
       "      <td>False</td>\n",
       "      <td>False</td>\n",
       "      <td>False</td>\n",
       "      <td>False</td>\n",
       "      <td>False</td>\n",
       "      <td>False</td>\n",
       "      <td>False</td>\n",
       "      <td>False</td>\n",
       "      <td>False</td>\n",
       "      <td>False</td>\n",
       "      <td>False</td>\n",
       "      <td>False</td>\n",
       "      <td>Night</td>\n",
       "      <td>Night</td>\n",
       "      <td>Night</td>\n",
       "      <td>Night</td>\n",
       "    </tr>\n",
       "    <tr>\n",
       "      <th>1</th>\n",
       "      <td>A-2</td>\n",
       "      <td>2</td>\n",
       "      <td>2016-02-08 05:56:20</td>\n",
       "      <td>2016-02-08 11:56:20</td>\n",
       "      <td>39.86542</td>\n",
       "      <td>-84.06280</td>\n",
       "      <td>39.86501</td>\n",
       "      <td>-84.04873</td>\n",
       "      <td>0.747</td>\n",
       "      <td>At OH-4/OH-235/Exit 41 - Accident.</td>\n",
       "      <td>NaN</td>\n",
       "      <td>I-70 E</td>\n",
       "      <td>R</td>\n",
       "      <td>Dayton</td>\n",
       "      <td>Montgomery</td>\n",
       "      <td>OH</td>\n",
       "      <td>45424</td>\n",
       "      <td>US</td>\n",
       "      <td>US/Eastern</td>\n",
       "      <td>KFFO</td>\n",
       "      <td>2016-02-08 05:58:00</td>\n",
       "      <td>36.9</td>\n",
       "      <td>NaN</td>\n",
       "      <td>91.0</td>\n",
       "      <td>29.68</td>\n",
       "      <td>10.0</td>\n",
       "      <td>Calm</td>\n",
       "      <td>NaN</td>\n",
       "      <td>0.02</td>\n",
       "      <td>Light Rain</td>\n",
       "      <td>False</td>\n",
       "      <td>False</td>\n",
       "      <td>False</td>\n",
       "      <td>False</td>\n",
       "      <td>False</td>\n",
       "      <td>False</td>\n",
       "      <td>False</td>\n",
       "      <td>False</td>\n",
       "      <td>False</td>\n",
       "      <td>False</td>\n",
       "      <td>False</td>\n",
       "      <td>False</td>\n",
       "      <td>False</td>\n",
       "      <td>Night</td>\n",
       "      <td>Night</td>\n",
       "      <td>Night</td>\n",
       "      <td>Night</td>\n",
       "    </tr>\n",
       "    <tr>\n",
       "      <th>2</th>\n",
       "      <td>A-3</td>\n",
       "      <td>2</td>\n",
       "      <td>2016-02-08 06:15:39</td>\n",
       "      <td>2016-02-08 12:15:39</td>\n",
       "      <td>39.10266</td>\n",
       "      <td>-84.52468</td>\n",
       "      <td>39.10209</td>\n",
       "      <td>-84.52396</td>\n",
       "      <td>0.055</td>\n",
       "      <td>At I-71/US-50/Exit 1 - Accident.</td>\n",
       "      <td>NaN</td>\n",
       "      <td>I-75 S</td>\n",
       "      <td>R</td>\n",
       "      <td>Cincinnati</td>\n",
       "      <td>Hamilton</td>\n",
       "      <td>OH</td>\n",
       "      <td>45203</td>\n",
       "      <td>US</td>\n",
       "      <td>US/Eastern</td>\n",
       "      <td>KLUK</td>\n",
       "      <td>2016-02-08 05:53:00</td>\n",
       "      <td>36.0</td>\n",
       "      <td>NaN</td>\n",
       "      <td>97.0</td>\n",
       "      <td>29.70</td>\n",
       "      <td>10.0</td>\n",
       "      <td>Calm</td>\n",
       "      <td>NaN</td>\n",
       "      <td>0.02</td>\n",
       "      <td>Overcast</td>\n",
       "      <td>False</td>\n",
       "      <td>False</td>\n",
       "      <td>False</td>\n",
       "      <td>False</td>\n",
       "      <td>True</td>\n",
       "      <td>False</td>\n",
       "      <td>False</td>\n",
       "      <td>False</td>\n",
       "      <td>False</td>\n",
       "      <td>False</td>\n",
       "      <td>False</td>\n",
       "      <td>False</td>\n",
       "      <td>False</td>\n",
       "      <td>Night</td>\n",
       "      <td>Night</td>\n",
       "      <td>Night</td>\n",
       "      <td>Day</td>\n",
       "    </tr>\n",
       "    <tr>\n",
       "      <th>3</th>\n",
       "      <td>A-4</td>\n",
       "      <td>2</td>\n",
       "      <td>2016-02-08 06:51:45</td>\n",
       "      <td>2016-02-08 12:51:45</td>\n",
       "      <td>41.06213</td>\n",
       "      <td>-81.53784</td>\n",
       "      <td>41.06217</td>\n",
       "      <td>-81.53547</td>\n",
       "      <td>0.123</td>\n",
       "      <td>At Dart Ave/Exit 21 - Accident.</td>\n",
       "      <td>NaN</td>\n",
       "      <td>I-77 N</td>\n",
       "      <td>R</td>\n",
       "      <td>Akron</td>\n",
       "      <td>Summit</td>\n",
       "      <td>OH</td>\n",
       "      <td>44311</td>\n",
       "      <td>US</td>\n",
       "      <td>US/Eastern</td>\n",
       "      <td>KAKR</td>\n",
       "      <td>2016-02-08 06:54:00</td>\n",
       "      <td>39.0</td>\n",
       "      <td>NaN</td>\n",
       "      <td>55.0</td>\n",
       "      <td>29.65</td>\n",
       "      <td>10.0</td>\n",
       "      <td>Calm</td>\n",
       "      <td>NaN</td>\n",
       "      <td>NaN</td>\n",
       "      <td>Overcast</td>\n",
       "      <td>False</td>\n",
       "      <td>False</td>\n",
       "      <td>False</td>\n",
       "      <td>False</td>\n",
       "      <td>False</td>\n",
       "      <td>False</td>\n",
       "      <td>False</td>\n",
       "      <td>False</td>\n",
       "      <td>False</td>\n",
       "      <td>False</td>\n",
       "      <td>False</td>\n",
       "      <td>False</td>\n",
       "      <td>False</td>\n",
       "      <td>Night</td>\n",
       "      <td>Night</td>\n",
       "      <td>Day</td>\n",
       "      <td>Day</td>\n",
       "    </tr>\n",
       "  </tbody>\n",
       "</table>\n",
       "</div>"
      ],
      "text/plain": [
       "    ID  Severity           Start_Time             End_Time  Start_Lat  \\\n",
       "0  A-1         3  2016-02-08 00:37:08  2016-02-08 06:37:08   40.10891   \n",
       "1  A-2         2  2016-02-08 05:56:20  2016-02-08 11:56:20   39.86542   \n",
       "2  A-3         2  2016-02-08 06:15:39  2016-02-08 12:15:39   39.10266   \n",
       "3  A-4         2  2016-02-08 06:51:45  2016-02-08 12:51:45   41.06213   \n",
       "\n",
       "   Start_Lng   End_Lat   End_Lng  Distance(mi)  \\\n",
       "0  -83.09286  40.11206 -83.03187         3.230   \n",
       "1  -84.06280  39.86501 -84.04873         0.747   \n",
       "2  -84.52468  39.10209 -84.52396         0.055   \n",
       "3  -81.53784  41.06217 -81.53547         0.123   \n",
       "\n",
       "                                         Description  Number       Street  \\\n",
       "0  Between Sawmill Rd/Exit 20 and OH-315/Olentang...     NaN  Outerbelt E   \n",
       "1                 At OH-4/OH-235/Exit 41 - Accident.     NaN       I-70 E   \n",
       "2                   At I-71/US-50/Exit 1 - Accident.     NaN       I-75 S   \n",
       "3                    At Dart Ave/Exit 21 - Accident.     NaN       I-77 N   \n",
       "\n",
       "  Side        City      County State Zipcode Country    Timezone Airport_Code  \\\n",
       "0    R      Dublin    Franklin    OH   43017      US  US/Eastern         KOSU   \n",
       "1    R      Dayton  Montgomery    OH   45424      US  US/Eastern         KFFO   \n",
       "2    R  Cincinnati    Hamilton    OH   45203      US  US/Eastern         KLUK   \n",
       "3    R       Akron      Summit    OH   44311      US  US/Eastern         KAKR   \n",
       "\n",
       "     Weather_Timestamp  Temperature(F)  Wind_Chill(F)  Humidity(%)  \\\n",
       "0  2016-02-08 00:53:00            42.1           36.1         58.0   \n",
       "1  2016-02-08 05:58:00            36.9            NaN         91.0   \n",
       "2  2016-02-08 05:53:00            36.0            NaN         97.0   \n",
       "3  2016-02-08 06:54:00            39.0            NaN         55.0   \n",
       "\n",
       "   Pressure(in)  Visibility(mi) Wind_Direction  Wind_Speed(mph)  \\\n",
       "0         29.76            10.0             SW             10.4   \n",
       "1         29.68            10.0           Calm              NaN   \n",
       "2         29.70            10.0           Calm              NaN   \n",
       "3         29.65            10.0           Calm              NaN   \n",
       "\n",
       "   Precipitation(in) Weather_Condition  Amenity   Bump  Crossing  Give_Way  \\\n",
       "0               0.00        Light Rain    False  False     False     False   \n",
       "1               0.02        Light Rain    False  False     False     False   \n",
       "2               0.02          Overcast    False  False     False     False   \n",
       "3                NaN          Overcast    False  False     False     False   \n",
       "\n",
       "   Junction  No_Exit  Railway  Roundabout  Station   Stop  Traffic_Calming  \\\n",
       "0     False    False    False       False    False  False            False   \n",
       "1     False    False    False       False    False  False            False   \n",
       "2      True    False    False       False    False  False            False   \n",
       "3     False    False    False       False    False  False            False   \n",
       "\n",
       "   Traffic_Signal  Turning_Loop Sunrise_Sunset Civil_Twilight  \\\n",
       "0           False         False          Night          Night   \n",
       "1           False         False          Night          Night   \n",
       "2           False         False          Night          Night   \n",
       "3           False         False          Night          Night   \n",
       "\n",
       "  Nautical_Twilight Astronomical_Twilight  \n",
       "0             Night                 Night  \n",
       "1             Night                 Night  \n",
       "2             Night                   Day  \n",
       "3               Day                   Day  "
      ]
     },
     "execution_count": 6,
     "metadata": {},
     "output_type": "execute_result"
    }
   ],
   "source": [
    "df.head(4)"
   ]
  },
  {
   "cell_type": "code",
   "execution_count": 7,
   "id": "cfdfc5ba",
   "metadata": {},
   "outputs": [
    {
     "name": "stdout",
     "output_type": "stream",
     "text": [
      "<class 'pandas.core.frame.DataFrame'>\n",
      "RangeIndex: 2845342 entries, 0 to 2845341\n",
      "Data columns (total 47 columns):\n",
      " #   Column                 Dtype  \n",
      "---  ------                 -----  \n",
      " 0   ID                     object \n",
      " 1   Severity               int64  \n",
      " 2   Start_Time             object \n",
      " 3   End_Time               object \n",
      " 4   Start_Lat              float64\n",
      " 5   Start_Lng              float64\n",
      " 6   End_Lat                float64\n",
      " 7   End_Lng                float64\n",
      " 8   Distance(mi)           float64\n",
      " 9   Description            object \n",
      " 10  Number                 float64\n",
      " 11  Street                 object \n",
      " 12  Side                   object \n",
      " 13  City                   object \n",
      " 14  County                 object \n",
      " 15  State                  object \n",
      " 16  Zipcode                object \n",
      " 17  Country                object \n",
      " 18  Timezone               object \n",
      " 19  Airport_Code           object \n",
      " 20  Weather_Timestamp      object \n",
      " 21  Temperature(F)         float64\n",
      " 22  Wind_Chill(F)          float64\n",
      " 23  Humidity(%)            float64\n",
      " 24  Pressure(in)           float64\n",
      " 25  Visibility(mi)         float64\n",
      " 26  Wind_Direction         object \n",
      " 27  Wind_Speed(mph)        float64\n",
      " 28  Precipitation(in)      float64\n",
      " 29  Weather_Condition      object \n",
      " 30  Amenity                bool   \n",
      " 31  Bump                   bool   \n",
      " 32  Crossing               bool   \n",
      " 33  Give_Way               bool   \n",
      " 34  Junction               bool   \n",
      " 35  No_Exit                bool   \n",
      " 36  Railway                bool   \n",
      " 37  Roundabout             bool   \n",
      " 38  Station                bool   \n",
      " 39  Stop                   bool   \n",
      " 40  Traffic_Calming        bool   \n",
      " 41  Traffic_Signal         bool   \n",
      " 42  Turning_Loop           bool   \n",
      " 43  Sunrise_Sunset         object \n",
      " 44  Civil_Twilight         object \n",
      " 45  Nautical_Twilight      object \n",
      " 46  Astronomical_Twilight  object \n",
      "dtypes: bool(13), float64(13), int64(1), object(20)\n",
      "memory usage: 773.4+ MB\n"
     ]
    }
   ],
   "source": [
    "df.info()"
   ]
  },
  {
   "cell_type": "code",
   "execution_count": 8,
   "id": "b0d6a837",
   "metadata": {
    "scrolled": false
   },
   "outputs": [
    {
     "data": {
      "text/html": [
       "<div>\n",
       "<style scoped>\n",
       "    .dataframe tbody tr th:only-of-type {\n",
       "        vertical-align: middle;\n",
       "    }\n",
       "\n",
       "    .dataframe tbody tr th {\n",
       "        vertical-align: top;\n",
       "    }\n",
       "\n",
       "    .dataframe thead th {\n",
       "        text-align: right;\n",
       "    }\n",
       "</style>\n",
       "<table border=\"1\" class=\"dataframe\">\n",
       "  <thead>\n",
       "    <tr style=\"text-align: right;\">\n",
       "      <th></th>\n",
       "      <th>count</th>\n",
       "      <th>mean</th>\n",
       "      <th>std</th>\n",
       "      <th>min</th>\n",
       "      <th>25%</th>\n",
       "      <th>50%</th>\n",
       "      <th>75%</th>\n",
       "      <th>max</th>\n",
       "    </tr>\n",
       "  </thead>\n",
       "  <tbody>\n",
       "    <tr>\n",
       "      <th>Severity</th>\n",
       "      <td>2845342.0</td>\n",
       "      <td>2.137572</td>\n",
       "      <td>0.478722</td>\n",
       "      <td>1.000000</td>\n",
       "      <td>2.000000</td>\n",
       "      <td>2.000000</td>\n",
       "      <td>2.000000</td>\n",
       "      <td>4.000000e+00</td>\n",
       "    </tr>\n",
       "    <tr>\n",
       "      <th>Start_Lat</th>\n",
       "      <td>2845342.0</td>\n",
       "      <td>36.245201</td>\n",
       "      <td>5.363797</td>\n",
       "      <td>24.566027</td>\n",
       "      <td>33.445174</td>\n",
       "      <td>36.098609</td>\n",
       "      <td>40.160243</td>\n",
       "      <td>4.900058e+01</td>\n",
       "    </tr>\n",
       "    <tr>\n",
       "      <th>Start_Lng</th>\n",
       "      <td>2845342.0</td>\n",
       "      <td>-97.114633</td>\n",
       "      <td>18.317819</td>\n",
       "      <td>-124.548074</td>\n",
       "      <td>-118.033113</td>\n",
       "      <td>-92.418076</td>\n",
       "      <td>-80.372431</td>\n",
       "      <td>-6.711317e+01</td>\n",
       "    </tr>\n",
       "    <tr>\n",
       "      <th>End_Lat</th>\n",
       "      <td>2845342.0</td>\n",
       "      <td>36.245321</td>\n",
       "      <td>5.363873</td>\n",
       "      <td>24.566013</td>\n",
       "      <td>33.446278</td>\n",
       "      <td>36.097987</td>\n",
       "      <td>40.161049</td>\n",
       "      <td>4.907500e+01</td>\n",
       "    </tr>\n",
       "    <tr>\n",
       "      <th>End_Lng</th>\n",
       "      <td>2845342.0</td>\n",
       "      <td>-97.114387</td>\n",
       "      <td>18.317632</td>\n",
       "      <td>-124.545748</td>\n",
       "      <td>-118.033331</td>\n",
       "      <td>-92.417718</td>\n",
       "      <td>-80.373383</td>\n",
       "      <td>-6.710924e+01</td>\n",
       "    </tr>\n",
       "    <tr>\n",
       "      <th>Distance(mi)</th>\n",
       "      <td>2845342.0</td>\n",
       "      <td>0.702678</td>\n",
       "      <td>1.560361</td>\n",
       "      <td>0.000000</td>\n",
       "      <td>0.052000</td>\n",
       "      <td>0.244000</td>\n",
       "      <td>0.764000</td>\n",
       "      <td>1.551860e+02</td>\n",
       "    </tr>\n",
       "    <tr>\n",
       "      <th>Number</th>\n",
       "      <td>1101431.0</td>\n",
       "      <td>8089.408114</td>\n",
       "      <td>18360.093995</td>\n",
       "      <td>0.000000</td>\n",
       "      <td>1270.000000</td>\n",
       "      <td>4007.000000</td>\n",
       "      <td>9567.000000</td>\n",
       "      <td>9.999997e+06</td>\n",
       "    </tr>\n",
       "    <tr>\n",
       "      <th>Temperature(F)</th>\n",
       "      <td>2776068.0</td>\n",
       "      <td>61.793556</td>\n",
       "      <td>18.622629</td>\n",
       "      <td>-89.000000</td>\n",
       "      <td>50.000000</td>\n",
       "      <td>64.000000</td>\n",
       "      <td>76.000000</td>\n",
       "      <td>1.960000e+02</td>\n",
       "    </tr>\n",
       "    <tr>\n",
       "      <th>Wind_Chill(F)</th>\n",
       "      <td>2375699.0</td>\n",
       "      <td>59.658231</td>\n",
       "      <td>21.160967</td>\n",
       "      <td>-89.000000</td>\n",
       "      <td>46.000000</td>\n",
       "      <td>63.000000</td>\n",
       "      <td>76.000000</td>\n",
       "      <td>1.960000e+02</td>\n",
       "    </tr>\n",
       "    <tr>\n",
       "      <th>Humidity(%)</th>\n",
       "      <td>2772250.0</td>\n",
       "      <td>64.365452</td>\n",
       "      <td>22.874568</td>\n",
       "      <td>1.000000</td>\n",
       "      <td>48.000000</td>\n",
       "      <td>67.000000</td>\n",
       "      <td>83.000000</td>\n",
       "      <td>1.000000e+02</td>\n",
       "    </tr>\n",
       "    <tr>\n",
       "      <th>Pressure(in)</th>\n",
       "      <td>2786142.0</td>\n",
       "      <td>29.472344</td>\n",
       "      <td>1.045286</td>\n",
       "      <td>0.000000</td>\n",
       "      <td>29.310000</td>\n",
       "      <td>29.820000</td>\n",
       "      <td>30.010000</td>\n",
       "      <td>5.890000e+01</td>\n",
       "    </tr>\n",
       "    <tr>\n",
       "      <th>Visibility(mi)</th>\n",
       "      <td>2774796.0</td>\n",
       "      <td>9.099391</td>\n",
       "      <td>2.717546</td>\n",
       "      <td>0.000000</td>\n",
       "      <td>10.000000</td>\n",
       "      <td>10.000000</td>\n",
       "      <td>10.000000</td>\n",
       "      <td>1.400000e+02</td>\n",
       "    </tr>\n",
       "    <tr>\n",
       "      <th>Wind_Speed(mph)</th>\n",
       "      <td>2687398.0</td>\n",
       "      <td>7.395044</td>\n",
       "      <td>5.527454</td>\n",
       "      <td>0.000000</td>\n",
       "      <td>3.500000</td>\n",
       "      <td>7.000000</td>\n",
       "      <td>10.000000</td>\n",
       "      <td>1.087000e+03</td>\n",
       "    </tr>\n",
       "    <tr>\n",
       "      <th>Precipitation(in)</th>\n",
       "      <td>2295884.0</td>\n",
       "      <td>0.007017</td>\n",
       "      <td>0.093488</td>\n",
       "      <td>0.000000</td>\n",
       "      <td>0.000000</td>\n",
       "      <td>0.000000</td>\n",
       "      <td>0.000000</td>\n",
       "      <td>2.400000e+01</td>\n",
       "    </tr>\n",
       "  </tbody>\n",
       "</table>\n",
       "</div>"
      ],
      "text/plain": [
       "                       count         mean           std         min  \\\n",
       "Severity           2845342.0     2.137572      0.478722    1.000000   \n",
       "Start_Lat          2845342.0    36.245201      5.363797   24.566027   \n",
       "Start_Lng          2845342.0   -97.114633     18.317819 -124.548074   \n",
       "End_Lat            2845342.0    36.245321      5.363873   24.566013   \n",
       "End_Lng            2845342.0   -97.114387     18.317632 -124.545748   \n",
       "Distance(mi)       2845342.0     0.702678      1.560361    0.000000   \n",
       "Number             1101431.0  8089.408114  18360.093995    0.000000   \n",
       "Temperature(F)     2776068.0    61.793556     18.622629  -89.000000   \n",
       "Wind_Chill(F)      2375699.0    59.658231     21.160967  -89.000000   \n",
       "Humidity(%)        2772250.0    64.365452     22.874568    1.000000   \n",
       "Pressure(in)       2786142.0    29.472344      1.045286    0.000000   \n",
       "Visibility(mi)     2774796.0     9.099391      2.717546    0.000000   \n",
       "Wind_Speed(mph)    2687398.0     7.395044      5.527454    0.000000   \n",
       "Precipitation(in)  2295884.0     0.007017      0.093488    0.000000   \n",
       "\n",
       "                           25%          50%          75%           max  \n",
       "Severity              2.000000     2.000000     2.000000  4.000000e+00  \n",
       "Start_Lat            33.445174    36.098609    40.160243  4.900058e+01  \n",
       "Start_Lng          -118.033113   -92.418076   -80.372431 -6.711317e+01  \n",
       "End_Lat              33.446278    36.097987    40.161049  4.907500e+01  \n",
       "End_Lng            -118.033331   -92.417718   -80.373383 -6.710924e+01  \n",
       "Distance(mi)          0.052000     0.244000     0.764000  1.551860e+02  \n",
       "Number             1270.000000  4007.000000  9567.000000  9.999997e+06  \n",
       "Temperature(F)       50.000000    64.000000    76.000000  1.960000e+02  \n",
       "Wind_Chill(F)        46.000000    63.000000    76.000000  1.960000e+02  \n",
       "Humidity(%)          48.000000    67.000000    83.000000  1.000000e+02  \n",
       "Pressure(in)         29.310000    29.820000    30.010000  5.890000e+01  \n",
       "Visibility(mi)       10.000000    10.000000    10.000000  1.400000e+02  \n",
       "Wind_Speed(mph)       3.500000     7.000000    10.000000  1.087000e+03  \n",
       "Precipitation(in)     0.000000     0.000000     0.000000  2.400000e+01  "
      ]
     },
     "execution_count": 8,
     "metadata": {},
     "output_type": "execute_result"
    }
   ],
   "source": [
    "df.describe().transpose()"
   ]
  },
  {
   "cell_type": "markdown",
   "id": "38527336",
   "metadata": {},
   "source": [
    "#### Percentage of missing values per column"
   ]
  },
  {
   "cell_type": "code",
   "execution_count": 9,
   "id": "dd78d021",
   "metadata": {},
   "outputs": [
    {
     "data": {
      "text/plain": [
       "Number                   1743911\n",
       "Precipitation(in)         549458\n",
       "Wind_Chill(F)             469643\n",
       "Wind_Speed(mph)           157944\n",
       "Wind_Direction             73775\n",
       "Humidity(%)                73092\n",
       "Weather_Condition          70636\n",
       "Visibility(mi)             70546\n",
       "Temperature(F)             69274\n",
       "Pressure(in)               59200\n",
       "Weather_Timestamp          50736\n",
       "Airport_Code                9549\n",
       "Timezone                    3659\n",
       "Nautical_Twilight           2867\n",
       "Civil_Twilight              2867\n",
       "Sunrise_Sunset              2867\n",
       "Astronomical_Twilight       2867\n",
       "Zipcode                     1319\n",
       "City                         137\n",
       "Street                         2\n",
       "Country                        0\n",
       "Junction                       0\n",
       "Start_Time                     0\n",
       "End_Time                       0\n",
       "Start_Lat                      0\n",
       "Turning_Loop                   0\n",
       "Traffic_Signal                 0\n",
       "Traffic_Calming                0\n",
       "Stop                           0\n",
       "Station                        0\n",
       "Roundabout                     0\n",
       "Railway                        0\n",
       "No_Exit                        0\n",
       "Crossing                       0\n",
       "Give_Way                       0\n",
       "Bump                           0\n",
       "Amenity                        0\n",
       "Start_Lng                      0\n",
       "End_Lat                        0\n",
       "End_Lng                        0\n",
       "Distance(mi)                   0\n",
       "Description                    0\n",
       "Severity                       0\n",
       "Side                           0\n",
       "County                         0\n",
       "State                          0\n",
       "ID                             0\n",
       "dtype: int64"
      ]
     },
     "execution_count": 9,
     "metadata": {},
     "output_type": "execute_result"
    }
   ],
   "source": [
    "df.isnull().sum().sort_values(ascending=False)"
   ]
  },
  {
   "cell_type": "code",
   "execution_count": 10,
   "id": "2cab5f54",
   "metadata": {},
   "outputs": [
    {
     "data": {
      "text/plain": [
       "Number                   6.129003e-01\n",
       "Precipitation(in)        1.931079e-01\n",
       "Wind_Chill(F)            1.650568e-01\n",
       "Wind_Speed(mph)          5.550967e-02\n",
       "Wind_Direction           2.592834e-02\n",
       "Humidity(%)              2.568830e-02\n",
       "Weather_Condition        2.482514e-02\n",
       "Visibility(mi)           2.479350e-02\n",
       "Temperature(F)           2.434646e-02\n",
       "Pressure(in)             2.080593e-02\n",
       "Weather_Timestamp        1.783125e-02\n",
       "Airport_Code             3.356011e-03\n",
       "Timezone                 1.285961e-03\n",
       "Sunrise_Sunset           1.007612e-03\n",
       "Civil_Twilight           1.007612e-03\n",
       "Nautical_Twilight        1.007612e-03\n",
       "Astronomical_Twilight    1.007612e-03\n",
       "Zipcode                  4.635647e-04\n",
       "City                     4.814887e-05\n",
       "Street                   7.029032e-07\n",
       "dtype: float64"
      ]
     },
     "execution_count": 10,
     "metadata": {},
     "output_type": "execute_result"
    }
   ],
   "source": [
    "missing_percentage=df.isnull().sum()/len(df)\n",
    "missing_percentage[missing_percentage!=0].sort_values(ascending=False)"
   ]
  },
  {
   "cell_type": "code",
   "execution_count": 11,
   "id": "50d57d2e",
   "metadata": {
    "scrolled": false
   },
   "outputs": [
    {
     "data": {
      "text/plain": [
       "<AxesSubplot:>"
      ]
     },
     "execution_count": 11,
     "metadata": {},
     "output_type": "execute_result"
    },
    {
     "data": {
      "image/png": "[encoded data removed]",
      "text/plain": [
       "<Figure size 432x288 with 1 Axes>"
      ]
     },
     "metadata": {},
     "output_type": "display_data"
    }
   ],
   "source": [
    "missing_percentage[missing_percentage!=0].sort_values(ascending=False).plot(kind='bar',logy=True)"
   ]
  },
  {
   "cell_type": "markdown",
   "id": "e0472d47",
   "metadata": {},
   "source": [
    "✅Number, Precipitation, Wind_Chill, Wind_Speed has most null values"
   ]
  },
  {
   "cell_type": "code",
   "execution_count": 12,
   "id": "1bfbecc2",
   "metadata": {},
   "outputs": [
    {
     "data": {
      "text/html": [
       "<div>\n",
       "<style scoped>\n",
       "    .dataframe tbody tr th:only-of-type {\n",
       "        vertical-align: middle;\n",
       "    }\n",
       "\n",
       "    .dataframe tbody tr th {\n",
       "        vertical-align: top;\n",
       "    }\n",
       "\n",
       "    .dataframe thead th {\n",
       "        text-align: right;\n",
       "    }\n",
       "</style>\n",
       "<table border=\"1\" class=\"dataframe\">\n",
       "  <thead>\n",
       "    <tr style=\"text-align: right;\">\n",
       "      <th></th>\n",
       "      <th>ID</th>\n",
       "      <th>Severity</th>\n",
       "      <th>Start_Time</th>\n",
       "      <th>End_Time</th>\n",
       "      <th>Start_Lat</th>\n",
       "      <th>Start_Lng</th>\n",
       "      <th>End_Lat</th>\n",
       "      <th>End_Lng</th>\n",
       "      <th>Distance(mi)</th>\n",
       "      <th>Description</th>\n",
       "      <th>Number</th>\n",
       "      <th>Street</th>\n",
       "      <th>Side</th>\n",
       "      <th>City</th>\n",
       "      <th>County</th>\n",
       "      <th>State</th>\n",
       "      <th>Zipcode</th>\n",
       "      <th>Country</th>\n",
       "      <th>Timezone</th>\n",
       "      <th>Airport_Code</th>\n",
       "      <th>Weather_Timestamp</th>\n",
       "      <th>Temperature(F)</th>\n",
       "      <th>Wind_Chill(F)</th>\n",
       "      <th>Humidity(%)</th>\n",
       "      <th>Pressure(in)</th>\n",
       "      <th>Visibility(mi)</th>\n",
       "      <th>Wind_Direction</th>\n",
       "      <th>Wind_Speed(mph)</th>\n",
       "      <th>Precipitation(in)</th>\n",
       "      <th>Weather_Condition</th>\n",
       "      <th>Amenity</th>\n",
       "      <th>Bump</th>\n",
       "      <th>Crossing</th>\n",
       "      <th>Give_Way</th>\n",
       "      <th>Junction</th>\n",
       "      <th>No_Exit</th>\n",
       "      <th>Railway</th>\n",
       "      <th>Roundabout</th>\n",
       "      <th>Station</th>\n",
       "      <th>Stop</th>\n",
       "      <th>Traffic_Calming</th>\n",
       "      <th>Traffic_Signal</th>\n",
       "      <th>Turning_Loop</th>\n",
       "      <th>Sunrise_Sunset</th>\n",
       "      <th>Civil_Twilight</th>\n",
       "      <th>Nautical_Twilight</th>\n",
       "      <th>Astronomical_Twilight</th>\n",
       "    </tr>\n",
       "  </thead>\n",
       "  <tbody>\n",
       "    <tr>\n",
       "      <th>0</th>\n",
       "      <td>A-1</td>\n",
       "      <td>3</td>\n",
       "      <td>2016-02-08 00:37:08</td>\n",
       "      <td>2016-02-08 06:37:08</td>\n",
       "      <td>40.10891</td>\n",
       "      <td>-83.09286</td>\n",
       "      <td>40.11206</td>\n",
       "      <td>-83.03187</td>\n",
       "      <td>3.230</td>\n",
       "      <td>Between Sawmill Rd/Exit 20 and OH-315/Olentang...</td>\n",
       "      <td>NaN</td>\n",
       "      <td>Outerbelt E</td>\n",
       "      <td>R</td>\n",
       "      <td>Dublin</td>\n",
       "      <td>Franklin</td>\n",
       "      <td>OH</td>\n",
       "      <td>43017</td>\n",
       "      <td>US</td>\n",
       "      <td>US/Eastern</td>\n",
       "      <td>KOSU</td>\n",
       "      <td>2016-02-08 00:53:00</td>\n",
       "      <td>42.1</td>\n",
       "      <td>36.1</td>\n",
       "      <td>58.0</td>\n",
       "      <td>29.76</td>\n",
       "      <td>10.0</td>\n",
       "      <td>SW</td>\n",
       "      <td>10.4</td>\n",
       "      <td>0.00</td>\n",
       "      <td>Light Rain</td>\n",
       "      <td>False</td>\n",
       "      <td>False</td>\n",
       "      <td>False</td>\n",
       "      <td>False</td>\n",
       "      <td>False</td>\n",
       "      <td>False</td>\n",
       "      <td>False</td>\n",
       "      <td>False</td>\n",
       "      <td>False</td>\n",
       "      <td>False</td>\n",
       "      <td>False</td>\n",
       "      <td>False</td>\n",
       "      <td>False</td>\n",
       "      <td>Night</td>\n",
       "      <td>Night</td>\n",
       "      <td>Night</td>\n",
       "      <td>Night</td>\n",
       "    </tr>\n",
       "    <tr>\n",
       "      <th>1</th>\n",
       "      <td>A-2</td>\n",
       "      <td>2</td>\n",
       "      <td>2016-02-08 05:56:20</td>\n",
       "      <td>2016-02-08 11:56:20</td>\n",
       "      <td>39.86542</td>\n",
       "      <td>-84.06280</td>\n",
       "      <td>39.86501</td>\n",
       "      <td>-84.04873</td>\n",
       "      <td>0.747</td>\n",
       "      <td>At OH-4/OH-235/Exit 41 - Accident.</td>\n",
       "      <td>NaN</td>\n",
       "      <td>I-70 E</td>\n",
       "      <td>R</td>\n",
       "      <td>Dayton</td>\n",
       "      <td>Montgomery</td>\n",
       "      <td>OH</td>\n",
       "      <td>45424</td>\n",
       "      <td>US</td>\n",
       "      <td>US/Eastern</td>\n",
       "      <td>KFFO</td>\n",
       "      <td>2016-02-08 05:58:00</td>\n",
       "      <td>36.9</td>\n",
       "      <td>NaN</td>\n",
       "      <td>91.0</td>\n",
       "      <td>29.68</td>\n",
       "      <td>10.0</td>\n",
       "      <td>Calm</td>\n",
       "      <td>NaN</td>\n",
       "      <td>0.02</td>\n",
       "      <td>Light Rain</td>\n",
       "      <td>False</td>\n",
       "      <td>False</td>\n",
       "      <td>False</td>\n",
       "      <td>False</td>\n",
       "      <td>False</td>\n",
       "      <td>False</td>\n",
       "      <td>False</td>\n",
       "      <td>False</td>\n",
       "      <td>False</td>\n",
       "      <td>False</td>\n",
       "      <td>False</td>\n",
       "      <td>False</td>\n",
       "      <td>False</td>\n",
       "      <td>Night</td>\n",
       "      <td>Night</td>\n",
       "      <td>Night</td>\n",
       "      <td>Night</td>\n",
       "    </tr>\n",
       "    <tr>\n",
       "      <th>2</th>\n",
       "      <td>A-3</td>\n",
       "      <td>2</td>\n",
       "      <td>2016-02-08 06:15:39</td>\n",
       "      <td>2016-02-08 12:15:39</td>\n",
       "      <td>39.10266</td>\n",
       "      <td>-84.52468</td>\n",
       "      <td>39.10209</td>\n",
       "      <td>-84.52396</td>\n",
       "      <td>0.055</td>\n",
       "      <td>At I-71/US-50/Exit 1 - Accident.</td>\n",
       "      <td>NaN</td>\n",
       "      <td>I-75 S</td>\n",
       "      <td>R</td>\n",
       "      <td>Cincinnati</td>\n",
       "      <td>Hamilton</td>\n",
       "      <td>OH</td>\n",
       "      <td>45203</td>\n",
       "      <td>US</td>\n",
       "      <td>US/Eastern</td>\n",
       "      <td>KLUK</td>\n",
       "      <td>2016-02-08 05:53:00</td>\n",
       "      <td>36.0</td>\n",
       "      <td>NaN</td>\n",
       "      <td>97.0</td>\n",
       "      <td>29.70</td>\n",
       "      <td>10.0</td>\n",
       "      <td>Calm</td>\n",
       "      <td>NaN</td>\n",
       "      <td>0.02</td>\n",
       "      <td>Overcast</td>\n",
       "      <td>False</td>\n",
       "      <td>False</td>\n",
       "      <td>False</td>\n",
       "      <td>False</td>\n",
       "      <td>True</td>\n",
       "      <td>False</td>\n",
       "      <td>False</td>\n",
       "      <td>False</td>\n",
       "      <td>False</td>\n",
       "      <td>False</td>\n",
       "      <td>False</td>\n",
       "      <td>False</td>\n",
       "      <td>False</td>\n",
       "      <td>Night</td>\n",
       "      <td>Night</td>\n",
       "      <td>Night</td>\n",
       "      <td>Day</td>\n",
       "    </tr>\n",
       "  </tbody>\n",
       "</table>\n",
       "</div>"
      ],
      "text/plain": [
       "    ID  Severity           Start_Time             End_Time  Start_Lat  \\\n",
       "0  A-1         3  2016-02-08 00:37:08  2016-02-08 06:37:08   40.10891   \n",
       "1  A-2         2  2016-02-08 05:56:20  2016-02-08 11:56:20   39.86542   \n",
       "2  A-3         2  2016-02-08 06:15:39  2016-02-08 12:15:39   39.10266   \n",
       "\n",
       "   Start_Lng   End_Lat   End_Lng  Distance(mi)  \\\n",
       "0  -83.09286  40.11206 -83.03187         3.230   \n",
       "1  -84.06280  39.86501 -84.04873         0.747   \n",
       "2  -84.52468  39.10209 -84.52396         0.055   \n",
       "\n",
       "                                         Description  Number       Street  \\\n",
       "0  Between Sawmill Rd/Exit 20 and OH-315/Olentang...     NaN  Outerbelt E   \n",
       "1                 At OH-4/OH-235/Exit 41 - Accident.     NaN       I-70 E   \n",
       "2                   At I-71/US-50/Exit 1 - Accident.     NaN       I-75 S   \n",
       "\n",
       "  Side        City      County State Zipcode Country    Timezone Airport_Code  \\\n",
       "0    R      Dublin    Franklin    OH   43017      US  US/Eastern         KOSU   \n",
       "1    R      Dayton  Montgomery    OH   45424      US  US/Eastern         KFFO   \n",
       "2    R  Cincinnati    Hamilton    OH   45203      US  US/Eastern         KLUK   \n",
       "\n",
       "     Weather_Timestamp  Temperature(F)  Wind_Chill(F)  Humidity(%)  \\\n",
       "0  2016-02-08 00:53:00            42.1           36.1         58.0   \n",
       "1  2016-02-08 05:58:00            36.9            NaN         91.0   \n",
       "2  2016-02-08 05:53:00            36.0            NaN         97.0   \n",
       "\n",
       "   Pressure(in)  Visibility(mi) Wind_Direction  Wind_Speed(mph)  \\\n",
       "0         29.76            10.0             SW             10.4   \n",
       "1         29.68            10.0           Calm              NaN   \n",
       "2         29.70            10.0           Calm              NaN   \n",
       "\n",
       "   Precipitation(in) Weather_Condition  Amenity   Bump  Crossing  Give_Way  \\\n",
       "0               0.00        Light Rain    False  False     False     False   \n",
       "1               0.02        Light Rain    False  False     False     False   \n",
       "2               0.02          Overcast    False  False     False     False   \n",
       "\n",
       "   Junction  No_Exit  Railway  Roundabout  Station   Stop  Traffic_Calming  \\\n",
       "0     False    False    False       False    False  False            False   \n",
       "1     False    False    False       False    False  False            False   \n",
       "2      True    False    False       False    False  False            False   \n",
       "\n",
       "   Traffic_Signal  Turning_Loop Sunrise_Sunset Civil_Twilight  \\\n",
       "0           False         False          Night          Night   \n",
       "1           False         False          Night          Night   \n",
       "2           False         False          Night          Night   \n",
       "\n",
       "  Nautical_Twilight Astronomical_Twilight  \n",
       "0             Night                 Night  \n",
       "1             Night                 Night  \n",
       "2             Night                   Day  "
      ]
     },
     "execution_count": 12,
     "metadata": {},
     "output_type": "execute_result"
    }
   ],
   "source": [
    "df.head(3)"
   ]
  },
  {
   "cell_type": "markdown",
   "id": "6c59aa3c",
   "metadata": {},
   "source": [
    "#### Dropping unncessary columns:"
   ]
  },
  {
   "cell_type": "code",
   "execution_count": 13,
   "id": "fb3d8ea7",
   "metadata": {},
   "outputs": [
    {
     "data": {
      "text/html": [
       "<div>\n",
       "<style scoped>\n",
       "    .dataframe tbody tr th:only-of-type {\n",
       "        vertical-align: middle;\n",
       "    }\n",
       "\n",
       "    .dataframe tbody tr th {\n",
       "        vertical-align: top;\n",
       "    }\n",
       "\n",
       "    .dataframe thead th {\n",
       "        text-align: right;\n",
       "    }\n",
       "</style>\n",
       "<table border=\"1\" class=\"dataframe\">\n",
       "  <thead>\n",
       "    <tr style=\"text-align: right;\">\n",
       "      <th></th>\n",
       "      <th>ID</th>\n",
       "      <th>Severity</th>\n",
       "      <th>Start_Time</th>\n",
       "      <th>End_Time</th>\n",
       "      <th>Start_Lat</th>\n",
       "      <th>Start_Lng</th>\n",
       "      <th>Distance(mi)</th>\n",
       "      <th>City</th>\n",
       "      <th>State</th>\n",
       "      <th>Timezone</th>\n",
       "      <th>Airport_Code</th>\n",
       "      <th>Temperature(F)</th>\n",
       "      <th>Humidity(%)</th>\n",
       "      <th>Pressure(in)</th>\n",
       "      <th>Visibility(mi)</th>\n",
       "      <th>Wind_Direction</th>\n",
       "      <th>Wind_Speed(mph)</th>\n",
       "      <th>Precipitation(in)</th>\n",
       "      <th>Weather_Condition</th>\n",
       "      <th>Amenity</th>\n",
       "      <th>Bump</th>\n",
       "      <th>Crossing</th>\n",
       "      <th>Give_Way</th>\n",
       "      <th>Junction</th>\n",
       "      <th>No_Exit</th>\n",
       "      <th>Railway</th>\n",
       "      <th>Roundabout</th>\n",
       "      <th>Station</th>\n",
       "      <th>Stop</th>\n",
       "      <th>Traffic_Calming</th>\n",
       "      <th>Traffic_Signal</th>\n",
       "      <th>Turning_Loop</th>\n",
       "      <th>Sunrise_Sunset</th>\n",
       "    </tr>\n",
       "  </thead>\n",
       "  <tbody>\n",
       "    <tr>\n",
       "      <th>0</th>\n",
       "      <td>A-1</td>\n",
       "      <td>3</td>\n",
       "      <td>2016-02-08 00:37:08</td>\n",
       "      <td>2016-02-08 06:37:08</td>\n",
       "      <td>40.108910</td>\n",
       "      <td>-83.092860</td>\n",
       "      <td>3.230</td>\n",
       "      <td>Dublin</td>\n",
       "      <td>OH</td>\n",
       "      <td>US/Eastern</td>\n",
       "      <td>KOSU</td>\n",
       "      <td>42.1</td>\n",
       "      <td>58.0</td>\n",
       "      <td>29.76</td>\n",
       "      <td>10.0</td>\n",
       "      <td>SW</td>\n",
       "      <td>10.4</td>\n",
       "      <td>0.00</td>\n",
       "      <td>Light Rain</td>\n",
       "      <td>False</td>\n",
       "      <td>False</td>\n",
       "      <td>False</td>\n",
       "      <td>False</td>\n",
       "      <td>False</td>\n",
       "      <td>False</td>\n",
       "      <td>False</td>\n",
       "      <td>False</td>\n",
       "      <td>False</td>\n",
       "      <td>False</td>\n",
       "      <td>False</td>\n",
       "      <td>False</td>\n",
       "      <td>False</td>\n",
       "      <td>Night</td>\n",
       "    </tr>\n",
       "    <tr>\n",
       "      <th>1</th>\n",
       "      <td>A-2</td>\n",
       "      <td>2</td>\n",
       "      <td>2016-02-08 05:56:20</td>\n",
       "      <td>2016-02-08 11:56:20</td>\n",
       "      <td>39.865420</td>\n",
       "      <td>-84.062800</td>\n",
       "      <td>0.747</td>\n",
       "      <td>Dayton</td>\n",
       "      <td>OH</td>\n",
       "      <td>US/Eastern</td>\n",
       "      <td>KFFO</td>\n",
       "      <td>36.9</td>\n",
       "      <td>91.0</td>\n",
       "      <td>29.68</td>\n",
       "      <td>10.0</td>\n",
       "      <td>Calm</td>\n",
       "      <td>NaN</td>\n",
       "      <td>0.02</td>\n",
       "      <td>Light Rain</td>\n",
       "      <td>False</td>\n",
       "      <td>False</td>\n",
       "      <td>False</td>\n",
       "      <td>False</td>\n",
       "      <td>False</td>\n",
       "      <td>False</td>\n",
       "      <td>False</td>\n",
       "      <td>False</td>\n",
       "      <td>False</td>\n",
       "      <td>False</td>\n",
       "      <td>False</td>\n",
       "      <td>False</td>\n",
       "      <td>False</td>\n",
       "      <td>Night</td>\n",
       "    </tr>\n",
       "    <tr>\n",
       "      <th>2</th>\n",
       "      <td>A-3</td>\n",
       "      <td>2</td>\n",
       "      <td>2016-02-08 06:15:39</td>\n",
       "      <td>2016-02-08 12:15:39</td>\n",
       "      <td>39.102660</td>\n",
       "      <td>-84.524680</td>\n",
       "      <td>0.055</td>\n",
       "      <td>Cincinnati</td>\n",
       "      <td>OH</td>\n",
       "      <td>US/Eastern</td>\n",
       "      <td>KLUK</td>\n",
       "      <td>36.0</td>\n",
       "      <td>97.0</td>\n",
       "      <td>29.70</td>\n",
       "      <td>10.0</td>\n",
       "      <td>Calm</td>\n",
       "      <td>NaN</td>\n",
       "      <td>0.02</td>\n",
       "      <td>Overcast</td>\n",
       "      <td>False</td>\n",
       "      <td>False</td>\n",
       "      <td>False</td>\n",
       "      <td>False</td>\n",
       "      <td>True</td>\n",
       "      <td>False</td>\n",
       "      <td>False</td>\n",
       "      <td>False</td>\n",
       "      <td>False</td>\n",
       "      <td>False</td>\n",
       "      <td>False</td>\n",
       "      <td>False</td>\n",
       "      <td>False</td>\n",
       "      <td>Night</td>\n",
       "    </tr>\n",
       "    <tr>\n",
       "      <th>3</th>\n",
       "      <td>A-4</td>\n",
       "      <td>2</td>\n",
       "      <td>2016-02-08 06:51:45</td>\n",
       "      <td>2016-02-08 12:51:45</td>\n",
       "      <td>41.062130</td>\n",
       "      <td>-81.537840</td>\n",
       "      <td>0.123</td>\n",
       "      <td>Akron</td>\n",
       "      <td>OH</td>\n",
       "      <td>US/Eastern</td>\n",
       "      <td>KAKR</td>\n",
       "      <td>39.0</td>\n",
       "      <td>55.0</td>\n",
       "      <td>29.65</td>\n",
       "      <td>10.0</td>\n",
       "      <td>Calm</td>\n",
       "      <td>NaN</td>\n",
       "      <td>NaN</td>\n",
       "      <td>Overcast</td>\n",
       "      <td>False</td>\n",
       "      <td>False</td>\n",
       "      <td>False</td>\n",
       "      <td>False</td>\n",
       "      <td>False</td>\n",
       "      <td>False</td>\n",
       "      <td>False</td>\n",
       "      <td>False</td>\n",
       "      <td>False</td>\n",
       "      <td>False</td>\n",
       "      <td>False</td>\n",
       "      <td>False</td>\n",
       "      <td>False</td>\n",
       "      <td>Night</td>\n",
       "    </tr>\n",
       "    <tr>\n",
       "      <th>4</th>\n",
       "      <td>A-5</td>\n",
       "      <td>3</td>\n",
       "      <td>2016-02-08 07:53:43</td>\n",
       "      <td>2016-02-08 13:53:43</td>\n",
       "      <td>39.172393</td>\n",
       "      <td>-84.492792</td>\n",
       "      <td>0.500</td>\n",
       "      <td>Cincinnati</td>\n",
       "      <td>OH</td>\n",
       "      <td>US/Eastern</td>\n",
       "      <td>KLUK</td>\n",
       "      <td>37.0</td>\n",
       "      <td>93.0</td>\n",
       "      <td>29.69</td>\n",
       "      <td>10.0</td>\n",
       "      <td>WSW</td>\n",
       "      <td>10.4</td>\n",
       "      <td>0.01</td>\n",
       "      <td>Light Rain</td>\n",
       "      <td>False</td>\n",
       "      <td>False</td>\n",
       "      <td>False</td>\n",
       "      <td>False</td>\n",
       "      <td>False</td>\n",
       "      <td>False</td>\n",
       "      <td>False</td>\n",
       "      <td>False</td>\n",
       "      <td>False</td>\n",
       "      <td>False</td>\n",
       "      <td>False</td>\n",
       "      <td>False</td>\n",
       "      <td>False</td>\n",
       "      <td>Day</td>\n",
       "    </tr>\n",
       "  </tbody>\n",
       "</table>\n",
       "</div>"
      ],
      "text/plain": [
       "    ID  Severity           Start_Time             End_Time  Start_Lat  \\\n",
       "0  A-1         3  2016-02-08 00:37:08  2016-02-08 06:37:08  40.108910   \n",
       "1  A-2         2  2016-02-08 05:56:20  2016-02-08 11:56:20  39.865420   \n",
       "2  A-3         2  2016-02-08 06:15:39  2016-02-08 12:15:39  39.102660   \n",
       "3  A-4         2  2016-02-08 06:51:45  2016-02-08 12:51:45  41.062130   \n",
       "4  A-5         3  2016-02-08 07:53:43  2016-02-08 13:53:43  39.172393   \n",
       "\n",
       "   Start_Lng  Distance(mi)        City State    Timezone Airport_Code  \\\n",
       "0 -83.092860         3.230      Dublin    OH  US/Eastern         KOSU   \n",
       "1 -84.062800         0.747      Dayton    OH  US/Eastern         KFFO   \n",
       "2 -84.524680         0.055  Cincinnati    OH  US/Eastern         KLUK   \n",
       "3 -81.537840         0.123       Akron    OH  US/Eastern         KAKR   \n",
       "4 -84.492792         0.500  Cincinnati    OH  US/Eastern         KLUK   \n",
       "\n",
       "   Temperature(F)  Humidity(%)  Pressure(in)  Visibility(mi) Wind_Direction  \\\n",
       "0            42.1         58.0         29.76            10.0             SW   \n",
       "1            36.9         91.0         29.68            10.0           Calm   \n",
       "2            36.0         97.0         29.70            10.0           Calm   \n",
       "3            39.0         55.0         29.65            10.0           Calm   \n",
       "4            37.0         93.0         29.69            10.0            WSW   \n",
       "\n",
       "   Wind_Speed(mph)  Precipitation(in) Weather_Condition  Amenity   Bump  \\\n",
       "0             10.4               0.00        Light Rain    False  False   \n",
       "1              NaN               0.02        Light Rain    False  False   \n",
       "2              NaN               0.02          Overcast    False  False   \n",
       "3              NaN                NaN          Overcast    False  False   \n",
       "4             10.4               0.01        Light Rain    False  False   \n",
       "\n",
       "   Crossing  Give_Way  Junction  No_Exit  Railway  Roundabout  Station   Stop  \\\n",
       "0     False     False     False    False    False       False    False  False   \n",
       "1     False     False     False    False    False       False    False  False   \n",
       "2     False     False      True    False    False       False    False  False   \n",
       "3     False     False     False    False    False       False    False  False   \n",
       "4     False     False     False    False    False       False    False  False   \n",
       "\n",
       "   Traffic_Calming  Traffic_Signal  Turning_Loop Sunrise_Sunset  \n",
       "0            False           False         False          Night  \n",
       "1            False           False         False          Night  \n",
       "2            False           False         False          Night  \n",
       "3            False           False         False          Night  \n",
       "4            False           False         False            Day  "
      ]
     },
     "execution_count": 13,
     "metadata": {},
     "output_type": "execute_result"
    }
   ],
   "source": [
    "df=df.drop(['End_Lat','End_Lng','Description','Number','Street','Side','County','Zipcode','Country','Weather_Timestamp','Wind_Chill(F)','Civil_Twilight','Nautical_Twilight','Astronomical_Twilight'],axis=1)\n",
    "df.head()"
   ]
  },
  {
   "cell_type": "markdown",
   "id": "3fd5f050",
   "metadata": {},
   "source": [
    "### Exploratory Data Analysis and Visualization\n",
    "\n",
    "Columns to be analysed \n",
    "1. City \n",
    "2. Start Time\n",
    "3. Start Lat,Start Lng\n",
    "4. Temperature\n",
    "5. Weather Condition\n",
    "\n",
    "### City"
   ]
  },
  {
   "cell_type": "code",
   "execution_count": 14,
   "id": "5594c733",
   "metadata": {},
   "outputs": [
    {
     "data": {
      "text/plain": [
       "array(['Dublin', 'Dayton', 'Cincinnati', ..., 'Clarksdale', 'Bridgeboro',\n",
       "       'American Fork-Pleasant Grove'], dtype=object)"
      ]
     },
     "execution_count": 14,
     "metadata": {},
     "output_type": "execute_result"
    }
   ],
   "source": [
    "df.City.unique()"
   ]
  },
  {
   "cell_type": "code",
   "execution_count": 15,
   "id": "c706dabc",
   "metadata": {},
   "outputs": [
    {
     "data": {
      "text/plain": [
       "11682"
      ]
     },
     "execution_count": 15,
     "metadata": {},
     "output_type": "execute_result"
    }
   ],
   "source": [
    "len(df['City'].unique())"
   ]
  },
  {
   "cell_type": "code",
   "execution_count": 16,
   "id": "9fd4eab6",
   "metadata": {},
   "outputs": [
    {
     "data": {
      "text/plain": [
       "City         State\n",
       "Miami        FL       106896\n",
       "Los Angeles  CA        68956\n",
       "Orlando      FL        54654\n",
       "Dallas       TX        41615\n",
       "Houston      TX        39366\n",
       "Charlotte    NC        32998\n",
       "Sacramento   CA        32559\n",
       "San Diego    CA        26627\n",
       "Raleigh      NC        22837\n",
       "Minneapolis  MN        22768\n",
       "Portland     OR        20563\n",
       "Nashville    TN        20160\n",
       "Baton Rouge  LA        18182\n",
       "Austin       TX        17928\n",
       "Phoenix      AZ        16940\n",
       "Name: State, dtype: int64"
      ]
     },
     "execution_count": 16,
     "metadata": {},
     "output_type": "execute_result"
    }
   ],
   "source": [
    "top_cities=df.groupby('City')['State'].value_counts().sort_values(ascending=False)[:15]\n",
    "top_cities"
   ]
  },
  {
   "cell_type": "code",
   "execution_count": 17,
   "id": "0a0774f8",
   "metadata": {},
   "outputs": [],
   "source": [
    "top_cities=pd.DataFrame(top_cities)\n",
    "top_cities.index\n",
    "top_cities.columns=['Accidents']\n",
    "top_cities=top_cities.reset_index()"
   ]
  },
  {
   "cell_type": "code",
   "execution_count": 18,
   "id": "2dcdc010",
   "metadata": {},
   "outputs": [
    {
     "data": {
      "text/html": [
       "<div>\n",
       "<style scoped>\n",
       "    .dataframe tbody tr th:only-of-type {\n",
       "        vertical-align: middle;\n",
       "    }\n",
       "\n",
       "    .dataframe tbody tr th {\n",
       "        vertical-align: top;\n",
       "    }\n",
       "\n",
       "    .dataframe thead th {\n",
       "        text-align: right;\n",
       "    }\n",
       "</style>\n",
       "<table border=\"1\" class=\"dataframe\">\n",
       "  <thead>\n",
       "    <tr style=\"text-align: right;\">\n",
       "      <th></th>\n",
       "      <th>City</th>\n",
       "      <th>State</th>\n",
       "      <th>Accidents</th>\n",
       "    </tr>\n",
       "  </thead>\n",
       "  <tbody>\n",
       "    <tr>\n",
       "      <th>0</th>\n",
       "      <td>Miami</td>\n",
       "      <td>FL</td>\n",
       "      <td>106896</td>\n",
       "    </tr>\n",
       "    <tr>\n",
       "      <th>1</th>\n",
       "      <td>Los Angeles</td>\n",
       "      <td>CA</td>\n",
       "      <td>68956</td>\n",
       "    </tr>\n",
       "    <tr>\n",
       "      <th>2</th>\n",
       "      <td>Orlando</td>\n",
       "      <td>FL</td>\n",
       "      <td>54654</td>\n",
       "    </tr>\n",
       "    <tr>\n",
       "      <th>3</th>\n",
       "      <td>Dallas</td>\n",
       "      <td>TX</td>\n",
       "      <td>41615</td>\n",
       "    </tr>\n",
       "    <tr>\n",
       "      <th>4</th>\n",
       "      <td>Houston</td>\n",
       "      <td>TX</td>\n",
       "      <td>39366</td>\n",
       "    </tr>\n",
       "    <tr>\n",
       "      <th>5</th>\n",
       "      <td>Charlotte</td>\n",
       "      <td>NC</td>\n",
       "      <td>32998</td>\n",
       "    </tr>\n",
       "    <tr>\n",
       "      <th>6</th>\n",
       "      <td>Sacramento</td>\n",
       "      <td>CA</td>\n",
       "      <td>32559</td>\n",
       "    </tr>\n",
       "    <tr>\n",
       "      <th>7</th>\n",
       "      <td>San Diego</td>\n",
       "      <td>CA</td>\n",
       "      <td>26627</td>\n",
       "    </tr>\n",
       "    <tr>\n",
       "      <th>8</th>\n",
       "      <td>Raleigh</td>\n",
       "      <td>NC</td>\n",
       "      <td>22837</td>\n",
       "    </tr>\n",
       "    <tr>\n",
       "      <th>9</th>\n",
       "      <td>Minneapolis</td>\n",
       "      <td>MN</td>\n",
       "      <td>22768</td>\n",
       "    </tr>\n",
       "    <tr>\n",
       "      <th>10</th>\n",
       "      <td>Portland</td>\n",
       "      <td>OR</td>\n",
       "      <td>20563</td>\n",
       "    </tr>\n",
       "    <tr>\n",
       "      <th>11</th>\n",
       "      <td>Nashville</td>\n",
       "      <td>TN</td>\n",
       "      <td>20160</td>\n",
       "    </tr>\n",
       "    <tr>\n",
       "      <th>12</th>\n",
       "      <td>Baton Rouge</td>\n",
       "      <td>LA</td>\n",
       "      <td>18182</td>\n",
       "    </tr>\n",
       "    <tr>\n",
       "      <th>13</th>\n",
       "      <td>Austin</td>\n",
       "      <td>TX</td>\n",
       "      <td>17928</td>\n",
       "    </tr>\n",
       "    <tr>\n",
       "      <th>14</th>\n",
       "      <td>Phoenix</td>\n",
       "      <td>AZ</td>\n",
       "      <td>16940</td>\n",
       "    </tr>\n",
       "  </tbody>\n",
       "</table>\n",
       "</div>"
      ],
      "text/plain": [
       "           City State  Accidents\n",
       "0         Miami    FL     106896\n",
       "1   Los Angeles    CA      68956\n",
       "2       Orlando    FL      54654\n",
       "3        Dallas    TX      41615\n",
       "4       Houston    TX      39366\n",
       "5     Charlotte    NC      32998\n",
       "6    Sacramento    CA      32559\n",
       "7     San Diego    CA      26627\n",
       "8       Raleigh    NC      22837\n",
       "9   Minneapolis    MN      22768\n",
       "10     Portland    OR      20563\n",
       "11    Nashville    TN      20160\n",
       "12  Baton Rouge    LA      18182\n",
       "13       Austin    TX      17928\n",
       "14      Phoenix    AZ      16940"
      ]
     },
     "execution_count": 18,
     "metadata": {},
     "output_type": "execute_result"
    }
   ],
   "source": [
    "top_cities"
   ]
  },
  {
   "cell_type": "code",
   "execution_count": 19,
   "id": "336be537",
   "metadata": {},
   "outputs": [
    {
     "data": {
      "image/png": "[encoded data removed]",
      "text/plain": [
       "<Figure size 576x360 with 1 Axes>"
      ]
     },
     "metadata": {},
     "output_type": "display_data"
    }
   ],
   "source": [
    "plt.figure(figsize=(8,5))\n",
    "sns.barplot(x='City',y='Accidents', data=top_cities,ci=None)\n",
    "plt.xticks(rotation=45)\n",
    "plt.title('Top 15 cities with most accidents')\n",
    "plt.show()"
   ]
  },
  {
   "cell_type": "code",
   "execution_count": 20,
   "id": "648c8999",
   "metadata": {},
   "outputs": [
    {
     "data": {
      "text/plain": [
       "Miami                           106966\n",
       "Los Angeles                      68956\n",
       "Orlando                          54691\n",
       "Dallas                           41979\n",
       "Houston                          39448\n",
       "                                 ...  \n",
       "Ridgedale                            1\n",
       "Sekiu                                1\n",
       "Wooldridge                           1\n",
       "Bullock                              1\n",
       "American Fork-Pleasant Grove         1\n",
       "Name: City, Length: 11681, dtype: int64"
      ]
     },
     "execution_count": 20,
     "metadata": {},
     "output_type": "execute_result"
    }
   ],
   "source": [
    "cities=df['City'].value_counts()\n",
    "cities"
   ]
  },
  {
   "cell_type": "markdown",
   "id": "c34464bd",
   "metadata": {},
   "source": [
    "#### ✅ Results:\n",
    "- Miami has most accidents, Even though it is not more populated than Los Angeles.\n",
    "- New York City is not among the top list of most accident cities."
   ]
  },
  {
   "cell_type": "markdown",
   "id": "ed7864b2",
   "metadata": {},
   "source": [
    "#### ❓Analysing why NY is not in the top list"
   ]
  },
  {
   "cell_type": "code",
   "execution_count": 21,
   "id": "cd92721b",
   "metadata": {},
   "outputs": [
    {
     "data": {
      "text/plain": [
       "array(['New York', 'Central Valley', 'Syracuse', 'Brooklyn', 'Albany',\n",
       "       'Nanuet', 'Islip Terrace', 'Peekskill', 'Bronx', 'Maspeth',\n",
       "       'Yonkers', 'Valley Stream', 'Islip', 'Binghamton', 'New Rochelle',\n",
       "       'Flushing', 'Queens Village', 'Monroe', 'Herkimer', 'Bellerose'],\n",
       "      dtype=object)"
      ]
     },
     "execution_count": 21,
     "metadata": {},
     "output_type": "execute_result"
    }
   ],
   "source": [
    "df[df['State']=='NY']['City'].unique()[:20]"
   ]
  },
  {
   "cell_type": "code",
   "execution_count": 22,
   "id": "9a4bf8a8",
   "metadata": {},
   "outputs": [
    {
     "data": {
      "text/plain": [
       "7068"
      ]
     },
     "execution_count": 22,
     "metadata": {},
     "output_type": "execute_result"
    }
   ],
   "source": [
    "# No of accidents in NY city\n",
    "df[df['City']=='New York']['ID'].count()"
   ]
  },
  {
   "cell_type": "code",
   "execution_count": 23,
   "id": "0955ae8f",
   "metadata": {},
   "outputs": [
    {
     "data": {
      "text/plain": [
       "CA    795868\n",
       "FL    401388\n",
       "TX    149037\n",
       "OR    126341\n",
       "VA    113535\n",
       "NY    108049\n",
       "PA     99975\n",
       "MN     97185\n",
       "NC     91362\n",
       "SC     89216\n",
       "Name: State, dtype: int64"
      ]
     },
     "execution_count": 23,
     "metadata": {},
     "output_type": "execute_result"
    }
   ],
   "source": [
    "df['State'].value_counts()[:10] "
   ]
  },
  {
   "cell_type": "markdown",
   "id": "f617c5b4",
   "metadata": {},
   "source": [
    "#### ✅ Results:\n",
    "\n",
    "- New york city has accidents around 7000 and hence it is not in the top list of cities with most accidents.\n",
    "- From the plot we can see that NY State is in the top 10 list when plotted State wise."
   ]
  },
  {
   "cell_type": "markdown",
   "id": "5abef736",
   "metadata": {},
   "source": [
    "#### ❓ Analysing Accidents by State"
   ]
  },
  {
   "cell_type": "code",
   "execution_count": 24,
   "id": "f60ee1f2",
   "metadata": {},
   "outputs": [
    {
     "data": {
      "text/plain": [
       "State\n",
       "CA    795868\n",
       "FL    401388\n",
       "TX    149037\n",
       "OR    126341\n",
       "VA    113535\n",
       "NY    108049\n",
       "PA     99975\n",
       "MN     97185\n",
       "NC     91362\n",
       "SC     89216\n",
       "MD     65085\n",
       "AZ     56504\n",
       "NJ     52902\n",
       "TN     52613\n",
       "UT     49193\n",
       "Name: ID, dtype: int64"
      ]
     },
     "execution_count": 24,
     "metadata": {},
     "output_type": "execute_result"
    }
   ],
   "source": [
    "accidents_by_states = df.groupby('State')['ID'].count().sort_values(ascending=False)\n",
    "accidents_by_states[:15]"
   ]
  },
  {
   "cell_type": "code",
   "execution_count": 25,
   "id": "ae281f3c",
   "metadata": {},
   "outputs": [
    {
     "data": {
      "text/html": [
       "<div>\n",
       "<style scoped>\n",
       "    .dataframe tbody tr th:only-of-type {\n",
       "        vertical-align: middle;\n",
       "    }\n",
       "\n",
       "    .dataframe tbody tr th {\n",
       "        vertical-align: top;\n",
       "    }\n",
       "\n",
       "    .dataframe thead th {\n",
       "        text-align: right;\n",
       "    }\n",
       "</style>\n",
       "<table border=\"1\" class=\"dataframe\">\n",
       "  <thead>\n",
       "    <tr style=\"text-align: right;\">\n",
       "      <th></th>\n",
       "      <th>State</th>\n",
       "      <th>ID</th>\n",
       "    </tr>\n",
       "  </thead>\n",
       "  <tbody>\n",
       "    <tr>\n",
       "      <th>0</th>\n",
       "      <td>CA</td>\n",
       "      <td>795868</td>\n",
       "    </tr>\n",
       "    <tr>\n",
       "      <th>1</th>\n",
       "      <td>FL</td>\n",
       "      <td>401388</td>\n",
       "    </tr>\n",
       "    <tr>\n",
       "      <th>2</th>\n",
       "      <td>TX</td>\n",
       "      <td>149037</td>\n",
       "    </tr>\n",
       "    <tr>\n",
       "      <th>3</th>\n",
       "      <td>OR</td>\n",
       "      <td>126341</td>\n",
       "    </tr>\n",
       "    <tr>\n",
       "      <th>4</th>\n",
       "      <td>VA</td>\n",
       "      <td>113535</td>\n",
       "    </tr>\n",
       "    <tr>\n",
       "      <th>5</th>\n",
       "      <td>NY</td>\n",
       "      <td>108049</td>\n",
       "    </tr>\n",
       "    <tr>\n",
       "      <th>6</th>\n",
       "      <td>PA</td>\n",
       "      <td>99975</td>\n",
       "    </tr>\n",
       "    <tr>\n",
       "      <th>7</th>\n",
       "      <td>MN</td>\n",
       "      <td>97185</td>\n",
       "    </tr>\n",
       "    <tr>\n",
       "      <th>8</th>\n",
       "      <td>NC</td>\n",
       "      <td>91362</td>\n",
       "    </tr>\n",
       "    <tr>\n",
       "      <th>9</th>\n",
       "      <td>SC</td>\n",
       "      <td>89216</td>\n",
       "    </tr>\n",
       "    <tr>\n",
       "      <th>10</th>\n",
       "      <td>MD</td>\n",
       "      <td>65085</td>\n",
       "    </tr>\n",
       "    <tr>\n",
       "      <th>11</th>\n",
       "      <td>AZ</td>\n",
       "      <td>56504</td>\n",
       "    </tr>\n",
       "    <tr>\n",
       "      <th>12</th>\n",
       "      <td>NJ</td>\n",
       "      <td>52902</td>\n",
       "    </tr>\n",
       "    <tr>\n",
       "      <th>13</th>\n",
       "      <td>TN</td>\n",
       "      <td>52613</td>\n",
       "    </tr>\n",
       "    <tr>\n",
       "      <th>14</th>\n",
       "      <td>UT</td>\n",
       "      <td>49193</td>\n",
       "    </tr>\n",
       "    <tr>\n",
       "      <th>15</th>\n",
       "      <td>LA</td>\n",
       "      <td>47232</td>\n",
       "    </tr>\n",
       "    <tr>\n",
       "      <th>16</th>\n",
       "      <td>IL</td>\n",
       "      <td>47105</td>\n",
       "    </tr>\n",
       "    <tr>\n",
       "      <th>17</th>\n",
       "      <td>MI</td>\n",
       "      <td>43843</td>\n",
       "    </tr>\n",
       "    <tr>\n",
       "      <th>18</th>\n",
       "      <td>GA</td>\n",
       "      <td>40086</td>\n",
       "    </tr>\n",
       "    <tr>\n",
       "      <th>19</th>\n",
       "      <td>WA</td>\n",
       "      <td>32554</td>\n",
       "    </tr>\n",
       "  </tbody>\n",
       "</table>\n",
       "</div>"
      ],
      "text/plain": [
       "   State      ID\n",
       "0     CA  795868\n",
       "1     FL  401388\n",
       "2     TX  149037\n",
       "3     OR  126341\n",
       "4     VA  113535\n",
       "5     NY  108049\n",
       "6     PA   99975\n",
       "7     MN   97185\n",
       "8     NC   91362\n",
       "9     SC   89216\n",
       "10    MD   65085\n",
       "11    AZ   56504\n",
       "12    NJ   52902\n",
       "13    TN   52613\n",
       "14    UT   49193\n",
       "15    LA   47232\n",
       "16    IL   47105\n",
       "17    MI   43843\n",
       "18    GA   40086\n",
       "19    WA   32554"
      ]
     },
     "execution_count": 25,
     "metadata": {},
     "output_type": "execute_result"
    }
   ],
   "source": [
    "accidents_by_states=accidents_by_states.reset_index()\n",
    "accidents_by_states[:20]"
   ]
  },
  {
   "cell_type": "code",
   "execution_count": 26,
   "id": "a72a188d",
   "metadata": {},
   "outputs": [
    {
     "data": {
      "image/png": "[encoded data removed]",
      "text/plain": [
       "<Figure size 576x360 with 1 Axes>"
      ]
     },
     "metadata": {},
     "output_type": "display_data"
    }
   ],
   "source": [
    "plt.figure(figsize=(8,5))\n",
    "sns.barplot(x='State',y='ID',data=accidents_by_states[:15],ci=None)\n",
    "plt.show()"
   ]
  },
  {
   "cell_type": "markdown",
   "id": "271e62b3",
   "metadata": {},
   "source": [
    "#### ✅Results:\n",
    "- CA has most accidents.\n",
    "- FL is the second state with most accidents.\n",
    "- Most populated cities have most accidents."
   ]
  },
  {
   "cell_type": "markdown",
   "id": "2f93a67f",
   "metadata": {},
   "source": [
    "#### ❓Analysing States having top Cities with most accidents"
   ]
  },
  {
   "cell_type": "code",
   "execution_count": 27,
   "id": "a2aab97e",
   "metadata": {},
   "outputs": [
    {
     "data": {
      "text/plain": [
       "City         State\n",
       "Miami        FL       106896\n",
       "Los Angeles  CA        68956\n",
       "Orlando      FL        54654\n",
       "Dallas       TX        41615\n",
       "Houston      TX        39366\n",
       "                       ...  \n",
       "Farmington   UT          460\n",
       "Triangle     VA          460\n",
       "Lakehead     CA          458\n",
       "Teaneck      NJ          458\n",
       "Mc Farland   CA          457\n",
       "Name: ID, Length: 1000, dtype: int64"
      ]
     },
     "execution_count": 27,
     "metadata": {},
     "output_type": "execute_result"
    }
   ],
   "source": [
    "top_cities1=df.groupby(['City','State']).count()['ID'].sort_values(ascending=False)[:1000]\n",
    "top_cities1"
   ]
  },
  {
   "cell_type": "code",
   "execution_count": 28,
   "id": "2bcb1484",
   "metadata": {},
   "outputs": [],
   "source": [
    "top_cities1=top_cities1.reset_index()"
   ]
  },
  {
   "cell_type": "code",
   "execution_count": 29,
   "id": "9e05fd2f",
   "metadata": {},
   "outputs": [
    {
     "data": {
      "text/plain": [
       "State\n",
       "CA    334\n",
       "FL    102\n",
       "OR     63\n",
       "VA     49\n",
       "SC     45\n",
       "PA     42\n",
       "MD     40\n",
       "NY     32\n",
       "NJ     28\n",
       "UT     27\n",
       "Name: ID, dtype: int64"
      ]
     },
     "execution_count": 29,
     "metadata": {},
     "output_type": "execute_result"
    }
   ],
   "source": [
    "top_states1=top_cities1.groupby('State')['ID'].count().sort_values(ascending=False)[:10]\n",
    "top_states1"
   ]
  },
  {
   "cell_type": "code",
   "execution_count": 30,
   "id": "f738f751",
   "metadata": {},
   "outputs": [
    {
     "data": {
      "text/plain": [
       "<AxesSubplot:ylabel='ID'>"
      ]
     },
     "execution_count": 30,
     "metadata": {},
     "output_type": "execute_result"
    },
    {
     "data": {
      "image/png": "[encoded data removed]",
      "text/plain": [
       "<Figure size 432x288 with 1 Axes>"
      ]
     },
     "metadata": {},
     "output_type": "display_data"
    }
   ],
   "source": [
    "top_states1.plot(kind='pie')"
   ]
  },
  {
   "cell_type": "markdown",
   "id": "9a8ed53b",
   "metadata": {},
   "source": [
    "#### ✅Results:\n",
    "- From the plot we can see that CA has the cities where most accidents happen.\n",
    "- The second state is FL."
   ]
  },
  {
   "cell_type": "markdown",
   "id": "00134375",
   "metadata": {},
   "source": [
    "### Start Time:"
   ]
  },
  {
   "cell_type": "code",
   "execution_count": 34,
   "id": "6ca97bed",
   "metadata": {},
   "outputs": [],
   "source": [
    "df['Start_Time']=pd.to_datetime(df.Start_Time)"
   ]
  },
  {
   "cell_type": "code",
   "execution_count": 38,
   "id": "f0fe2a80",
   "metadata": {},
   "outputs": [],
   "source": [
    "# To convert Start_Time from different timezones to eastern for analysis\n",
    "df['starttime_est'] = \\\n",
    "(df.groupby(['Timezone'])['Start_Time']  \n",
    "                      .apply(lambda x: x.dt.tz_localize(x.name,\n",
    "                      ambiguous='NaT').dt.tz_convert('US/Eastern')))"
   ]
  },
  {
   "cell_type": "code",
   "execution_count": 39,
   "id": "e96fb8c0",
   "metadata": {},
   "outputs": [
    {
     "data": {
      "image/png": "[encoded data removed]",
      "text/plain": [
       "<Figure size 360x360 with 1 Axes>"
      ]
     },
     "metadata": {},
     "output_type": "display_data"
    }
   ],
   "source": [
    "g=sns.displot(df,x=df['starttime_est'].dt.hour,bins=24,stat=\"percent\").set(title='Per Hour Accident Analysis');\n",
    "g.set(xticks=np.arange(0,24));"
   ]
  },
  {
   "cell_type": "markdown",
   "id": "732423f2",
   "metadata": {},
   "source": [
    "#### ✅ Results:\n",
    "\n",
    "- From the plot we can see that most accidents happen between 3pm to 6pm.\n",
    "- Probably accidents happen while going back home. \n",
    "- Least accidents happen in the early morning before 6am."
   ]
  },
  {
   "cell_type": "code",
   "execution_count": 40,
   "id": "98005f86",
   "metadata": {},
   "outputs": [
    {
     "data": {
      "text/plain": [
       "array(['US/Eastern', 'US/Pacific', nan, 'US/Central', 'US/Mountain'],\n",
       "      dtype=object)"
      ]
     },
     "execution_count": 40,
     "metadata": {},
     "output_type": "execute_result"
    }
   ],
   "source": [
    "df['Timezone'].unique()"
   ]
  },
  {
   "cell_type": "code",
   "execution_count": 41,
   "id": "936513de",
   "metadata": {},
   "outputs": [
    {
     "data": {
      "text/plain": [
       "US/Eastern     1221927\n",
       "US/Pacific      967094\n",
       "US/Central      488065\n",
       "US/Mountain     164597\n",
       "Name: Timezone, dtype: int64"
      ]
     },
     "execution_count": 41,
     "metadata": {},
     "output_type": "execute_result"
    }
   ],
   "source": [
    "df['Timezone'].value_counts()"
   ]
  },
  {
   "cell_type": "code",
   "execution_count": 43,
   "id": "e926d55e",
   "metadata": {},
   "outputs": [
    {
     "data": {
      "image/png": "[encoded data removed]",
      "text/plain": [
       "<Figure size 432x288 with 1 Axes>"
      ]
     },
     "metadata": {},
     "output_type": "display_data"
    }
   ],
   "source": [
    "df['Timezone'].value_counts().plot(kind='pie',normalize=True,title='Accidents per Timezone');"
   ]
  },
  {
   "cell_type": "markdown",
   "id": "49a212b7",
   "metadata": {},
   "source": [
    "#### ✅ Results:\n",
    "\n",
    "- We can see that we have most accidents in Eastern Timezone and then comes US/Pacific.\n",
    "- Least accidents in US/Mountain Timezone (May be because of less citites from US/Mountain)"
   ]
  },
  {
   "cell_type": "code",
   "execution_count": 44,
   "id": "b7cddf0e",
   "metadata": {},
   "outputs": [],
   "source": [
    "#df.groupby('Timezone')['City'].nunique().sort_values(ascending=False)"
   ]
  },
  {
   "cell_type": "code",
   "execution_count": 45,
   "id": "3383621a",
   "metadata": {},
   "outputs": [],
   "source": [
    "#f.groupby('Timezone')['City'].nunique().sort_values(ascending=False).plot(kind='pie',normalize=True,title='Number of cities per timezone');"
   ]
  },
  {
   "cell_type": "markdown",
   "id": "c88b7980",
   "metadata": {},
   "source": [
    "#### Analysis per Timezone:"
   ]
  },
  {
   "cell_type": "code",
   "execution_count": 46,
   "id": "38d6fe1c",
   "metadata": {},
   "outputs": [
    {
     "data": {
      "image/png": "[encoded data removed]",
      "text/plain": [
       "<Figure size 360x360 with 1 Axes>"
      ]
     },
     "metadata": {},
     "output_type": "display_data"
    }
   ],
   "source": [
    "g=sns.displot(df,x=df[df['Timezone']=='US/Eastern']['Start_Time'].dt.hour,bins=24,stat=\"percent\").set(title='Accidents in US/Eastern Timezone');\n",
    "g.set(xticks=np.arange(0,24));"
   ]
  },
  {
   "cell_type": "code",
   "execution_count": 47,
   "id": "5f6809c9",
   "metadata": {},
   "outputs": [
    {
     "data": {
      "image/png": "[encoded data removed]",
      "text/plain": [
       "<Figure size 360x360 with 1 Axes>"
      ]
     },
     "metadata": {},
     "output_type": "display_data"
    }
   ],
   "source": [
    "g=sns.displot(df,x=df[df['Timezone']=='US/Pacific']['Start_Time'].dt.hour,bins=24,stat=\"percent\").set(title='Accidents in US/Pacific Timezone');\n",
    "g.set(xticks=np.arange(0,24));"
   ]
  },
  {
   "cell_type": "code",
   "execution_count": 48,
   "id": "3bec68bd",
   "metadata": {},
   "outputs": [
    {
     "data": {
      "image/png": "[encoded data removed]",
      "text/plain": [
       "<Figure size 360x360 with 1 Axes>"
      ]
     },
     "metadata": {},
     "output_type": "display_data"
    }
   ],
   "source": [
    "g=sns.displot(df,x=df[df['Timezone']=='US/Central']['Start_Time'].dt.hour,bins=24,stat=\"percent\").set(title='Accidents in US/Central Timezone');\n",
    "g.set(xticks=np.arange(0,24));"
   ]
  },
  {
   "cell_type": "markdown",
   "id": "c968be89",
   "metadata": {},
   "source": [
    "#### ✅Results:\n",
    "\n",
    "- Most accidents happen between 2pm to 5pm \n",
    "- Least happen during early morning before 6am."
   ]
  },
  {
   "cell_type": "markdown",
   "id": "de615026",
   "metadata": {},
   "source": [
    "#### Analysis on Accidents - days of week:"
   ]
  },
  {
   "cell_type": "code",
   "execution_count": 49,
   "id": "9512d274",
   "metadata": {},
   "outputs": [
    {
     "data": {
      "image/png": "[encoded data removed]",
      "text/plain": [
       "<Figure size 360x360 with 1 Axes>"
      ]
     },
     "metadata": {},
     "output_type": "display_data"
    }
   ],
   "source": [
    "g=sns.displot(df,x=df['Start_Time'].dt.dayofweek,bins=7,kde=False,stat=\"percent\").set(title='Accidents - days of week');\n",
    "g.set(xticks=np.arange(0,7));"
   ]
  },
  {
   "cell_type": "markdown",
   "id": "6a6d2eca",
   "metadata": {},
   "source": [
    "#### ✅Results: \n",
    "- The day of the week with Monday=0, Sunday=6.\n",
    "- Most accidents happen on Friday and Least on Saturdays and sundays compared to week days.\n",
    "- Probably most accidents happen on friday on hurry to go back home."
   ]
  },
  {
   "cell_type": "markdown",
   "id": "8f4f5cd6",
   "metadata": {},
   "source": [
    "#### Analysing the distribution of accidents on weekdays and weekends"
   ]
  },
  {
   "cell_type": "code",
   "execution_count": 50,
   "id": "25e8c8ff",
   "metadata": {},
   "outputs": [
    {
     "data": {
      "text/plain": [
       "147       2016-02-13 04:56:20\n",
       "148       2016-02-13 07:14:41\n",
       "149       2016-02-13 09:13:49\n",
       "150       2016-02-13 16:00:59\n",
       "151       2016-02-13 18:06:41\n",
       "                  ...        \n",
       "2843130   2019-08-18 23:24:10\n",
       "2843169   2019-08-17 03:36:35\n",
       "2843243   2019-08-18 22:56:56\n",
       "2843244   2019-08-18 22:56:56\n",
       "2843282   2019-08-18 22:54:41\n",
       "Name: Start_Time, Length: 570965, dtype: datetime64[ns]"
      ]
     },
     "execution_count": 50,
     "metadata": {},
     "output_type": "execute_result"
    }
   ],
   "source": [
    "weekends_starttime=df.Start_Time[df.Start_Time.dt.dayofweek.isin([5,6])]\n",
    "weekends_starttime"
   ]
  },
  {
   "cell_type": "code",
   "execution_count": 51,
   "id": "5b769980",
   "metadata": {},
   "outputs": [
    {
     "data": {
      "image/png": "[encoded data removed]",
      "text/plain": [
       "<Figure size 360x360 with 1 Axes>"
      ]
     },
     "metadata": {},
     "output_type": "display_data"
    }
   ],
   "source": [
    "g=sns.displot(df,x=weekends_starttime.dt.hour,bins=24,stat=\"percent\").set(title='Accidents - weekends');\n",
    "g.set(xticks=np.arange(0,24));\n",
    "\n",
    "#g=sns.distplot(weekends_starttime,bins=7,kde=False);"
   ]
  },
  {
   "cell_type": "markdown",
   "id": "b62d6d28",
   "metadata": {},
   "source": [
    "#### ✅Results:\n",
    "\n",
    "- On weekends, Accidents happen between 12pm to 6pm and least accidents before 10am in the morning."
   ]
  },
  {
   "cell_type": "code",
   "execution_count": 52,
   "id": "327aeab7",
   "metadata": {},
   "outputs": [
    {
     "data": {
      "image/png": "[encoded data removed]",
      "text/plain": [
       "<Figure size 360x360 with 1 Axes>"
      ]
     },
     "metadata": {},
     "output_type": "display_data"
    }
   ],
   "source": [
    "weekdays_starttime=df.Start_Time[df.Start_Time.dt.dayofweek.isin([0,1,2,3,4])]\n",
    "g=sns.displot(df,x=weekdays_starttime.dt.hour,bins=24,stat=\"percent\").set(title='Accidents - weekdays');\n",
    "g.set(xticks=np.arange(0,24));"
   ]
  },
  {
   "cell_type": "markdown",
   "id": "346786cc",
   "metadata": {},
   "source": [
    "#### ✅ Results:\n",
    "- unlike weekends, on weekdays accidents happen between 2pm to 6pm and least before 6 am.\n",
    "- As analysed, Accidents happen on hurry to back home."
   ]
  },
  {
   "cell_type": "markdown",
   "id": "063836ad",
   "metadata": {},
   "source": [
    "#### Monthwise Analysis:"
   ]
  },
  {
   "cell_type": "code",
   "execution_count": null,
   "id": "8122370d",
   "metadata": {},
   "outputs": [],
   "source": [
    "#sns.distplot(df['Start_Time'].dt.month,bins=12,kde=False,norm_hist=True)\n",
    "\n",
    "g=sns.displot(df,x=df['Start_Time'].dt.month,bins=12,kde=False,stat=\"percent\").set(title='Accidents - Monthwise');\n",
    "g.set(xticks=np.arange(1,13));"
   ]
  },
  {
   "cell_type": "markdown",
   "id": "3ea538b3",
   "metadata": {},
   "source": [
    "#### Results:\n",
    "\n",
    "- Most accidents happen during November and December (Peak shopping period- Christmas, Thanks giving, Black Friday).\n",
    "- Least accidents happen on july."
   ]
  },
  {
   "cell_type": "markdown",
   "id": "74692d9b",
   "metadata": {},
   "source": [
    "#### Yearwise - Analysis:"
   ]
  },
  {
   "cell_type": "code",
   "execution_count": 53,
   "id": "67bb51ae",
   "metadata": {},
   "outputs": [
    {
     "data": {
      "text/plain": [
       "array([2016, 2017, 2021, 2020, 2018, 2019], dtype=int64)"
      ]
     },
     "execution_count": 53,
     "metadata": {},
     "output_type": "execute_result"
    }
   ],
   "source": [
    "df['Start_Time'].dt.year.unique()"
   ]
  },
  {
   "cell_type": "code",
   "execution_count": 54,
   "id": "85803445",
   "metadata": {},
   "outputs": [
    {
     "data": {
      "image/png": "[encoded data removed]",
      "text/plain": [
       "<Figure size 360x360 with 1 Axes>"
      ]
     },
     "metadata": {},
     "output_type": "display_data"
    }
   ],
   "source": [
    "g=sns.displot(df,x=df['Start_Time'].dt.year,bins=6,kde=False,stat=\"percent\").set(title='Accidents - Year-wise');\n",
    "#g.set(xticks=np.arange(1,6));"
   ]
  },
  {
   "cell_type": "markdown",
   "id": "d67c2f3b",
   "metadata": {},
   "source": [
    "- The number of accidents overall have been increasing during the past few years.\n",
    "- 2021 has the most number of accidents."
   ]
  },
  {
   "cell_type": "markdown",
   "id": "89d92d48",
   "metadata": {},
   "source": [
    "### Start Latitude and Longitude:"
   ]
  },
  {
   "cell_type": "code",
   "execution_count": 55,
   "id": "59fd27c1",
   "metadata": {},
   "outputs": [
    {
     "data": {
      "text/html": [
       "<div>\n",
       "<style scoped>\n",
       "    .dataframe tbody tr th:only-of-type {\n",
       "        vertical-align: middle;\n",
       "    }\n",
       "\n",
       "    .dataframe tbody tr th {\n",
       "        vertical-align: top;\n",
       "    }\n",
       "\n",
       "    .dataframe thead th {\n",
       "        text-align: right;\n",
       "    }\n",
       "</style>\n",
       "<table border=\"1\" class=\"dataframe\">\n",
       "  <thead>\n",
       "    <tr style=\"text-align: right;\">\n",
       "      <th></th>\n",
       "      <th>Start_Lat</th>\n",
       "      <th>Start_Lng</th>\n",
       "    </tr>\n",
       "  </thead>\n",
       "  <tbody>\n",
       "    <tr>\n",
       "      <th>0</th>\n",
       "      <td>40.108910</td>\n",
       "      <td>-83.092860</td>\n",
       "    </tr>\n",
       "    <tr>\n",
       "      <th>1</th>\n",
       "      <td>39.865420</td>\n",
       "      <td>-84.062800</td>\n",
       "    </tr>\n",
       "    <tr>\n",
       "      <th>2</th>\n",
       "      <td>39.102660</td>\n",
       "      <td>-84.524680</td>\n",
       "    </tr>\n",
       "    <tr>\n",
       "      <th>3</th>\n",
       "      <td>41.062130</td>\n",
       "      <td>-81.537840</td>\n",
       "    </tr>\n",
       "    <tr>\n",
       "      <th>4</th>\n",
       "      <td>39.172393</td>\n",
       "      <td>-84.492792</td>\n",
       "    </tr>\n",
       "    <tr>\n",
       "      <th>...</th>\n",
       "      <td>...</td>\n",
       "      <td>...</td>\n",
       "    </tr>\n",
       "    <tr>\n",
       "      <th>2845337</th>\n",
       "      <td>34.002480</td>\n",
       "      <td>-117.379360</td>\n",
       "    </tr>\n",
       "    <tr>\n",
       "      <th>2845338</th>\n",
       "      <td>32.766960</td>\n",
       "      <td>-117.148060</td>\n",
       "    </tr>\n",
       "    <tr>\n",
       "      <th>2845339</th>\n",
       "      <td>33.775450</td>\n",
       "      <td>-117.847790</td>\n",
       "    </tr>\n",
       "    <tr>\n",
       "      <th>2845340</th>\n",
       "      <td>33.992460</td>\n",
       "      <td>-118.403020</td>\n",
       "    </tr>\n",
       "    <tr>\n",
       "      <th>2845341</th>\n",
       "      <td>34.133930</td>\n",
       "      <td>-117.230920</td>\n",
       "    </tr>\n",
       "  </tbody>\n",
       "</table>\n",
       "<p>2845342 rows × 2 columns</p>\n",
       "</div>"
      ],
      "text/plain": [
       "         Start_Lat   Start_Lng\n",
       "0        40.108910  -83.092860\n",
       "1        39.865420  -84.062800\n",
       "2        39.102660  -84.524680\n",
       "3        41.062130  -81.537840\n",
       "4        39.172393  -84.492792\n",
       "...            ...         ...\n",
       "2845337  34.002480 -117.379360\n",
       "2845338  32.766960 -117.148060\n",
       "2845339  33.775450 -117.847790\n",
       "2845340  33.992460 -118.403020\n",
       "2845341  34.133930 -117.230920\n",
       "\n",
       "[2845342 rows x 2 columns]"
      ]
     },
     "execution_count": 55,
     "metadata": {},
     "output_type": "execute_result"
    }
   ],
   "source": [
    "df[['Start_Lat','Start_Lng']]"
   ]
  },
  {
   "cell_type": "code",
   "execution_count": 56,
   "id": "be56c89e",
   "metadata": {},
   "outputs": [
    {
     "data": {
      "text/plain": [
       "<AxesSubplot:xlabel='Start_Lng', ylabel='Start_Lat'>"
      ]
     },
     "execution_count": 56,
     "metadata": {},
     "output_type": "execute_result"
    },
    {
     "data": {
      "image/png": "[encoded data removed]",
      "text/plain": [
       "<Figure size 432x288 with 1 Axes>"
      ]
     },
     "metadata": {},
     "output_type": "display_data"
    }
   ],
   "source": [
    "sns.scatterplot(x=df.Start_Lng,y=df.Start_Lat, size=0.001)"
   ]
  },
  {
   "cell_type": "code",
   "execution_count": 59,
   "id": "df1774c9",
   "metadata": {},
   "outputs": [],
   "source": [
    "import folium\n",
    "from folium.plugins import HeatMap"
   ]
  },
  {
   "cell_type": "code",
   "execution_count": 65,
   "id": "ca0a0f77",
   "metadata": {},
   "outputs": [],
   "source": [
    "sample_df=df.sample(int(0.001*len(df)))\n",
    "lat_lng_pairs=list(zip(list(sample_df.Start_Lat),list(sample_df.Start_Lng)))\n",
    "hmap=folium.Map()"
   ]
  },
  {
   "cell_type": "code",
   "execution_count": 67,
   "id": "d44eb2c2",
   "metadata": {},
   "outputs": [
    {
     "data": {
      "text/html": [
       "<div style=\"width:100%;\"><div style=\"position:relative;width:100%;height:0;padding-bottom:60%;\"><span style=\"color:#565656\">Make this Notebook Trusted to load map: File -> Trust Notebook</span><iframe srcdoc=\"&lt;!DOCTYPE html&gt;\n",
       "&lt;html&gt;\n",
       "&lt;head&gt;\n",
       "    \n",
       "    &lt;meta http-equiv=&quot;content-type&quot; content=&quot;text/html; charset=UTF-8&quot; /&gt;\n",
       "    \n",
       "        &lt;script&gt;\n",
       "            L_NO_TOUCH = false;\n",
       "            L_DISABLE_3D = false;\n",
       "        &lt;/script&gt;\n",
       "    \n",
       "    &lt;style&gt;html, body {width: 100%;height: 100%;margin: 0;padding: 0;}&lt;/style&gt;\n",
       "    &lt;style&gt;#map {position:absolute;top:0;bottom:0;right:0;left:0;}&lt;/style&gt;\n",
       "    &lt;script src=&quot;https://cdn.jsdelivr.net/npm/leaflet@1.9.3/dist/leaflet.js&quot;&gt;&lt;/script&gt;\n",
       "    &lt;script src=&quot;https://code.jquery.com/jquery-1.12.4.min.js&quot;&gt;&lt;/script&gt;\n",
       "    &lt;script src=&quot;https://cdn.jsdelivr.net/npm/bootstrap@5.2.2/dist/js/bootstrap.bundle.min.js&quot;&gt;&lt;/script&gt;\n",
       "    &lt;script src=&quot;https://cdnjs.cloudflare.com/ajax/libs/Leaflet.awesome-markers/2.0.2/leaflet.awesome-markers.js&quot;&gt;&lt;/script&gt;\n",
       "    &lt;link rel=&quot;stylesheet&quot; href=&quot;https://cdn.jsdelivr.net/npm/leaflet@1.9.3/dist/leaflet.css&quot;/&gt;\n",
       "    &lt;link rel=&quot;stylesheet&quot; href=&quot;https://cdn.jsdelivr.net/npm/bootstrap@5.2.2/dist/css/bootstrap.min.css&quot;/&gt;\n",
       "    &lt;link rel=&quot;stylesheet&quot; href=&quot;https://netdna.bootstrapcdn.com/bootstrap/3.0.0/css/bootstrap.min.css&quot;/&gt;\n",
       "    &lt;link rel=&quot;stylesheet&quot; href=&quot;https://cdn.jsdelivr.net/npm/@fortawesome/fontawesome-free@6.2.0/css/all.min.css&quot;/&gt;\n",
       "    &lt;link rel=&quot;stylesheet&quot; href=&quot;https://cdnjs.cloudflare.com/ajax/libs/Leaflet.awesome-markers/2.0.2/leaflet.awesome-markers.css&quot;/&gt;\n",
       "    &lt;link rel=&quot;stylesheet&quot; href=&quot;https://cdn.jsdelivr.net/gh/python-visualization/folium/folium/templates/leaflet.awesome.rotate.min.css&quot;/&gt;\n",
       "    \n",
       "            &lt;meta name=&quot;viewport&quot; content=&quot;width=device-width,\n",
       "                initial-scale=1.0, maximum-scale=1.0, user-scalable=no&quot; /&gt;\n",
       "            &lt;style&gt;\n",
       "                #map_b8646d1d4fa5a54d74d30286b6675288 {\n",
       "                    position: relative;\n",
       "                    width: 100.0%;\n",
       "                    height: 100.0%;\n",
       "                    left: 0.0%;\n",
       "                    top: 0.0%;\n",
       "                }\n",
       "                .leaflet-container { font-size: 1rem; }\n",
       "            &lt;/style&gt;\n",
       "        \n",
       "    &lt;script src=&quot;https://cdn.jsdelivr.net/gh/python-visualization/folium@main/folium/templates/leaflet_heat.min.js&quot;&gt;&lt;/script&gt;\n",
       "&lt;/head&gt;\n",
       "&lt;body&gt;\n",
       "    \n",
       "    \n",
       "            &lt;div class=&quot;folium-map&quot; id=&quot;map_b8646d1d4fa5a54d74d30286b6675288&quot; &gt;&lt;/div&gt;\n",
       "        \n",
       "&lt;/body&gt;\n",
       "&lt;script&gt;\n",
       "    \n",
       "    \n",
       "            var map_b8646d1d4fa5a54d74d30286b6675288 = L.map(\n",
       "                &quot;map_b8646d1d4fa5a54d74d30286b6675288&quot;,\n",
       "                {\n",
       "                    center: [0, 0],\n",
       "                    crs: L.CRS.EPSG3857,\n",
       "                    zoom: 1,\n",
       "                    zoomControl: true,\n",
       "                    preferCanvas: false,\n",
       "                }\n",
       "            );\n",
       "\n",
       "            \n",
       "\n",
       "        \n",
       "    \n",
       "            var tile_layer_d239c71851d42ed01e929b16a31812fe = L.tileLayer(\n",
       "                &quot;https://{s}.tile.openstreetmap.org/{z}/{x}/{y}.png&quot;,\n",
       "                {&quot;attribution&quot;: &quot;Data by \\u0026copy; \\u003ca target=\\&quot;_blank\\&quot; href=\\&quot;http://openstreetmap.org\\&quot;\\u003eOpenStreetMap\\u003c/a\\u003e, under \\u003ca target=\\&quot;_blank\\&quot; href=\\&quot;http://www.openstreetmap.org/copyright\\&quot;\\u003eODbL\\u003c/a\\u003e.&quot;, &quot;detectRetina&quot;: false, &quot;maxNativeZoom&quot;: 18, &quot;maxZoom&quot;: 18, &quot;minZoom&quot;: 0, &quot;noWrap&quot;: false, &quot;opacity&quot;: 1, &quot;subdomains&quot;: &quot;abc&quot;, &quot;tms&quot;: false}\n",
       "            ).addTo(map_b8646d1d4fa5a54d74d30286b6675288);\n",
       "        \n",
       "    \n",
       "            var heat_map_d67bfc837f4337475599d0601bd8d644 = L.heatLayer(\n",
       "                [[34.148461, -118.469244], [35.586532, -94.21467], [36.964606, -76.413227], [31.760594, -106.271066], [28.510004, -81.493481], [32.932904, -96.813362], [39.21762, -84.44953000000002], [41.20541, -111.99438], [46.661049, -92.480539], [33.98781, -117.347964], [25.685462, -80.415318], [40.221803, -79.214815], [39.04593, -94.3632], [38.930128, -94.706429], [45.508707, -122.738367], [33.332124, -117.159075], [33.973621, -118.079134], [25.975928, -80.247077], [29.000185, -82.628759], [38.3543, -122.204772], [42.39792, -82.98566], [28.789619, -81.349006], [40.309893, -75.633684], [41.068808, -73.804164], [38.90015, -121.07501], [34.78477, -92.12836], [28.418364, -81.40460300000002], [32.921236, -96.772241], [28.10319, -82.54229000000002], [33.788655, -112.542665], [44.933491, -123.177756], [32.755513, -96.755301], [38.765977, -111.468154], [29.034688, -82.160184], [32.66192, -96.89588], [32.271962, -110.978999], [38.92511, -104.84146], [36.460987, -90.576463], [40.286455, -75.263772], [28.589627, -81.253374], [37.925432, -122.322631], [35.018494, -85.287786], [34.6412, -90.38354], [42.3839, -83.31938000000002], [33.83498, -117.8356], [37.76542, -122.40486], [40.611972, -74.223687], [44.836718, -93.398278], [38.533736, -123.275241], [40.688501, -73.808786], [27.7883, -82.72355999999998], [26.43003400000001, -81.810592], [28.430407, -81.407539], [45.189773, -93.544469], [33.699659999999994, -117.93667], [32.836678000000006, -97.363119], [34.240087, -118.42396200000002], [37.417801, -77.640355], [33.772044, -117.790231], [38.348681, -81.650387], [34.0767, -117.74506], [37.30351, -121.87838], [34.02548400000001, -118.205713], [36.26946, -86.73678000000002], [28.981951, -81.99288100000003], [32.764540000000004, -96.91165], [44.039847, -124.099284], [45.549756, -122.678779], [47.65261, -117.421875], [28.361879, -81.438062], [38.314915, -81.552768], [33.990827, -117.934861], [38.135594, -77.509478], [25.780287, -80.320819], [42.704859, -112.938492], [33.654920000000004, -84.36503], [33.805728, -117.973583], [29.491757, -98.55836], [33.880237, -118.347631], [37.926341, -122.321737], [39.878751, -75.10297800000002], [25.775903, -80.19955], [43.08723, -73.749083], [44.0978, -123.15806], [40.070361, -75.151562], [36.730383, -119.286681], [26.334894, -81.764297], [29.8346, -95.38534], [39.42437, -77.503732], [42.38593, -87.99548], [27.00729, -82.13396999999998], [43.113869, -123.438785], [33.91272, -118.28639], [37.533249, -77.130862], [34.156281, -118.253806], [39.860297, -75.15394], [40.683156, -73.682695], [41.52552, -72.76069], [34.510843, -92.694695], [32.222871999999995, -110.841077], [26.599587, -81.641798], [33.793544, -117.879078], [34.276388, -118.532234], [25.91741, -80.211828], [33.928326, -118.236212], [29.741409, -95.379794], [28.381032, -81.404624], [34.626299, -82.100175], [37.836599, -121.649625], [38.49031, -121.51456], [36.57124, -121.91267], [37.54162, -122.28509], [41.229851, -111.97865], [30.47922, -91.13207], [34.025240000000004, -117.77549], [32.220782, -110.773123], [37.37531, -121.93404], [33.872834000000005, -118.099781], [32.928105, -86.654845], [45.172494, -117.973863], [30.423597, -91.144584], [33.658837, -117.780314], [37.7589, -97.32512], [25.846986, -80.211189], [44.00554, -123.70235], [44.116277, -93.246436], [40.63853, -111.834578], [34.03338, -118.16948], [26.037417, -80.163942], [40.09762, -74.73175], [30.43427, -88.65985], [39.104865, -121.551021], [37.516497, -77.425701], [37.416404, -77.34286999999998], [34.338840000000005, -118.50721], [37.942429, -120.608569], [34.025290000000005, -117.7273], [37.80715, -122.47567], [33.853796, -117.901606], [37.510857, -77.424977], [25.972856, -80.204925], [30.274224, -85.521046], [32.86635, -97.00182], [38.994542, -76.514931], [37.201041, -77.440079], [38.013092, -122.001854], [37.660088, -121.02609], [28.019763, -82.737787], [34.18264, -118.320905], [38.934283, -94.685976], [25.885851, -80.210763], [44.82837, -93.06629], [33.385959, -111.820171], [33.182326, -117.355839], [25.948105, -80.14874], [36.021181, -95.922137], [39.541, -77.712489], [35.83720200000001, -78.613861], [41.22286, -95.98183], [45.51589, -122.69827], [37.686692, -122.119033], [42.48376, -83.085105], [25.760107, -80.448885], [34.067674, -117.52405], [34.030526, -117.655302], [43.61536, -116.25852], [33.923231, -118.103688], [26.544181, -80.071846], [44.748594, -93.125547], [34.02393, -118.18375], [32.784055, -79.95119], [45.163487, -93.521478], [43.75381, -123.138355], [39.354583, -112.402549], [38.9548, -77.00904], [33.852562, -98.51075], [42.07272, -122.60565], [37.24076, -93.29751], [36.06015, -79.60857], [37.316092, -121.835005], [38.79652, -77.19074300000003], [34.576345, -118.556374], [40.239154, -121.222811], [42.22886, -83.69272], [25.69138, -80.38895], [30.215193, -82.69549599999998], [44.7592, -93.21764], [38.83123, -77.3691], [30.464309000000004, -91.070215], [32.780761, -96.801126], [33.740712, -117.833704], [29.5972, -98.599494], [25.847574, -80.237686], [30.533103000000004, -87.27462299999998], [32.480297, -93.748123], [39.593085, -86.541849], [30.382776, -81.67276700000002], [38.6118, -121.26335], [32.982607, -80.124215], [34.1611, -118.469614], [41.736125, -87.624545], [41.6621, -87.71916999999998], [26.162525, -80.162377], [25.950092, -80.12065799999998], [36.116054, -86.79247], [47.589677, -122.252828], [38.716722, -121.344127], [42.839308, -74.008744], [41.6217, -87.68275], [34.041013, -118.060171], [38.868739, -77.308854], [38.236867, -121.28261299999998], [27.8395, -82.78715], [46.86385, -95.99806], [40.133346, -75.061887], [34.404474, -118.574804], [40.667016, -73.93129499999998], [37.44759000000001, -122.12151], [38.450893, -122.851533], [29.962447, -90.113622], [41.22224, -96.06973], [40.708197, -111.79778600000002], [33.946195, -117.297335], [37.389085, -120.732627], [45.41785, -122.43425], [28.333902, -81.589613], [25.641617, -80.33507900000002], [35.136953000000005, -80.885693], [41.90236, -88.10025], [36.326798, -119.209696], [38.813548, -77.44721700000002], [38.209331, -122.148858], [34.777082, -82.460535], [38.986691, -123.117846], [37.62345, -122.400645], [33.974651, -118.281244], [38.114045, -102.852741], [39.18786, -94.61919], [43.116142, -75.189229], [32.44269, -84.92747], [35.745728, -120.272695], [34.906081, -82.119874], [29.075447, -80.98445799999998], [35.708254, -78.62016899999998], [43.164666, -77.664426], [38.442408, -77.411427], [33.921028, -118.178204], [45.59439, -118.52468], [28.553291, -81.35046], [37.194456, -122.145533], [38.913083, -76.992588], [28.451697, -81.477514], [38.259862, -122.660619], [40.74434, -73.97124000000002], [25.869037, -80.21300600000002], [41.177224, -73.185505], [26.923745, -80.1489], [38.00996, -122.02288], [25.91322000000001, -80.32486], [41.039984, -124.119379], [33.63898, -117.73035], [39.563451, -104.98844], [33.83156, -118.29743], [32.71776, -117.08898], [32.984392, -80.0791], [37.40233, -122.042729], [41.868558, -78.196409], [41.794441, -78.618152], [39.047648, -94.64634], [26.281238, -80.12501800000003], [38.806961, -76.983529], [34.08169, -117.716166], [40.769373, -111.949621], [43.11603, -124.29111], [31.797390000000004, -106.245066], [33.7587, -117.46352], [41.544717, -73.072776], [30.401819, -86.905459], [25.68422, -80.449374], [41.112787, -78.536337], [32.772703, -117.157482], [33.934633000000005, -118.279831], [34.0204, -118.157291], [41.81494, -87.74954], [37.843763, -122.254303], [38.59422, -90.21594], [47.7121, -117.09865], [28.19292, -82.38126], [37.993197, -122.104478], [37.595671, -121.872628], [37.964821, -121.740553], [39.698525, -86.148136], [38.020485, -120.24742], [25.808551, -80.30805600000002], [25.68569500000001, -80.403144], [45.92846, -122.72241], [32.872578999999995, -96.665581], [32.366118, -86.147049], [40.52179, -111.89098], [41.87448, -87.70435], [34.152669, -118.10746], [39.3535, -76.5123], [34.070802, -119.012414], [32.96118, -96.72705], [34.240724, -119.159037], [47.109375, -122.574328], [34.699381, -80.772225], [39.375911, -76.452924], [38.018842, -121.94803799999998], [40.285997, -76.821062], [47.951674, -122.101379], [32.269056, -110.932697], [29.960667, -90.091572], [32.911579, -96.878631], [28.59337, -81.38305], [40.9023, -74.70501], [34.229933, -117.415856], [33.492822, -80.83418], [32.177821, -110.977084], [37.754656, -120.774847], [35.260463, -80.875863], [40.138541, -74.709078], [33.81486, -118.18336], [39.200293, -121.222674], [36.473474, -119.439998], [40.671011, -74.40901600000002], [41.39012, -88.19296], [32.831024, -96.827613], [45.282999, -123.17365], [33.928474, -118.244572], [41.523696, -73.890362], [44.21484, -93.95571], [38.005292, -122.082444], [43.4058, -123.333322], [37.64888, -77.597899], [47.664195, -122.187184], [35.839976, -78.6771], [43.086375, -75.280426], [44.853819, -93.395129], [34.056470000000004, -80.986698], [25.77586, -80.358798], [38.63214, -90.26278], [35.21931, -80.84380999999998], [25.688161, -80.33259699999998], [34.058177, -118.179003], [34.030145000000005, -118.197227], [27.601105, -82.497363], [33.480509999999995, -112.0129], [35.317623, -119.041612], [38.340659, -123.048078], [41.771098, -72.66853499999998], [39.49199, -76.39409], [34.823409000000005, -82.290612], [38.96777700000001, -77.17965699999998], [37.45918, -77.09743], [40.018889, -78.505798], [40.9855, -73.73883000000002], [34.602048, -117.611572], [34.170578000000006, -118.304515], [33.86871, -84.44266], [36.125096, -86.813632], [39.222162, -76.660093], [35.161303000000004, -90.020009], [40.453761, -74.273188], [30.504474, -91.151407], [35.981265, -77.86670500000002], [36.191096, -86.673969], [34.06573, -117.99422], [39.08573, -77.1696], [32.837091, -83.614242], [34.065309, -117.306679], [36.18646500000001, -86.757713], [33.853970000000004, -117.92433], [39.67448, -105.081417], [27.31448, -82.10821], [35.29216, -80.756393], [35.6237, -97.44283], [33.386415, -111.794089], [25.605246, -80.351185], [35.080771, -120.586693], [36.10776, -86.72012], [34.004992, -117.394634], [40.999713, -74.07159399999998], [41.157335, -111.143012], [39.995323, -75.083566], [33.93915, -117.219605], [37.84193, -122.29746000000002], [36.10956, -118.919845], [40.802117, -73.916498], [34.175078000000006, -117.676555], [28.39295, -81.244247], [38.47038, -121.498867], [42.49828, -82.91713], [45.10899000000001, -93.39212], [40.268332, -76.88183599999998], [34.008125, -117.968734], [35.254753, -96.775179], [37.605677, -120.997901], [33.94085, -118.09671000000002], [30.32250100000001, -81.54213], [41.735063, -72.743569], [39.782753, -86.152642], [34.032342, -118.029106], [36.7959, -121.721513], [39.161099, -123.583992], [32.721468, -96.830368], [38.520456, -76.722746], [30.692086, -88.025432], [35.4933, -97.60114], [40.420005, -80.034829], [33.884251, -118.029049], [41.040804, -73.578586], [42.219262, -122.716695], [34.16795, -118.58815], [38.842903, -77.008656], [39.63443, -84.21194200000002], [33.189609999999995, -87.45166], [40.71223, -73.954565], [44.93413, -93.27453], [37.572907, -122.31636], [28.565166, -81.207339], [32.322626, -110.949082], [38.35884, -77.018764], [38.84737, -77.42849], [34.174232, -78.974453], [34.081352, -117.630077], [32.716673, -117.120105], [45.981831, -93.661959], [33.73602, -117.99428], [37.841363, -122.297042], [36.988815, -121.954649], [45.061509, -93.158217], [42.961759, -85.68249399999998], [34.042952, -118.272653], [26.185037, -80.152357], [40.731576, -74.03969599999998], [37.06215200000001, -120.182415], [26.072691, -80.215825], [44.36934, -92.61357], [26.546105, -81.85526], [33.97867, -118.07803], [33.461533, -112.099739], [38.703762, -120.401873], [40.054757, -75.33791], [39.16376500000001, -77.237689], [29.89092, -95.41199], [37.842205, -120.998113], [37.658107, -122.096868], [25.89915, -80.192673], [40.363219, -111.560249], [42.491248, -83.059275], [37.783543, -121.308856], [38.424989, -77.421226], [32.912557, -96.87629], [40.083184, -75.16205500000002], [38.301204, -122.70603], [34.038678000000004, -118.176569], [42.132411, -122.633351], [38.688396, -121.401352], [26.621123, -81.736737], [25.68619, -80.430098], [25.868406, -80.233536], [30.21615, -81.76108], [30.531701, -87.087184], [25.671643, -80.393191], [39.033403, -77.358228], [34.067308000000004, -117.984268], [30.29411, -91.92022], [36.713239, -119.970056], [27.984019, -82.381165], [27.5972, -80.820072], [44.8794, -93.0607], [25.455461, -80.475078], [38.672457, -121.865183], [34.306493, -110.995699], [40.741971, -74.083911], [37.88847, -78.03583499999998], [36.488885, -119.526346], [34.134271000000005, -117.353315], [27.849429, -82.663637], [42.153773, -88.026643], [30.525068, -85.405487], [40.804381, -73.91829399999997], [40.68729, -73.618863], [40.71579000000001, -73.80588], [28.01216, -82.70881999999997], [43.166474, -73.714174], [34.071889, -117.872551], [33.054889, -116.871421], [37.926362, -122.060449], [40.911451, -73.852319], [34.281690999999995, -119.30568], [34.154487, -118.285964], [26.679459, -81.776238], [40.609197, -74.313024], [25.926862, -80.188198], [41.30249, -73.10055], [27.438026, -82.53054], [32.915289, -96.741386], [40.884082, -111.911763], [25.768453, -80.336301], [31.708017, -106.320283], [38.72753, -121.287128], [40.19096, -76.45416800000002], [37.394068, -120.739623], [30.243235, -97.71674], [30.113934000000004, -81.51365600000003], [44.888567, -93.361799], [37.342865, -80.98134399999998], [36.963294, -81.087416], [33.97465, -118.281119], [32.601532, -117.089742], [33.880835, -81.04028199999998], [40.911766, -73.88465500000002], [38.984481, -76.581176], [40.82271, -111.916153], [42.9608, -85.67504], [38.724545, -121.175397], [43.101757, -123.482111], [25.57793, -80.366148], [28.383688, -81.505875], [30.452585, -91.071543], [44.854635, -93.394398], [44.95296, -93.08803], [33.179896, -117.309446], [33.941627000000004, -117.555803], [36.003217, -117.333051], [39.510544, -119.994702], [39.942601, -75.608302], [34.067307, -117.54988], [34.07478, -118.16164], [33.992151, -117.227143], [45.5304, -122.61497], [33.98815, -118.375307], [37.67211500000001, -97.436874], [33.861833000000004, -118.011339], [38.58922800000001, -121.382928], [32.718793, -117.117705], [44.51401, -88.08273], [40.908665, -74.595209], [30.24059500000001, -97.726818], [34.699268, -81.232589], [36.836954, -76.101897], [43.125943, -75.417213], [38.428727, -122.715193], [42.62662, -123.38318], [45.03508, -93.08435], [40.39498, -83.26974], [40.402257, -75.926241], [28.0356, -80.67148], [30.457709, -83.43977], [40.972701, -79.014662], [39.6389, -76.33295], [41.230576, -96.08696], [41.417266, -73.402866], [35.206487, -80.795435], [33.293015999999994, -117.223424], [39.58993, -77.812546], [36.808146, -119.887194], [26.081091, -80.216192], [39.925562, -74.95975200000002], [43.398788, -73.612507], [37.426364, -120.743362], [25.702429, -80.33314200000002], [34.01631500000001, -117.817701], [41.07018400000001, -111.97308999999998], [45.508132, -122.777308], [25.796984, -80.335963], [42.927612, -85.66967], [45.708097, -121.565436], [40.039449, -86.389074], [27.4293, -82.54668000000002], [41.195911, -73.124864], [33.383728999999995, -117.251356], [33.825615, -118.228158], [34.990364, -118.942706], [28.578613, -81.476138], [41.17902, -73.18119], [36.772454, -119.85333500000002], [40.79995, -73.33681], [27.871732, -82.326764], [33.49407, -112.117065], [35.923868, -79.175792], [39.662929, -106.823104], [34.426721, -117.380482], [40.69992, -111.849068], [42.995807, -83.733108], [39.379201, -77.407418], [38.880173, -77.240291], [32.222426, -110.84108700000002], [35.349427, -119.039616], [42.29692100000001, -113.176025], [33.77553, -117.84732], [41.16766, -73.22822], [34.01873, -118.17352], [43.65239, -89.81291999999998], [40.68709000000001, -111.847107], [28.125944, -81.472656], [38.80309000000001, -90.73641], [41.117838, -79.19600799999998], [40.027958, -122.09986200000002], [28.597382, -81.244578], [36.171487, -86.798976], [30.226078, -97.786278], [40.63439, -111.82102], [36.983333, -121.465278], [43.93889, -92.348197], [28.56681, -81.206435], [26.206182, -80.132733], [33.858971999999994, -117.536104], [33.601979, -117.686293], [41.279417, -122.29204], [38.697141, -120.078215], [35.83065300000001, -78.628886], [33.876847, -84.44934], [33.7033, -84.16691], [42.970603, -85.680214], [32.771905, -96.753182], [39.967307, -76.065332], [41.426304, -78.726093], [37.720924, -121.93836], [27.4463, -82.49948], [33.77426, -118.077728], [33.920075, -118.265374], [33.808505, -118.081596], [37.493151, -121.101361], [41.87323, -87.6206], [33.641152000000005, -117.381604], [30.379590000000004, -97.68771], [39.23503, -84.62789000000002], [34.579746, -117.972512], [40.186073, -75.513611], [33.941182, -118.096502], [25.711643, -80.38238100000002], [33.889581, -84.26263900000002], [28.026841, -82.192829], [47.628783, -116.681456], [25.92487, -80.305], [34.181862, -118.396958], [29.973145, -90.04445600000004], [25.809255, -80.319017], [32.7917, -80.03224], [34.156667, -118.415678], [44.06533, -92.50031], [40.4358, -75.42453], [34.895309000000005, -82.311143], [40.729393, -74.223435], [35.183678, -80.752205], [35.197923, -87.031494], [30.581499, -88.16969300000002], [37.641174, -121.009049], [35.112390000000005, -106.70374], [34.146343, -118.07346499999998], [33.8819, -117.58375], [25.868275, -80.209884], [25.518665, -80.39312], [38.46909, -122.74042], [33.09245, -80.64889699999998], [39.442135, -76.34509], [34.018322999999995, -117.524415], [36.544667, -119.282528], [33.926347, -118.368518], [33.8544, -117.7908], [32.310599, -86.36389100000002], [34.098208, -117.301773], [43.212187, -77.638568], [36.758719, -76.341215], [25.685996, -80.39984399999999], [45.24316, -120.17954], [36.064602, -79.458902], [29.770106, -95.340918], [34.173528000000005, -118.556479], [39.115471, -94.578419], [45.5254, -122.66171], [37.892862, -122.125001], [35.584173, -78.75699200000003], [33.415382, -112.029793], [41.222189, -74.184264], [30.312382, -97.730802], [29.35645, -98.41508], [26.16231, -80.16253], [45.639921, -94.953428], [28.551795, -81.56479399999998], [39.42071, -76.64496], [28.409568, -81.476117], [39.916452, -75.417612], [27.734611, -82.38282], [30.518585, -89.10857299999998], [42.698806, -73.714523], [33.462165, -112.069216], [36.090892, -86.734654], [34.024445, -118.469257], [28.25979, -81.605851], [25.924424, -80.31085300000002], [37.83443, -79.36968], [40.75997, -73.83859], [33.152883, -80.06108499999998], [32.375668, -86.02894599999998], [27.111931, -82.384421], [39.22164, -76.70128000000003], [34.004472, -118.06387], [37.182083, -93.28022], [28.451044, -81.356241], [35.731403, -78.644325], [29.881519, -95.411948], [33.767736, -117.478699], [45.204374, -93.365415], [47.372885, -93.156927], [33.46498, -112.10985], [34.182867, -118.159659], [28.451602, -81.477678], [29.722152, -95.512333], [41.42073, -81.81912], [40.463626, -76.517653], [42.40054, -83.07091], [39.378144, -121.539785], [30.26441, -81.51926999999998], [45.836752, -118.420096], [27.208985, -81.83165100000002], [38.54389000000001, -75.947251], [32.79177, -96.73262], [38.859141, -78.52680600000002], [39.40392, -111.56721], [32.853597, -96.843539], [39.742063, -84.18700000000003], [47.3504, -122.24466], [39.983384, -75.10068299999998], [32.816109999999995, -96.86811], [46.769979, -95.785438], [40.24838, -75.29519], [35.913094, -84.60038], [34.791798, -118.834708], [42.437599, -122.757507], [39.094986, -77.52859699999998], [30.33217800000001, -81.673551], [45.582121, -118.610298], [35.036314000000004, -90.789201], [34.066461, -117.331676], [38.731495, -86.489793], [44.79882, -93.2895], [34.173263, -118.540045], [32.278215, -95.345254], [33.97432, -118.12412], [34.067366, -117.563705], [25.945115, -80.205365], [39.912975, -75.571826], [37.85082, -122.23252], [29.590686, -98.600673], [33.7332, -117.81519], [45.343204, -121.142174], [32.853831, -117.181774], [40.737079, -73.93220500000002], [26.514947, -81.94807800000002], [37.743657, -97.30231], [43.58906500000001, -116.213604], [37.209444, -121.7225], [40.844882, -73.90534], [28.650503000000004, -82.446264], [33.514956, -117.588771], [40.733281, -74.124723], [33.876596, -118.18612], [45.194512, -93.394012], [39.869996, -75.28494], [42.382603, -73.465458], [41.508533, -95.906023], [27.96697, -80.62266], [34.191829, -118.943679], [45.079983, -123.626714], [32.837231, -97.046774], [38.90383, -76.942262], [39.71124, -105.0251], [29.730484000000004, -95.410598], [38.394995, -120.816425], [39.31632800000001, -120.349235], [45.038269, -120.721187], [42.912629, -85.615932], [32.82453, -96.629913], [38.499675, -77.38046899999998], [40.780737, -73.420172], [38.604048, -121.506653], [43.0753, -75.34178100000003], [32.765339000000004, -97.318686], [33.941206, -117.271365], [34.134172, -117.676698], [34.14855, -118.0734], [38.50351, -121.423578], [34.64156, -118.15306], [37.78176, -122.39721000000002], [44.89029, -93.28835], [26.70764, -80.13825], [41.694735, -88.030132], [27.964593, -82.412577], [34.451193, -118.422399], [34.14612, -118.36911], [29.712957, -95.610725], [33.87679, -118.10739], [33.89391, -84.25702], [43.305581, -76.580153], [37.548624, -77.651015], [44.405547, -95.127621], [25.765225, -80.336334], [41.81911, -71.38309], [33.219641, -97.170435], [29.637122, -98.217331], [44.941409, -93.456519], [29.875601, -95.287892], [33.691863, -84.500191], [34.072665, -117.097655], [34.437855, -118.336122], [41.292416, -112.093057], [37.994997, -122.29028999999998], [30.003778000000004, -90.05221800000002], [36.046329, -95.905274], [25.680743, -80.416517], [41.771897, -72.59974799999998], [39.8115, -86.16938], [39.28764, -84.40123], [39.104931, -120.162505], [30.430191, -91.056703], [36.234165, -86.72041999999998], [45.370063, -118.294449], [38.911162, -76.932757], [37.909601, -121.288172], [47.458661, -122.26436], [28.493792, -81.459929], [40.478022, -111.436544], [33.382462, -80.520786], [42.927636, -78.850374], [32.75713, -117.22317], [28.769951, -81.358305], [38.134416, -77.528972], [32.677107, -96.857145], [35.97118, -83.980017], [33.953064000000005, -118.368941], [25.701827, -80.347041], [33.702290000000005, -117.776675], [32.41457800000001, -86.352917], [32.96516, -96.82166], [32.46836500000001, -83.745077], [44.61111, -123.062193], [38.36576, -122.712241], [32.323408, -111.046019], [37.436481, -121.919606], [39.32177100000001, -123.099079], [25.92478, -80.154122], [47.446464, -122.21608700000002], [39.016994, -122.642574], [40.052762, -82.99773], [37.6082, -113.35625], [41.039074, -73.836568], [35.065301, -90.025631], [35.184854, -80.888111], [35.480326, -80.87504], [39.95937, -76.65995], [34.606613, -120.098139], [37.261877, -119.93931], [32.731163, -90.048889], [34.050755, -118.006398], [35.007153, -81.217642], [38.986, -77.15751], [34.26184, -119.23169], [39.79414000000001, -105.05794], [45.32492, -118.08764], [29.77768, -95.4553], [34.004792, -118.172994], [36.6779, -119.73682], [41.503062, -72.76893199999998], [34.837996000000004, -82.28894], [34.06327, -118.16185], [27.307657, -82.482203], [38.496203, -121.44053], [33.791177000000005, -78.777321], [36.030923, -78.843712], [35.585347, -77.224101], [39.273644, -76.621087], [41.26778, -111.96949], [25.842546, -80.24974399999998], [30.227178, -97.761638], [33.628442, -117.720913], [40.76949000000001, -73.690457], [35.195744, -78.849508], [32.3573, -80.921419], [37.583921, -77.47415500000002], [40.730806, -112.589934], [41.65056, -93.586411], [41.346001, -72.86864], [34.32286, -118.479137], [47.167471, -122.475489], [34.132057, -117.217489], [34.066026, -117.396148], [40.272048, -79.074686], [32.414763, -80.65216600000002], [42.49205900000001, -83.00032399999998], [27.96661, -82.45345400000002], [33.88872, -118.03717], [33.694971, -84.404472], [37.595986, -122.058843], [34.986736, -80.33030500000002], [41.334589, -122.334812], [34.17352, -118.556975], [38.643059, -121.429745], [45.68708, -122.87271], [39.55931, -105.10414], [28.647082, -81.388838], [37.260832, -93.224741], [34.007174, -118.414369], [38.994606, -77.485683], [37.1382, -93.29711], [34.154337, -118.392716], [27.051135, -80.23509200000002], [25.73589, -80.319411], [41.111714, -78.54164499999997], [44.945541, -93.078273], [33.61183, -117.70402], [35.082335, -80.873349], [43.02795, -88.021341], [40.225936, -76.092435], [46.139666, -93.703009], [33.659619, -111.931661], [42.948715, -85.666678], [35.550731, -120.716271], [37.475524, -120.853533], [39.46289, -112.43211], [34.222251, -117.40974], [44.096599, -123.129566], [34.066026, -117.396148], [38.957806, -77.02821], [43.29886, -123.35002], [38.11392, -85.698211], [29.37255, -98.39528], [41.82572, -86.67804], [33.825367, -118.223404], [25.578347, -80.369697], [39.85758, -84.18938], [40.8419, -73.945358], [35.188259, -80.77324], [25.889511, -80.162851], [33.949717, -118.27957], [30.20111, -97.76173], [42.698806, -73.714523], [37.58581, -122.051591], [34.441446, -111.455534], [27.955559, -82.490597], [35.412385, -119.067701], [38.448789, -121.44462], [26.146076, -80.546447], [40.70148, -73.98969], [34.593658000000005, -118.150277], [34.19276, -79.80332299999998], [36.692479, -82.016211], [38.1166, -85.69945], [36.120376, -86.80739], [32.58036, -83.71993], [44.94849, -92.868987], [34.087763, -80.959467], [38.638336, -121.52338799999998], [28.58225, -81.37522], [33.943179, -117.074579], [40.70249, -73.81631], [40.64306, -73.95164], [31.771704, -106.491876], [33.881833, -117.268201], [37.837998, -122.296702], [34.049619, -118.19003899999998], [34.997215999999995, -85.05753], [28.452476, -81.47081800000002], [34.155728, -118.43123500000002], [29.847532, -95.394236], [37.175588, -93.340377], [42.197281, -87.984619], [35.361481, -90.279711], [32.163295, -110.94268], [25.942684, -80.203142], [36.782773, -76.23688800000002], [42.94282000000001, -85.71215], [41.519514, -72.772826], [28.347858, -81.419797], [34.018961, -118.178654], [42.08425, -88.03102], [30.23292600000001, -97.800732], [33.76685, -117.97599], [40.72576, -111.98203], [32.513989, -93.728434], [44.902292, -93.401373], [25.89829, -80.21127], [47.44331, -121.66814], [36.059102, -79.66149200000002], [34.347021000000005, -117.476956], [33.853995, -117.943048], [40.57277, -75.392535], [41.61372, -83.68417], [35.099548, -80.780452], [34.168194, -117.300496], [40.73180900000001, -74.084133], [25.941051, -80.24421], [38.52446, -121.46727], [25.608855, -80.414107], [40.858971, -123.497408], [46.485546, -97.67896], [38.904107, -77.018215], [25.854102, -80.244066], [37.43822, -77.472912], [39.93214, -105.12165], [24.589512, -81.681389], [28.433711, -82.602158], [39.941255, -75.34956700000002], [25.925515, -80.171996], [25.974415, -80.147591], [41.675778, -122.727222], [34.067736, -80.982093], [39.923419, -77.765383], [28.843831, -81.310694], [40.117578, -75.35072199999998], [40.30607, -79.593597], [40.71487800000001, -111.784942], [30.171893, -85.789208], [40.58181, -104.67745], [40.0445, -86.48735], [34.134611, -112.147256], [44.568417, -122.914129], [40.66332, -73.80336], [28.568657, -81.249208], [39.5292, -76.18577900000003], [36.813372, -76.349111], [32.909406, -96.804088], [41.19018, -73.68769], [40.810183, -73.937414], [28.338919, -81.409591], [32.488686, -80.74096999999998], [28.553266, -81.459372], [38.847746, -77.301476], [28.882439, -81.280937], [41.13458, -74.16811], [33.945532, -118.282615], [31.503757, -86.925426], [38.689739, -121.354445], [41.91459, -87.94], [43.596917, -116.473552], [36.038128, -86.646866], [28.551914, -81.491106], [25.736216, -80.262152], [35.050558, -81.81900999999998], [34.644329, -120.430682], [38.912018, -94.524596], [34.06754, -117.55608], [33.07977, -80.26149699999998], [41.32165, -72.37165999999998], [25.89613, -80.37898], [32.697854, -117.138053], [39.263868, -76.56671899999998], [33.880938, -117.599126], [38.891848, -76.95604200000002], [42.448983, -93.835488], [40.073782, -75.348556], [47.86829, -122.27679], [38.972244, -77.30070500000002], [45.72952100000001, -123.250021], [40.82533400000001, -76.873193], [47.50145, -122.27581], [38.581947, -121.514131], [40.943908, -73.87491800000002], [35.29507, -84.812682], [34.120076, -117.837967], [44.778631, -93.288227], [37.390347, -76.768201], [47.43922, -94.86364], [40.002347, -75.58421], [39.74196, -86.13768], [28.528282, -81.434332], [28.61858, -81.36561999999998], [27.29876, -82.48098], [28.135196, -80.687928], [26.20755, -80.13985], [37.74116, -121.580467], [35.33673, -80.742509], [26.087218, -80.362898], [33.856752, -117.984639], [39.971023, -75.042705], [36.536201, -84.481858], [38.42656, -122.714956], [32.75943400000001, -117.175886], [37.698207, -122.149007], [29.90995, -90.20268], [36.13293400000001, -86.76542099999998], [34.27583, -118.383682], [42.03843, -87.97879], [40.72602, -111.96163], [34.052547, -117.300935], [39.17027, -94.55814], [40.787274, -73.824016], [46.778358, -92.108741], [38.683023, -121.33652], [38.582795, -121.5027], [33.95328, -118.08998], [45.619622, -120.739113], [47.750801, -111.66603], [38.611167, -90.203895], [39.958811, -75.912951], [34.066832, -117.9878], [39.634352, -105.89623600000002], [37.84193, -122.29746000000002], [39.546885, -75.94815], [44.799488, -93.038824], [32.254191, -110.91407], [29.49533, -98.6185], [31.77822, -106.452314], [28.006617, -82.505022], [33.80084, -118.20708], [38.27632, -122.047369], [40.851449, -73.952134], [35.077848, -80.816755], [33.548019000000004, -81.667004], [47.066149, -109.424894], [37.58717, -122.3537], [40.18043, -118.47004], [33.87897, -117.55805], [35.91219, -78.65511], [38.649818, -120.950017], [45.15073, -122.703652], [38.88525, -76.844289], [33.581332, -117.671877], [38.601773, -122.864975], [38.254385, -122.703315], [36.99199, -79.67639100000002], [30.43851, -88.550818], [40.06712, -75.30943], [27.720634000000004, -82.43395100000002], [39.01598, -77.11636], [35.97151599999999, -80.495847], [41.930319, -72.607794], [40.264452, -103.80504], [26.547965, -81.83930600000002], [38.493255, -121.161233], [36.021791, -95.88642], [40.76292, -73.86065], [33.568788, -117.699656], [37.244542, -121.773308], [27.922648, -82.370281], [36.23229, -86.62471], [33.961742, -118.282754], [44.8746, -93.04637], [32.784486, -117.108655], [45.525281, -122.661725], [29.501649, -82.296749], [34.161461, -117.46538], [36.52275, -121.45948], [37.551111, -120.712187], [47.834118, -122.266341], [36.707777, -119.763712], [38.675413, -90.361856], [35.43987199999999, -119.085368], [40.62573, -73.95638000000002], [25.769442, -80.33892900000002], [37.197035, -93.317195], [34.10938400000001, -117.528674], [40.892432, -122.794736], [33.622567, -117.715484], [28.451003000000004, -81.35939300000003], [40.13664, -74.96269000000002], [35.766231, -78.601966], [33.964364, -80.45564499999998], [41.818155, -71.397093], [42.253171, -83.184903], [33.731612, -117.400952], [37.70167100000001, -121.877029], [39.86628, -86.04731], [30.423297, -91.156496], [38.34875, -121.99069], [36.188837, -86.792819], [38.727395, -77.20075600000001], [45.52455, -122.56518], [40.475895, -123.883565], [25.71496, -80.32644], [36.869362, -119.744357], [25.73589, -80.319411], [40.934036, -76.729345], [25.932329, -80.293591], [45.50859000000001, -122.77801], [45.006362, -93.282455], [40.75293, -74.11869], [26.69224, -80.11986], [36.031823, -95.886557], [44.283569, -93.116531], [25.926013, -80.163996], [33.975346, -117.879411], [37.561266, -76.61444], [42.969878, -77.075518], [42.858406, -73.77447], [37.418362, -76.814483], [42.868667, -78.83378], [39.29628, -76.56783], [33.91225900000001, -118.326451], [45.057667, -117.941526], [46.511752, -114.066749], [45.712845, -121.522272], [35.76639, -78.73574], [27.388152, -82.46345600000002], [40.965259, -123.641563], [33.876935, -118.151383], [34.309875, -117.472778], [34.023637, -118.277025], [39.82105, -85.77488000000002], [45.335538, -122.76956], [45.51525, -122.66765], [47.61762, -95.853861], [42.709381, -85.660776], [35.153896, -89.88159300000002], [44.660755, -123.910108], [32.157686, -110.909338], [45.689338, -120.49576100000002], [25.491722, -80.49176], [43.933379, -93.091339], [25.768644, -80.36648100000002], [45.00746, -93.401], [34.983589, -120.432595], [29.639782, -98.212119], [26.469928000000003, -81.793759], [37.536989, -77.438839], [33.987475, -117.890169], [38.636868, -121.49428], [38.394888, -119.45279], [38.785961, -77.315371], [38.495969, -121.459148], [34.056889, -117.958224], [40.652607, -73.976996], [26.649412, -81.86348199999998], [32.853544, -117.181915], [41.74518, -87.83939000000002], [40.693053000000006, -111.98173], [42.181612, -121.823651], [44.08408, -123.043007], [29.945083, -90.064728], [36.261918, -86.77604699999998], [40.128561, -75.547217], [37.524922, -120.887058], [29.70929000000001, -95.2248], [40.62498, -74.01916999999997], [25.796813, -80.328079], [37.517743, -77.209485], [25.925513, -80.175177], [40.69408, -111.90268], [27.48525, -82.43396], [37.960006, -121.333487], [25.898729, -80.186768], [38.643288, -107.584005], [37.10641, -121.97579], [42.99284, -83.74441], [38.91721, -76.97256999999998], [25.95766, -80.19773], [44.827899, -93.111421], [34.091277000000005, -80.935281], [37.57507, -122.0469], [25.857782, -80.20948100000003], [32.221656, -110.920367], [34.168698, -81.27410400000002], [32.641307, -117.093509], [33.873369, -118.216449], [42.94863, -85.6616], [40.28346, -74.69634], [35.426971, -119.132946], [39.913147, -75.331773], [40.752807, -74.191843], [37.631724, -120.957254], [40.555678, -74.31152800000002], [40.031688, -86.46585300000002], [32.89435, -97.342036], [38.59377, -77.299999], [34.070926, -118.235602], [38.359762, -81.713229], [37.631042, -120.974723], [44.87287, -122.880685], [36.948551, -120.047973], [34.065095, -117.305821], [34.443093, -118.605509], [38.653576, -77.287148], [37.303742, -120.492974], [30.314066, -81.66064], [34.058981, -118.216416], [44.903686, -83.443088], [25.941223, -80.306794], [36.177034, -86.597289], [40.595244, -78.768078], [44.252926, -123.22446200000002], [40.058028, -75.485964], [26.0841, -80.19298], [29.89637, -95.20318], [35.444069, -80.99884200000002], [26.30158, -80.2434], [40.594493, -123.010064], [42.21775, -83.55396999999998], [36.353882, -87.663684], [34.07994, -117.73774], [34.059104, -117.121482], [25.886854, -80.127313], [30.106262, -81.797221], [34.065656, -117.996206], [34.374965, -118.496464], [44.89134, -93.44326], [36.432324, -87.071854], [30.33579000000001, -97.60497], [25.521057, -80.48181899999999], [35.477945, -80.819664], [34.211653000000005, -118.228028], [28.392874, -81.37246999999998], [37.783203, -121.221933], [37.98349, -122.04161], [37.293798, -121.809718], [34.495806, -118.623932], [37.68081, -113.082782], [30.415952, -91.071397], [32.64205, -96.82996], [37.63826, -120.912653], [27.439695, -82.57542], [36.99477, -119.998908], [40.79083, -77.863803], [44.9501, -93.10364], [43.224612, -123.360111], [36.954746, -76.26425], [34.07107, -118.4651], [37.930835, -76.856602], [41.744678, -72.66207299999998], [32.543954, -97.314766], [37.346217, -120.923806], [35.30983300000001, -80.926076], [37.621437, -122.07731499999998], [37.25242, -122.05835], [33.826457, -117.925667], [44.406105, -122.283035], [26.683312, -80.163706], [38.50894, -77.378039], [30.345901, -91.148663], [40.054513, -75.64352199999998], [30.435336, -91.177242], [33.367419, -79.45275500000002], [34.033988, -117.987482], [32.82077, -117.147133], [42.823991, -118.942915], [37.960983, -121.206915], [40.799824, -73.929906], [34.886034, -82.593778], [36.769845, -76.465251], [37.371072, -113.255024], [40.844796, -73.905512], [38.916762, -76.921104], [33.692075, -117.766345], [41.35827000000001, -75.05033900000002], [35.05536, -85.13723], [37.586976, -77.338001], [38.16623, -85.56936], [47.298797, -115.176172], [40.814023, -124.105394], [25.732159, -80.38112], [28.163726, -81.120418], [38.0727, -84.48269], [35.098561, -85.328096], [34.311921000000005, -119.292195], [34.071467, -118.122988], [32.71983, -117.11757], [33.964459999999995, -117.32559], [35.907257, -78.899785], [46.831294, -100.777813], [33.994936, -117.361174], [41.86143, -87.64453], [32.243451, -110.876619], [25.764375, -80.265059], [39.177879, -121.662265], [38.05963300000001, -77.505036], [29.273409, -81.121847], [44.063769, -123.095766], [25.702455, -80.332105], [48.254852, -114.254684], [27.99814000000001, -81.9944], [34.938968, -118.930754], [28.367, -81.32209], [34.82069, -118.156084], [39.689149, -75.639358], [33.976081, -118.282677], [40.607691, -74.143702], [26.964852, -80.17182], [27.93797600000001, -82.251956], [29.77688, -95.38401], [33.99025, -117.921034], [40.678993, -73.699114], [36.871555, -76.43336500000002], [42.367583, -73.844894], [40.80637700000001, -73.236267], [45.410439, -122.524593], [34.700876, -81.655535], [28.450781, -81.477807], [45.63766, -90.39208], [41.45405, -81.71858], [36.603149, -120.361266], [25.86339, -80.257706], [35.354568, -119.252338], [38.849161, -75.812478], [45.871441, -111.241501], [34.045295, -117.963135], [38.037832, -78.706243], [34.066403, -117.55831299999998], [38.525109, -122.497629], [32.86966, -96.751207], [34.205406, -117.106543], [42.467941, -123.50417], [30.38931, -91.061751], [40.461046, -123.841617], [39.378358, -77.407103], [42.878555, -85.377105], [33.916418, -118.347279], [35.923693, -84.064993], [44.832086, -92.963429], [44.051651, -92.492642], [25.702908, -80.318058], [39.39146, -77.3228], [26.597345, -81.84673199999997], [40.15863, -76.38955], [33.71752, -85.02075], [36.584435, -121.895694], [32.94007, -83.77526], [37.479488, -122.408972], [34.047292, -118.175079], [35.708826, -78.627593], [29.636147, -95.414945], [44.948201, -93.079983], [38.973149, -77.121876], [33.87897, -117.55805], [33.876719, -118.187766], [40.101316, -75.113745], [38.670878, -122.812043], [37.55948, -77.4698], [38.662443, -121.22571], [34.068639000000005, -117.974155], [32.34818, -111.0992], [45.961786, -92.959839], [36.148643, -86.857892], [40.906582, -74.16339599999998], [37.861886, -112.824903], [45.111612, -122.878099], [32.792505, -96.683671], [40.697117, -74.12441899999997], [33.437615, -86.722368], [27.497159000000003, -82.475169], [33.397412, -111.840061], [40.03737, -75.247137], [39.944292, -75.279657], [34.169027, -118.594163], [45.711292, -118.992126], [30.358844, -97.736522], [38.688549, -120.624367], [37.64082, -77.56063], [33.893625, -118.047021], [38.25854, -85.7623], [47.454875, -122.264453], [40.971531, -73.861102], [33.960574, -84.11228], [28.49327700000001, -81.427867], [34.228971, -118.393416], [40.876768, -74.119187], [45.361899, -122.61192], [33.458234000000004, -112.311875], [41.378719, -81.5129], [33.912859999999995, -118.14588], [25.883616, -80.211893], [39.069539, -77.159975], [33.629779, -84.41475799999998], [32.872208, -117.22905], [39.777877, -76.67053], [37.761572, -118.458504], [37.66779, -122.39456], [28.467922, -81.418533], [40.49598, -79.912587], [30.381102, -97.684982], [25.715168, -80.431221], [32.75992, -97.1153], [30.337572, -97.804922], [40.200101, -74.591599], [30.00775, -90.21779], [38.83404, -77.44968399999998], [36.721168, -121.792126], [44.72488, -94.54511], [38.451098, -75.055008], [35.849564, -78.583549], [42.394089, -82.990974], [39.60568, -77.72584], [26.408365000000003, -81.772828], [32.689476, -96.629087], [47.5017, -122.19629], [25.854989, -80.184904], [28.567595, -81.20780400000002], [35.412207, -119.673975], [32.772654, -96.84379], [37.783518, -121.193461], [43.1121, -75.205203], [32.71652, -117.11632], [43.015948, -85.68976500000002], [40.7259, -112.0187], [32.39171, -111.046907], [34.63253, -117.84941], [34.212106, -118.348554], [28.38097, -81.50171], [34.071065999999995, -117.952708], [37.1237, -121.62908], [38.89568, -76.84866], [39.28172, -77.537185], [40.441409, -79.858238], [41.82117, -71.4203], [42.31661, -88.00455], [34.05603, -117.687249], [36.81408, -81.56031], [41.88509000000001, -88.19448], [34.402039, -118.456133], [40.618481, -111.787831], [34.103868, -118.251553], [30.72568, -86.57474300000001], [37.396371, -122.016472], [43.61799600000001, -122.08081], [30.44475, -84.292767], [33.934785, -118.231083], [37.93225, -120.450861], [35.88413, -78.82112], [26.98767, -82.30761], [33.414741, -81.84227], [41.03674, -73.67549], [40.731139, -74.051249], [33.384009000000006, -111.779952], [45.392689, -122.418602], [25.821447, -80.248828], [40.24078400000001, -76.89121800000002], [38.641714, -121.410695], [34.117799, -118.337568], [34.006944, -81.038085], [38.49609, -121.416426], [40.088257, -75.726363], [25.880151, -80.209149], [32.716609000000005, -80.860394], [34.321412, -118.496747], [28.227712, -80.679012], [43.185075, -124.25186200000002], [47.71254, -116.94213], [28.595515, -81.30709300000002], [37.903123, -122.515557], [43.960901, -123.011265], [38.05217800000001, -78.915487], [32.85392, -96.64543], [36.706451, -119.610147], [44.88977, -93.35832], [26.08149, -80.15899], [30.196651, -97.800257], [25.64728, -80.333658], [37.419458, -122.175902], [36.10308, -86.765913], [34.15681, -118.41021], [39.05595, -94.49374], [41.63461, -83.62595999999998], [34.129908, -117.933695], [40.60948, -111.981419], [29.939832, -95.295595], [39.615242, -86.473979], [36.377088, -119.21564], [34.173263, -118.306456], [32.853282, -96.6659], [28.551534000000004, -81.536645], [42.07186, -88.31373], [28.449065, -81.363827], [41.843463, -123.211309], [42.58706, -71.1609], [34.85625, -82.44384000000002], [40.848148, -74.171347], [45.858832, -110.589067], [34.319654, -118.42686100000002], [32.753563, -96.809495], [27.12280800000001, -82.397533], [29.622563, -82.389661], [40.419723, -76.41978], [34.212106, -118.348554], [40.73232, -74.12527], [45.139242, -94.839759], [32.223667, -110.78986299999998], [28.734032, -81.306747], [36.962792, -76.27172900000002], [38.99177, -76.88377], [33.573194, -117.658264], [37.466537, -122.208004], [33.82575, -118.24584], [47.15855, -122.45772], [40.632016, -73.991663], [32.740496, -96.821966], [39.702792, -75.65306899999999], [45.66337, -121.89373], [35.17799, -89.79302], [41.71466, -88.01071999999998], [35.880374, -78.572293], [28.578027, -81.46071500000002], [28.428143, -81.405668], [39.699386, -104.164885], [32.896092, -96.89469], [37.841366, -122.297047], [33.964382, -118.120064], [30.332554, -81.552468], [40.257903000000006, -79.205303], [37.702487, -121.744508], [42.360886, -87.999033], [36.739774, -119.777438], [45.737918, -92.992068], [38.363778, -81.6701], [35.40674, -80.89466999999998], [28.568955, -81.207835], [32.843920000000004, -96.63466], [39.465957, -104.87364], [35.16395, -80.95784], [33.881170000000004, -117.61765], [40.864133, -73.872027], [45.50421, -122.5106], [34.027584000000004, -118.173992], [37.554732, -79.661675], [35.017794, -85.168687], [41.82042, -88.20378000000002], [35.72729, -78.58577], [38.999447, -77.321954], [45.50147, -122.662], [39.43781, -76.81940999999998], [28.9819, -81.923253], [36.677949, -119.785743], [44.93322, -123.17007], [33.97189, -117.84641], [41.69724, -88.04433], [34.081233000000005, -118.30045], [37.319029, -120.504944], [45.411418, -122.572478], [40.093347, -74.095699], [33.69565, -117.93471], [44.045713, -123.024726], [40.731129, -73.925852], [33.85387, -117.954219], [33.925541, -118.309152], [40.138635, -75.243706], [33.903713, -118.361282], [47.41286, -122.22058], [28.451231, -81.239808], [33.813592, -118.167537], [34.067483, -117.545259], [34.220351, -117.410158], [33.480667, -117.140523], [37.76713, -121.33151], [28.381335, -81.425568], [32.79076, -96.75858], [35.036564, -90.786633], [32.19965, -110.94964], [40.850603, -73.946782], [38.410575, -122.715939], [34.023764, -117.770879], [44.06469, -123.17363], [39.404879, -76.66194300000002], [33.670724, -112.113364], [37.467788, -122.209703], [33.988889, -118.352388], [39.86445, -75.10073], [39.340776, -120.342582], [25.68692, -80.416652], [40.76508, -73.89480999999998], [32.237991, -110.901166], [36.754851, -119.763508], [40.353394, -74.120775], [30.008834000000004, -90.030227], [33.837032, -117.305081], [27.775354, -82.775152], [38.557652, -121.4486], [35.18592, -80.72998], [36.32845, -119.601019], [40.78111, -73.94405], [38.758531, -94.963964], [41.185972, -111.97128], [35.21334, -80.83393000000002], [27.449294, -82.575402], [33.988355, -118.171073], [40.71884, -74.23523], [25.714654, -80.41241600000002], [35.154599, -119.452559], [25.892122, -80.262297], [34.55797800000001, -118.132558], [37.32777, -121.87819], [29.701573, -95.587731], [30.190968, -81.682071], [39.671064, -75.599242], [35.179891999999995, -119.453987], [36.954302, -76.26463100000002], [45.224479, -93.552306], [47.642651, -122.31859], [38.701053, -121.781422], [32.20641, -110.8411], [41.87559, -87.66181999999998], [41.5709, -87.29075], [34.886752, -117.092467], [26.544291, -81.871363], [35.55952, -82.6441], [45.54204, -122.867645], [32.924452, -96.765774], [38.882896, -77.013359], [30.21053, -90.96224], [42.31947, -87.86649], [46.000517, -112.467609], [33.691675, -84.499978], [36.722307, -78.13049000000002], [30.809026, -81.802708], [41.77821, -87.63101999999998], [34.13556, -117.98633999999998], [25.769489, -80.337262], [34.478627, -92.729212], [29.924311, -81.419554], [27.937817, -82.309164], [34.122733000000004, -118.478659], [35.28153, -118.92315], [32.912346, -96.737054], [35.153944, -80.850495], [39.84405, -84.67661], [28.545806, -81.36323], [45.143133, -93.267928], [44.890239, -93.246772], [38.510465, -121.443201], [29.93261, -95.41175], [34.774316, -118.77361299999998], [38.390446, -75.109115], [40.834005, -73.860811], [45.514694, -122.700595], [43.674, -123.9295], [34.065245000000004, -117.997809], [34.016459999999995, -118.171871], [29.003031, -82.002672], [45.06036, -93.45037], [39.5886, -76.67520400000002], [38.285241, -122.687268], [45.22695, -122.81367], [38.743125, -121.271177], [39.219356, -76.658617], [30.522006, -83.299981], [34.040317, -118.44074], [37.657023, -122.40603], [29.685026, -95.277246], [34.001054, -118.409865], [34.153995, -118.376009], [45.649544, -120.959691], [41.288665, -72.889347], [33.479784, -112.168999], [43.59434, -72.35043], [33.975770000000004, -118.38524], [35.56426, -82.49955], [33.930947, -118.295451], [32.67781, -97.12], [30.286681, -87.49131], [34.02237, -94.33965], [27.857023, -82.329216], [42.376399, -122.920372], [34.026843, -118.429919], [44.955013, -93.188771], [34.056022, -117.682715], [25.931113, -80.122035], [45.068427, -93.287841], [34.085235, -118.218431], [32.79045, -96.80055], [37.552072, -77.47760500000003], [39.855064, -112.138092], [43.590324, -116.365804], [30.53553, -87.380476], [25.727829, -80.415539], [32.72457, -96.70025], [40.306273, -76.831179], [32.91622, -117.23147], [36.049559, -86.713664], [25.700656, -80.390346], [29.80923, -95.34077], [30.445677000000003, -91.048894], [44.16044, -121.35663], [33.902072, -118.10531], [36.60412700000001, -119.984979], [28.257973, -81.467945], [35.47401, -97.73609], [30.518787, -87.272607], [44.563919, -123.245104], [30.505432, -91.325032], [34.0767, -117.54465], [25.639505, -80.41469000000002], [45.08789, -117.949696], [33.787092, -117.885646], [27.484118, -82.412918], [25.760887, -80.41421899999997], [45.03752, -93.04203], [39.6893, -104.88952], [35.194059, -80.765862], [38.94041, -94.57836], [30.54771, -87.28128000000002], [35.144614000000004, -118.967717], [33.160171000000005, -117.340844], [37.33966, -121.85222], [33.644801, -112.290321], [36.713995, -119.826783], [40.195842, -75.534999], [38.90656, -77.0385], [38.562923, -121.640828], [29.720343, -95.534358], [34.140869, -80.90649], [25.880344, -80.35553399999998], [34.066513, -117.509984], [45.416311, -122.743924], [45.231559, -95.409692], [32.380972, -111.063295], [39.69487, -105.77442], [45.390245, -122.436175], [33.880864, -117.549701], [26.334883, -81.76266899999997], [32.80142, -79.90328000000002], [34.01410300000001, -118.159193], [36.734681, -120.132335], [36.346353, -119.403586], [37.347364, -121.841562], [34.02816, -118.20691], [45.776665, -119.285166], [34.020708, -78.80225], [33.698778999999995, -117.942322], [39.503706, -122.01846100000002], [33.991015999999995, -117.550296], [37.580253000000006, -120.929542], [33.87034, -117.70351], [35.660805, -80.48178100000001], [28.56736, -81.286006], [45.375647, -122.58596], [30.42393, -91.000389], [42.970887, -83.31476500000002], [29.787626, -95.33105], [42.59863, -114.45434], [40.83374600000001, -124.081855], [35.39075, -97.41983], [41.8355, -87.68427], [33.971931, -118.080765], [25.705697, -80.301551], [37.689982, -122.136787], [38.777977, -90.508384], [28.3343, -81.479741], [40.683585, -78.22863199999998], [40.126545, -76.305084], [35.315651, -80.78193], [35.38437000000001, -83.21993], [38.003541, -122.317456], [34.934687, -79.057841], [35.213771, -80.826666], [33.652811, -84.39585500000003], [37.630931, -122.110193], [25.810945, -80.313388], [42.480064, -83.755549], [29.825976, -95.302064], [32.901138, -117.224122], [36.243468, -86.748046], [46.710468, -113.332515], [37.64018, -77.42423000000002], [35.79085, -78.71574], [36.152991, -86.633473], [34.172422999999995, -118.467769], [36.110279, -86.800353], [33.652982, -117.599446], [25.95197000000001, -80.180014], [29.80177, -95.33963], [38.90219, -77.081118], [39.477016, -119.786145], [38.657535, -121.327549], [40.225397, -76.759126], [30.465237, -91.134334], [38.954505, -77.19383], [37.99485, -122.29106000000002], [35.11738, -80.95766], [34.120457, -117.871404], [34.144572, -117.268838], [32.76713, -96.86049], [29.96285, -90.08962], [37.364013, -121.901677], [34.26375, -119.011171], [39.260461, -78.222449], [39.115612, -121.559942], [30.532390000000003, -87.22679699999998], [38.928047, -110.007745], [25.694332, -80.366028], [34.055374, -118.187881], [35.449025, -118.922095], [35.25678900000001, -81.03109], [41.76384, -72.63009], [33.628421, -117.72088], [33.666104, -84.497592], [37.620888, -114.783579], [44.113991, -93.246247], [34.165014, -118.474892], [37.990116, -120.473647], [42.897137, -82.509373], [33.70325, -84.17498], [34.98942, -85.20826600000002], [34.14132, -118.17979], [38.731427, -120.787535], [45.9849, -115.96507], [39.362542, -77.16258499999998], [36.855712, -76.1774], [25.883627, -80.211609], [38.661265, -121.374854], [38.882191, -77.027137], [33.660173, -84.35853900000002], [44.95179, -93.08557], [40.058341, -75.400109], [41.185298, -112.011042], [38.05809, -121.417698], [28.551918, -81.49074], [32.805933, -97.212071], [27.988022, -82.79586], [45.07463, -93.2869], [39.49994, -119.783499], [40.62064, -111.89988999999998], [44.970646, -93.2529], [25.577061, -80.371183], [40.74197, -73.8976], [33.869029, -117.753485], [42.907739, -73.87423000000003], [43.02669, -120.781259], [43.093667, -124.4151], [33.91272, -118.28639], [27.063015000000004, -82.416107], [34.042790000000004, -84.56369000000002], [34.223943, -117.410418], [42.347164, -122.875628], [34.2373, -79.808882], [26.616118, -81.697497], [38.006717, -121.335579], [33.621144, -84.29796999999998], [32.7258, -117.07321], [38.920837, -77.396739], [45.612621, -94.164667], [29.80697, -94.97077], [33.433959, -86.716275], [47.25072, -95.25114], [43.61571, -118.6582], [39.550656, -86.041434], [37.693936, -122.049284], [27.450098, -82.58760600000002], [33.362854, -111.894115], [34.025965, -118.249145], [45.33386, -122.58849], [34.004963000000004, -117.395053], [47.60853400000001, -122.327117], [43.127284, -77.64514399999999], [36.14369, -86.68871999999998], [32.82405, -96.88112], [30.025936, -90.011045], [33.92981, -118.309117], [40.348621, -74.115774], [32.663499, -96.823477], [41.5698, -87.40981], [33.61468, -117.7078], [37.791431, -122.181084], [34.17057, -118.60516], [34.534288000000004, -119.238921], [33.63808, -111.89045], [33.6512, -84.36641], [33.70985, -84.24579], [42.989185, -83.65045], [44.94543, -122.99015], [36.96069, -81.06482], [40.817245, -77.935413], [25.808966, -80.244297], [32.692234, -117.121955], [38.544779, -121.47398], [29.256172, -82.30937800000002], [34.165132, -117.460911], [41.541506, -87.961488], [34.038165, -81.10259], [32.847496, -117.236025], [38.276707, -77.045528], [43.068726, -77.42859200000002], [41.41056, -81.62056], [38.94141, -94.78588], [45.52711, -122.66537], [34.587675, -92.267915], [38.93467, -94.68965], [36.13005, -79.85416], [43.15712, -77.65533], [41.287833, -72.534152], [40.96693, -111.89107], [43.010712, -83.668988], [43.117, -85.60271999999998], [47.815081, -122.234988], [33.377590999999995, -112.625044], [47.30342, -122.22193], [34.013413, -117.922616], [47.12095, -122.55329], [45.290182, -118.036154], [44.783122, -93.431083], [28.562045, -81.133048], [39.01345, -77.03894], [32.773456, -96.796559], [41.954824, -89.02455], [28.332797, -81.493606], [28.511806, -81.393874], [30.527865, -91.027941], [34.343056, -119.416111], [26.330538, -81.807037], [32.226240000000004, -110.9815], [33.967837, -117.847247], [33.712623, -81.16505699999998], [34.10393, -118.71134], [25.62287, -80.343971], [47.65667, -122.34732], [39.778414, -86.141277], [25.838005, -80.322447], [33.824290000000005, -117.7164], [43.691758, -116.459728], [40.6894, -73.62921], [37.609403, -120.981493], [28.465940000000003, -81.33068], [42.44525, -92.19176], [27.841277, -82.762279], [30.00989, -90.02086], [37.674689, -77.538164], [36.059907, -78.791981], [34.081209, -118.301693], [45.410508, -105.38093], [26.152951, -80.255987], [34.004257, -117.405523], [34.177287, -118.518515], [28.157437, -81.823962], [37.185041, -93.317785], [44.809158, -93.291531], [29.985149, -90.070003], [42.11758, -73.714152], [40.096267, -74.74240400000002], [38.927502, -76.927944], [45.443161, -94.562776], [33.8599, -118.2955], [40.110576, -75.33362], [43.488961, -75.331546], [38.302287, -77.503738], [46.73146, -122.97616], [40.041751, -80.100512], [34.128808, -118.346897], [42.913245, -85.677573], [28.57552, -81.476014], [38.31454, -104.664908], [37.0817, -77.969822], [32.11916, -111.033372], [36.75171, -119.7911], [34.506479, -117.450982], [29.766790000000004, -95.36639], [26.045612, -80.162826], [33.282071, -85.09828], [37.120157, -79.712935], [39.779549, -86.270189], [33.880001, -118.191896], [37.98058, -122.3169], [38.737926, -77.388425], [40.24851, -75.242768], [42.363914, -87.934066], [32.476146, -93.848488], [32.78096, -117.084056], [40.97366, -76.80911], [47.202371, -114.925526], [37.77545, -121.180462], [45.50479, -122.39991], [33.876290000000004, -118.09592], [28.294751, -81.474108], [41.966455, -74.014155], [37.112379, -80.443354], [39.422694, -76.39774399999997], [39.98407, -83.11864], [37.075988, -94.513867], [32.82636, -111.699017], [34.036792, -118.28575], [38.249216, -121.290209], [38.456259, -121.369029], [25.731657, -80.317135], [25.894519, -80.209621], [37.15593, -119.29615], [38.524437, -121.370213], [36.760371, -76.27205699999998], [38.462501, -78.869508], [37.754076, -121.476742], [36.941, -76.26584], [43.26125800000001, -122.428209], [36.087423, -86.692187], [36.26125, -86.71255], [40.666397, -73.78998299999998], [41.84938, -87.64451], [35.448217, -120.638883], [40.74556, -73.76879], [34.03706, -118.30533], [30.6765, -88.0883], [45.515005, -122.667547], [32.713648, -117.130404], [33.547528, -117.179041], [33.667978000000005, -84.339927], [42.3002, -88.03235], [33.375069, -117.56089], [39.05743, -94.50219], [41.025093, -73.730653], [41.893066, -78.606227], [32.868194, -117.229691], [35.752557, -78.648953], [45.346133, -118.126807], [40.131145, -75.54491], [34.15567, -118.29732], [39.25376, -74.72699], [30.173, -97.800026], [29.56836, -95.387013], [33.93225, -118.09042], [25.866389, -80.20825], [41.10907, -76.87870600000002], [27.462324, -82.563114], [36.838799, -76.092177], [39.01329000000001, -77.14609], [40.0715, -75.34525], [34.359758, -117.24811499999998], [39.94776, -78.2297], [33.518491, -117.627372], [35.037394, -119.88278], [33.42729, -83.37077], [25.811402, -80.193826], [38.855781, -77.112567], [25.787157, -80.17779499999997], [27.77638300000001, -82.712288], [25.763863, -80.303919], [34.770990000000005, -92.16208], [43.63786500000001, -95.69369], [39.196663, -122.037155], [33.619463, -117.922392], [37.30875, -77.39608], [40.02887, -86.45615], [33.521104, -86.826817], [32.655445, -97.321245], [37.21328, -122.06785], [30.403351, -87.339833], [38.80258, -77.021889], [44.774426, -93.292905], [38.83697, -104.83114], [41.05199, -111.96042], [37.99485, -122.29106000000002], [44.07597, -121.3042], [35.143235, -120.640815], [45.31189000000001, -121.79853], [37.791363, -122.385224], [28.558115, -81.3196], [27.459472, -82.57534799999998], [38.425672, -78.878189], [43.283563, -123.355971], [34.06119, -84.41901999999997], [41.86583, -124.183387], [40.012022, -111.7623], [38.706126, -77.22375], [26.10146, -80.16875999999998], [37.360457, -120.724178], [45.587049, -94.366303], [34.654585, -92.3059], [45.472254, -122.677459], [38.385905, -81.593638], [34.138407, -118.471321], [45.61297, -122.001124], [30.319402, -81.468834], [34.741204, -80.76668199999997], [39.098398, -94.602238], [40.076572, -75.159196], [39.122892, -75.942494], [42.49101, -122.93948], [25.8123, -80.24415], [29.625363, -95.285482], [25.689146, -80.38287199999998], [37.54887, -122.2918], [39.403263, -122.194985], [34.070888000000004, -118.465179], [25.869332, -80.20797900000002], [37.835037, -122.009117], [39.86907, -75.30736999999998], [27.03212000000001, -82.20405], [40.065468, -123.786873], [33.8245, -118.299186], [30.404394, -81.659456], [37.78194600000001, -122.420722], [33.461723, -112.11729], [33.86922, -117.544359], [40.848615, -76.526494], [40.726479, -78.404241], [33.82195, -118.20685], [42.476716, -83.111626], [45.088437, -93.423861], [33.999201, -118.175713], [34.909654, -118.924158], [40.282754, -79.406488], [32.35727, -86.216876], [36.76304, -121.754401], [34.452694, -82.648758], [34.036247, -118.024157], [34.1684, -118.38449], [38.474344, -121.417148], [44.95203, -93.03374], [39.83508, -75.09136], [41.551706, -73.049643], [38.86501, -121.152873], [37.243675, -77.39401], [40.838071, -73.947932], [33.55312, -112.11193], [33.915933, -118.138388], [38.731638, -120.791109], [29.117822, -82.026891], [39.07919, -94.59435], [32.307425, -86.337451], [41.62166, -87.68318000000002], [37.1049, -120.22352], [25.796834, -80.338403], [35.764355, -78.72658100000002], [28.194074, -82.383973], [38.973012, -76.93791999999998], [39.67424000000001, -84.221809], [37.95718, -121.24041], [34.946061, -92.422775], [37.779552, -121.314514], [25.81314, -80.32155], [30.00654, -90.01901], [35.44334, -82.53804000000002], [41.136283, -112.025564], [39.515519, -76.204045], [34.01789, -117.53458], [37.63502800000001, -121.014925], [42.199749, -87.83421899999998], [35.973484, -77.93740600000002], [34.438248, -119.844452], [39.747408, -86.140526], [40.729532, -73.878185], [30.72602, -86.56335], [35.666148, -78.259733], [33.871424, -117.544833], [35.089249, -85.08886], [36.86198, -121.61209], [39.86900900000001, -75.10068199999998], [35.51296, -97.55], [40.100716, -75.177644], [42.9877, -71.4161], [31.758929, -106.356172], [32.855252, -80.041824], [30.362078000000004, -97.697593], [43.05505, -76.0668], [34.170664, -80.71204499999997], [25.7707, -80.32019], [34.116944000000004, -117.807058], [33.982369, -118.280407], [30.24341, -97.73534], [33.85608, -118.02469], [34.9553, -81.128292], [34.071914, -117.894166], [33.923396000000004, -118.025403], [26.661526, -81.884966], [34.017512, -118.482008], [42.186246, -87.989634], [34.004133, -117.550512], [28.481321, -81.417445], [43.09593, -77.63207], [30.24398, -81.58858000000002], [29.399822, -98.533231], [28.557155, -81.475886], [34.051287, -118.261064], [45.774233, -123.944193], [34.033303000000004, -118.12502], [37.104486, -121.611122], [41.94327, -87.71621], [33.70644, -117.779], [27.423038, -82.57549499999998], [32.890324, -96.962373], [34.15636, -118.26394], [35.301269, -120.676146], [38.496273, -121.347397], [41.002811, -91.905902], [39.094707, -76.627061], [33.883039000000004, -117.541328], [39.119392, -94.564384], [43.21079500000001, -77.70859200000002], [38.333955, -75.08631700000002], [44.416616, -93.29276], [33.879870000000004, -117.65542], [33.89952, -84.26938], [33.69093, -117.91953], [47.59122, -122.31011], [36.114, -86.72438000000002], [27.916578, -82.790813], [37.964447, -121.230333], [33.986393, -117.90645], [38.179035, -77.501981], [25.901102, -80.23555400000002], [33.88056, -81.03701], [42.97768, -85.677887], [34.018065, -117.340805], [37.9558, -122.501116], [39.94337, -75.10647], [47.58813, -122.23404], [40.6095, -111.95616], [45.407884, -122.537691], [32.778921000000004, -117.061586], [35.774242, -78.685485], [37.199803, -120.210095], [28.61378, -81.451678], [39.230038, -76.714524], [39.24739, -76.68415999999998], [34.023582, -118.24286200000002], [43.21735, -77.731992], [28.763963, -82.500691], [34.12225, -79.77998000000002], [30.276372, -97.716393], [40.022324, -75.325537], [40.19203, -74.75121], [40.68273, -74.16787], [35.766975, -78.633934], [34.081981, -117.710276], [34.067244, -117.530601], [29.69117, -95.37824], [39.82542, -75.82354000000002], [33.781017, -117.489649], [33.127724, -117.325545], [41.103833, -74.023078], [33.917041999999995, -118.079686], [34.183285999999995, -118.148699], [39.79794, -104.98667], [25.980852, -80.165981], [29.956616, -90.07994], [37.494804, -122.228042], [38.812775, -120.821959], [25.823638, -80.250348], [41.2306, -74.178138], [42.288923, -83.801625], [26.61374600000001, -80.06851999999998], [47.571262, -117.586712], [30.634212, -88.10105], [40.175339, -75.271561], [32.77742, -96.78026], [28.088117, -82.45845600000001], [45.022226, -92.980826], [33.951604, -118.368993], [46.953752, -114.135567], [39.101618, -77.046228], [40.075529, -75.356984], [42.74296, -87.83618], [25.776115, -80.13267900000002], [37.689746, -122.136754], [30.450593, -91.180607], [40.250238, -75.31298100000002], [34.493208, -92.711149], [38.585142, -121.403878], [38.41475, -122.71612], [43.379266, -83.876605], [36.054024, -79.768124], [32.829736, -96.917312], [25.925678, -80.17139300000002], [35.412244, -119.058817], [45.545096, -122.706009], [29.624606, -98.225347], [30.32317, -81.53575], [26.330459, -81.813199], [33.969854999999995, -80.923546], [29.724625, -95.592436], [28.580034, -81.476099], [41.568113, -87.34970899999998], [43.18868, -77.68330999999998], [40.736864, -74.36109], [37.583243, -77.498266], [34.474607, -117.594734], [26.546772, -81.839161], [37.783129, -121.238996], [37.574805, -122.388145], [40.039164, -76.353342], [42.482682, -73.67791], [34.03971, -118.052226], [35.076302, -81.732382], [40.896149, -78.219949], [25.847117, -80.20774], [42.885803, -85.6139], [39.531008, -107.722781], [36.861358, -76.431682], [30.458972, -81.64491], [33.918828000000005, -118.178938], [25.85039, -80.322653], [38.676738, -77.626737], [33.585801000000004, -117.613867], [30.484195, -84.302247], [47.35351, -122.29598], [44.958447, -93.090988], [32.92582, -96.81125], [39.717995, -111.737076], [37.641241, -121.342907], [32.686287, -117.179738], [42.208905, -85.643389], [39.799284, -76.67678000000002], [38.76197, -104.75413], [30.471721, -84.232052], [45.50689000000001, -122.71238999999998], [38.43911, -81.82963000000002], [38.803161, -77.099755], [33.76391, -80.96112], [39.261666, -120.071929], [44.05031500000001, -95.140131], [28.560105, -81.379927], [32.634636, -96.865632], [42.38665, -83.43139000000002], [34.03685, -118.28712], [36.389111, -80.788661], [38.07013, -119.16964], [38.019658, -120.24668], [28.982113, -82.049368], [38.889864, -76.93759200000002], [25.791534, -80.336951], [33.95323, -117.303871], [30.198796999999995, -84.175258], [30.533508, -87.283673], [33.79209, -117.890111], [40.667124, -73.780375], [34.298554, -113.116983], [36.070212, -86.684818], [37.027176, -76.332246], [38.898241, -77.010944], [33.995144, -117.356233], [33.681281, -87.089277], [33.813009, -118.298202], [41.887255, -87.918402], [38.025284, -121.329055], [41.57783, -87.57139000000002], [32.781087, -96.811632], [27.791702, -82.339907], [34.988572, -107.20634], [41.6625, -88.1251], [32.909464, -96.839142], [44.62963, -122.98234], [38.553289, -121.375054], [28.658542, -81.460241], [47.54308, -122.33406], [25.686047, -80.397987], [38.794494, -77.617903], [35.05104, -80.76953], [40.60298, -74.01634], [33.86384, -118.04624], [30.372858, -97.937391], [29.725811, -95.484424], [41.093387, -73.446579], [44.145308, -121.269181], [34.745304, -81.564525], [44.066699, -92.755335], [34.418052, -119.710217], [32.925984, -96.811998], [33.92889, -118.29314], [36.963437, -121.80948], [45.090494, -93.440929], [37.133113, -121.98121100000002], [33.31362, -80.55126], [28.551512, -81.54212700000002], [37.762659, -121.439963], [35.383176, -119.119099], [41.84636, -87.97236], [33.719304, -84.396682], [30.449072, -84.29534100000002], [25.981413, -80.247276], [33.32932, -111.89323], [39.902955, -75.11589599999998], [35.251021, -80.973489], [37.529491, -122.330863], [41.77048, -72.681649], [29.377404, -81.143867], [40.842344, -73.889317], [44.587259, -123.253971], [33.877021, -118.133966], [34.033361, -118.152748], [35.096658000000005, -81.00110500000002], [32.71682, -117.14757], [45.909069, -123.722867], [38.95894600000001, -94.730333], [39.468863, -77.989891], [34.33475, -118.50925], [33.967599, -118.161907], [26.542968, -81.83934], [32.924431, -96.790638], [38.49583, -121.523513], [38.060686, -121.2595], [39.750283, -86.231657], [37.613222, -121.030392], [40.77157, -73.87645], [28.468733, -81.267707], [41.819812, -79.808024], [38.59852, -89.979], [25.768424, -80.369784], [41.207993, -73.094116], [42.97266, -78.63384], [25.632618, -80.414796], [40.68706, -111.8714], [25.780701, -80.200097], [30.570019, -87.289142], [36.785799, -76.412986], [41.652592, -70.953537], [42.639935, -76.943838], [40.679362, -122.34832], [27.899554, -82.504545], [37.32509, -121.88677], [33.928740000000005, -118.25041], [42.683044, -73.75178000000002], [40.690142, -73.56259], [34.064861, -83.94868100000002], [33.699906, -117.945033], [34.037393, -117.321056], [34.072821999999995, -117.545016], [37.80247, -122.231301], [45.539885, -122.698541], [37.631295, -122.083822], [33.56607, -112.26362], [35.36306, -97.58295], [25.808694, -80.253697], [29.6749, -95.508551], [42.9724, -85.69711], [34.724793, -86.59595], [39.999042, -75.285424], [29.080555, -81.887885], [42.63471, -73.77802], [45.507658, -123.870956], [43.809355, -122.575906], [40.74099, -73.82132], [26.52375300000001, -80.07264], [41.57765, -87.56348], [40.387124, -74.176165], [34.232634000000004, -118.299172], [36.75284, -119.706205], [30.636845, -87.66863000000002], [27.791967, -82.67130999999998], [25.883811, -80.210514], [38.653981, -121.382857], [33.96746, -118.234674], [32.745185, -117.188503], [34.459314, -117.077021], [42.336018, -88.11198900000002], [34.087143, -117.683056], [27.31448, -82.10821], [39.013149, -122.358706], [33.846849, -118.092802], [29.933446000000004, -90.101498], [34.554171999999994, -79.73764], [40.880985, -73.901583], [41.26365, -73.683832], [40.78449000000001, -73.78614], [45.297823, -93.552479], [34.172276000000004, -118.51454], [33.462709999999994, -112.17497], [28.523843, -81.311325], [39.84419000000001, -86.04244], [37.974229, -121.7412], [33.771318, -118.280192], [47.234068, -122.250959], [35.784225, -78.730512], [44.02266, -123.81032], [37.70078, -122.02652], [29.674241, -95.572068], [33.98834, -117.90313], [33.34811, -80.177638], [33.736098, -117.657033], [28.206152000000003, -82.663866], [45.501927, -122.673586], [38.50103, -90.3163], [33.104048, -97.222448], [37.964974, -122.514254], [37.272163, -81.123046], [40.558122, -77.162679], [43.102741, -75.243957], [37.36458, -121.90176], [33.862414, -118.319617], [38.63208, -90.29187], [32.703847, -96.663402], [25.787337, -80.19726899999998], [33.064459, -97.014995], [26.162091, -80.326295], [29.850728000000004, -95.528623], [32.763690000000004, -117.12774], [36.834465, -76.13756], [25.809573, -80.206102], [42.46493, -123.32363], [40.5643, -111.89945], [39.442087, -76.343275], [33.97312, -118.16808], [34.029703000000005, -118.256059], [40.86306, -73.053022], [38.91626, -94.76766], [44.191128000000006, -93.99504], [33.076952, -84.345145], [45.456799, -122.57316000000002], [39.936799, -76.680999], [30.001243, -90.039488], [41.92724000000001, -87.6871], [33.79913, -111.97823], [42.349108, -87.940945], [34.965244, -85.187398], [47.890098, -102.739], [37.37733400000001, -121.925276], [41.48746, -72.04470699999997], [37.64366500000001, -122.44723], [27.23643400000001, -82.497502], [37.550501, -77.339803], [34.551469, -120.1913], [25.811616, -80.197845], [38.492329, -121.799809], [32.7978, -96.68412], [37.691413, -122.13888], [34.718684, -118.139999], [39.0259, -76.96601], [36.788852, -121.673942], [25.899721, -80.180184], [34.743959999999994, -120.27673], [38.0335, -122.11671], [37.40425, -122.02125], [34.02557, -118.46499], [36.604739, -82.222934], [41.53049, -93.77391], [33.485476, -84.21839200000002], [28.539609, -81.25161999999997], [33.84766, -117.87091], [40.96913, -73.81699], [35.339453000000006, -118.986698], [32.717252, -117.114118], [39.214624, -78.136928], [34.016257, -118.054865], [35.84232, -78.78524], [41.607126, -87.125591], [26.331242, -81.76264], [38.300452, -77.504391], [26.054259, -80.162419], [34.078205, -118.219617], [25.711852, -80.39891800000002], [32.94096, -112.73431], [25.627141, -80.383572], [33.89432, -84.26171], [43.09505, -76.03828], [35.56838, -120.647514], [46.868992, -113.88118], [32.525184, -93.702973], [25.764586, -80.303949], [28.498937, -81.296677], [29.773405, -95.40953], [34.170902000000005, -118.574205], [25.702002, -80.29171], [38.125278, -121.578611], [38.602382, -76.04241800000001], [34.024634000000006, -117.756964], [33.884121, -118.028451], [45.685593, -111.129943], [29.75927, -95.14603], [36.07907, -120.10532], [43.015319, -83.51756999999998], [25.68706700000001, -80.364859], [32.812599, -96.823953], [38.656586, -120.997806], [37.636184, -121.00347], [45.691291, -121.765626], [45.904997, -119.302289], [30.376811, -91.068516], [35.30479000000001, -81.777173], [33.705276, -117.855194], [36.149002, -95.987365], [38.663835, -121.273545], [42.578598, -113.431574], [40.346285, -111.762867], [33.762427, -117.908995], [39.943435, -78.987544], [42.91814, -77.75744], [34.03301, -118.13508600000002], [34.0545, -118.257314], [34.065975, -117.50728], [28.452939, -81.400159], [25.925464, -80.29233], [44.06125, -123.173601], [41.01432, -80.00395999999998], [32.653890000000004, -96.75623], [38.528413, -122.72274099999998], [34.22097, -118.519695], [34.961143, -94.109625], [29.70825, -95.313124], [41.02010300000001, -73.624949], [33.97527, -85.00516], [39.045412, -94.398839], [37.55701, -122.031358], [47.579272, -117.673425], [33.464959, -86.757072], [37.715206, -122.172632], [25.956341, -80.20557600000002], [33.995842, -117.906359], [35.29548, -80.78007], [30.288898, -97.754003], [33.8738, -118.10102], [38.619554, -121.348804], [40.134042, -75.3021], [38.01430300000001, -121.104584], [35.29658, -118.762679], [33.880642, -118.218068], [37.29605, -122.02742], [33.862508, -118.199174], [42.23898, -121.79646], [43.133729, -75.505052], [33.649642, -117.1713], [33.563790999999995, -117.546035], [44.540916, -124.073789], [41.19726, -112.040601], [34.59447, -118.144504], [45.369118, -122.134847], [32.383755, -111.10254], [33.918239, -117.287935], [41.147481, -96.119908], [38.79492, -77.14371], [35.134547, -119.45504], [28.553184, -81.347912], [33.802040000000005, -80.322592], [37.833113, -122.294585], [36.051299, -119.268093], [37.700442, -122.064242], [35.310323, -80.715255], [33.887499, -117.30729], [37.990253, -121.755831], [39.052897, -112.290071], [33.695823, -117.935142], [29.65544, -95.452173], [37.22093, -113.38457], [40.021907, -75.628366], [30.751101, -85.267902], [33.960689, -118.247654], [38.83951, -77.086431], [33.740534000000004, -117.833811], [47.056396, -123.025835], [32.826534, -97.479805], [32.236, -110.94386000000002], [35.38075999999999, -118.971484], [33.370016, -79.63792600000002], [32.698541, -117.120684], [30.457564, -91.098785], [41.666664, -71.494361], [30.417231, -91.097664], [32.133976000000004, -111.106021], [25.80797, -80.276701], [44.87618, -93.03081], [30.46007100000001, -87.270032], [32.481496, -93.712768], [28.42485, -81.47442], [35.901141, -78.65395699999998], [32.787333000000004, -117.206944], [29.913098, -95.309018], [25.785694, -80.262073], [25.7307, -80.317718], [26.764929, -81.437401], [37.66434, -122.39922], [28.447743, -81.473913], [25.74804, -80.317224], [39.142701, -85.95801800000002], [34.795707, -82.382923], [38.485236, -121.808056], [35.297383, -119.257155], [33.550175, -86.774836], [34.167975, -118.588151], [30.206862, -81.61725600000003], [35.16789, -77.885035], [36.074033, -120.093427], [44.95333, -93.08086], [29.811225, -95.345911], [41.00121, -121.44664], [43.935281, -91.805201], [32.808704, -97.315599], [34.065724, -117.255942], [41.883929, -88.10681], [45.126536, -93.34975], [25.891627, -80.163146], [45.623728, -122.814469], [41.54555, -72.62931999999998], [39.77476, -105.05325], [28.298712, -81.350852], [41.725335, -72.783437], [38.756426, -111.443675], [36.476612, -121.722356], [35.075559000000005, -85.199332], [33.951441, -117.551004], [35.468186, -119.49273], [40.75923, -74.208945], [42.28299000000001, -87.95335], [28.347863, -81.66435899999998], [25.669776, -80.416237], [28.06931, -82.4594], [40.77428, -73.67087], [34.019672, -118.173498], [33.70057, -112.10881], [28.090389, -82.502966], [44.05508, -89.190764], [33.911245, -118.172382], [38.19, -85.72475], [34.037993, -80.412904], [40.66764000000001, -73.99632], [38.003464, -121.835484], [35.76201, -119.053226], [34.252762, -77.95441600000002], [42.38541, -83.023812], [41.56743, -87.31864399999998], [40.828419, -73.41140899999998], [25.926029, -80.15029200000002], [34.071969, -81.16012099999998], [37.62880300000001, -77.458538], [35.61899099999999, -120.686426], [45.371119, -122.585711], [27.4492, -82.530501], [25.78169, -80.32025], [25.684696, -80.434148], [40.0549, -111.553191], [25.799207, -80.33392099999998], [46.892409, -98.439231], [36.158076, -86.78404], [25.750452, -80.335838], [37.40968, -122.072945], [35.223423, -80.83061], [40.640119, -111.889069], [26.121694, -80.342649], [43.11805, -70.82571800000002], [34.142605, -117.704134], [33.68148, -84.31313], [34.001044, -118.409861], [35.13553, -80.89189], [37.305914, -120.851272], [33.47999, -112.23779], [39.462815, -76.29624], [30.30691, -97.75766], [40.13365, -74.9656], [34.14731, -79.385537], [25.702455, -80.332105], [33.82403, -84.1494], [32.73979, -96.82282], [45.530101, -122.61453600000002], [34.004002, -117.383443], [30.306390000000004, -81.64496], [45.653264, -121.5135], [38.003358, -122.042918], [40.457413, -74.27614799999998], [28.954732, -82.57871], [44.359732, -123.06101], [39.310629, -80.048928], [42.97261, -85.80466], [34.032585, -118.222306], [34.057258000000004, -118.002491], [28.229568, -82.677236], [29.763025, -95.367604], [38.70376, -121.354264], [25.688176, -80.332065], [43.918593, -122.817437], [36.047692, -86.713482], [42.799955, -112.338198], [34.881005, -81.050777], [47.159169, -122.414782], [34.095046999999994, -118.311494]],\n",
       "                {&quot;blur&quot;: 15, &quot;maxZoom&quot;: 18, &quot;minOpacity&quot;: 0.5, &quot;radius&quot;: 25}\n",
       "            ).addTo(map_b8646d1d4fa5a54d74d30286b6675288);\n",
       "        \n",
       "    \n",
       "            var heat_map_ab333a2b0b775f062a40cfec9eaf3260 = L.heatLayer(\n",
       "                [[34.148461, -118.469244], [35.586532, -94.21467], [36.964606, -76.413227], [31.760594, -106.271066], [28.510004, -81.493481], [32.932904, -96.813362], [39.21762, -84.44953000000002], [41.20541, -111.99438], [46.661049, -92.480539], [33.98781, -117.347964], [25.685462, -80.415318], [40.221803, -79.214815], [39.04593, -94.3632], [38.930128, -94.706429], [45.508707, -122.738367], [33.332124, -117.159075], [33.973621, -118.079134], [25.975928, -80.247077], [29.000185, -82.628759], [38.3543, -122.204772], [42.39792, -82.98566], [28.789619, -81.349006], [40.309893, -75.633684], [41.068808, -73.804164], [38.90015, -121.07501], [34.78477, -92.12836], [28.418364, -81.40460300000002], [32.921236, -96.772241], [28.10319, -82.54229000000002], [33.788655, -112.542665], [44.933491, -123.177756], [32.755513, -96.755301], [38.765977, -111.468154], [29.034688, -82.160184], [32.66192, -96.89588], [32.271962, -110.978999], [38.92511, -104.84146], [36.460987, -90.576463], [40.286455, -75.263772], [28.589627, -81.253374], [37.925432, -122.322631], [35.018494, -85.287786], [34.6412, -90.38354], [42.3839, -83.31938000000002], [33.83498, -117.8356], [37.76542, -122.40486], [40.611972, -74.223687], [44.836718, -93.398278], [38.533736, -123.275241], [40.688501, -73.808786], [27.7883, -82.72355999999998], [26.43003400000001, -81.810592], [28.430407, -81.407539], [45.189773, -93.544469], [33.699659999999994, -117.93667], [32.836678000000006, -97.363119], [34.240087, -118.42396200000002], [37.417801, -77.640355], [33.772044, -117.790231], [38.348681, -81.650387], [34.0767, -117.74506], [37.30351, -121.87838], [34.02548400000001, -118.205713], [36.26946, -86.73678000000002], [28.981951, -81.99288100000003], [32.764540000000004, -96.91165], [44.039847, -124.099284], [45.549756, -122.678779], [47.65261, -117.421875], [28.361879, -81.438062], [38.314915, -81.552768], [33.990827, -117.934861], [38.135594, -77.509478], [25.780287, -80.320819], [42.704859, -112.938492], [33.654920000000004, -84.36503], [33.805728, -117.973583], [29.491757, -98.55836], [33.880237, -118.347631], [37.926341, -122.321737], [39.878751, -75.10297800000002], [25.775903, -80.19955], [43.08723, -73.749083], [44.0978, -123.15806], [40.070361, -75.151562], [36.730383, -119.286681], [26.334894, -81.764297], [29.8346, -95.38534], [39.42437, -77.503732], [42.38593, -87.99548], [27.00729, -82.13396999999998], [43.113869, -123.438785], [33.91272, -118.28639], [37.533249, -77.130862], [34.156281, -118.253806], [39.860297, -75.15394], [40.683156, -73.682695], [41.52552, -72.76069], [34.510843, -92.694695], [32.222871999999995, -110.841077], [26.599587, -81.641798], [33.793544, -117.879078], [34.276388, -118.532234], [25.91741, -80.211828], [33.928326, -118.236212], [29.741409, -95.379794], [28.381032, -81.404624], [34.626299, -82.100175], [37.836599, -121.649625], [38.49031, -121.51456], [36.57124, -121.91267], [37.54162, -122.28509], [41.229851, -111.97865], [30.47922, -91.13207], [34.025240000000004, -117.77549], [32.220782, -110.773123], [37.37531, -121.93404], [33.872834000000005, -118.099781], [32.928105, -86.654845], [45.172494, -117.973863], [30.423597, -91.144584], [33.658837, -117.780314], [37.7589, -97.32512], [25.846986, -80.211189], [44.00554, -123.70235], [44.116277, -93.246436], [40.63853, -111.834578], [34.03338, -118.16948], [26.037417, -80.163942], [40.09762, -74.73175], [30.43427, -88.65985], [39.104865, -121.551021], [37.516497, -77.425701], [37.416404, -77.34286999999998], [34.338840000000005, -118.50721], [37.942429, -120.608569], [34.025290000000005, -117.7273], [37.80715, -122.47567], [33.853796, -117.901606], [37.510857, -77.424977], [25.972856, -80.204925], [30.274224, -85.521046], [32.86635, -97.00182], [38.994542, -76.514931], [37.201041, -77.440079], [38.013092, -122.001854], [37.660088, -121.02609], [28.019763, -82.737787], [34.18264, -118.320905], [38.934283, -94.685976], [25.885851, -80.210763], [44.82837, -93.06629], [33.385959, -111.820171], [33.182326, -117.355839], [25.948105, -80.14874], [36.021181, -95.922137], [39.541, -77.712489], [35.83720200000001, -78.613861], [41.22286, -95.98183], [45.51589, -122.69827], [37.686692, -122.119033], [42.48376, -83.085105], [25.760107, -80.448885], [34.067674, -117.52405], [34.030526, -117.655302], [43.61536, -116.25852], [33.923231, -118.103688], [26.544181, -80.071846], [44.748594, -93.125547], [34.02393, -118.18375], [32.784055, -79.95119], [45.163487, -93.521478], [43.75381, -123.138355], [39.354583, -112.402549], [38.9548, -77.00904], [33.852562, -98.51075], [42.07272, -122.60565], [37.24076, -93.29751], [36.06015, -79.60857], [37.316092, -121.835005], [38.79652, -77.19074300000003], [34.576345, -118.556374], [40.239154, -121.222811], [42.22886, -83.69272], [25.69138, -80.38895], [30.215193, -82.69549599999998], [44.7592, -93.21764], [38.83123, -77.3691], [30.464309000000004, -91.070215], [32.780761, -96.801126], [33.740712, -117.833704], [29.5972, -98.599494], [25.847574, -80.237686], [30.533103000000004, -87.27462299999998], [32.480297, -93.748123], [39.593085, -86.541849], [30.382776, -81.67276700000002], [38.6118, -121.26335], [32.982607, -80.124215], [34.1611, -118.469614], [41.736125, -87.624545], [41.6621, -87.71916999999998], [26.162525, -80.162377], [25.950092, -80.12065799999998], [36.116054, -86.79247], [47.589677, -122.252828], [38.716722, -121.344127], [42.839308, -74.008744], [41.6217, -87.68275], [34.041013, -118.060171], [38.868739, -77.308854], [38.236867, -121.28261299999998], [27.8395, -82.78715], [46.86385, -95.99806], [40.133346, -75.061887], [34.404474, -118.574804], [40.667016, -73.93129499999998], [37.44759000000001, -122.12151], [38.450893, -122.851533], [29.962447, -90.113622], [41.22224, -96.06973], [40.708197, -111.79778600000002], [33.946195, -117.297335], [37.389085, -120.732627], [45.41785, -122.43425], [28.333902, -81.589613], [25.641617, -80.33507900000002], [35.136953000000005, -80.885693], [41.90236, -88.10025], [36.326798, -119.209696], [38.813548, -77.44721700000002], [38.209331, -122.148858], [34.777082, -82.460535], [38.986691, -123.117846], [37.62345, -122.400645], [33.974651, -118.281244], [38.114045, -102.852741], [39.18786, -94.61919], [43.116142, -75.189229], [32.44269, -84.92747], [35.745728, -120.272695], [34.906081, -82.119874], [29.075447, -80.98445799999998], [35.708254, -78.62016899999998], [43.164666, -77.664426], [38.442408, -77.411427], [33.921028, -118.178204], [45.59439, -118.52468], [28.553291, -81.35046], [37.194456, -122.145533], [38.913083, -76.992588], [28.451697, -81.477514], [38.259862, -122.660619], [40.74434, -73.97124000000002], [25.869037, -80.21300600000002], [41.177224, -73.185505], [26.923745, -80.1489], [38.00996, -122.02288], [25.91322000000001, -80.32486], [41.039984, -124.119379], [33.63898, -117.73035], [39.563451, -104.98844], [33.83156, -118.29743], [32.71776, -117.08898], [32.984392, -80.0791], [37.40233, -122.042729], [41.868558, -78.196409], [41.794441, -78.618152], [39.047648, -94.64634], [26.281238, -80.12501800000003], [38.806961, -76.983529], [34.08169, -117.716166], [40.769373, -111.949621], [43.11603, -124.29111], [31.797390000000004, -106.245066], [33.7587, -117.46352], [41.544717, -73.072776], [30.401819, -86.905459], [25.68422, -80.449374], [41.112787, -78.536337], [32.772703, -117.157482], [33.934633000000005, -118.279831], [34.0204, -118.157291], [41.81494, -87.74954], [37.843763, -122.254303], [38.59422, -90.21594], [47.7121, -117.09865], [28.19292, -82.38126], [37.993197, -122.104478], [37.595671, -121.872628], [37.964821, -121.740553], [39.698525, -86.148136], [38.020485, -120.24742], [25.808551, -80.30805600000002], [25.68569500000001, -80.403144], [45.92846, -122.72241], [32.872578999999995, -96.665581], [32.366118, -86.147049], [40.52179, -111.89098], [41.87448, -87.70435], [34.152669, -118.10746], [39.3535, -76.5123], [34.070802, -119.012414], [32.96118, -96.72705], [34.240724, -119.159037], [47.109375, -122.574328], [34.699381, -80.772225], [39.375911, -76.452924], [38.018842, -121.94803799999998], [40.285997, -76.821062], [47.951674, -122.101379], [32.269056, -110.932697], [29.960667, -90.091572], [32.911579, -96.878631], [28.59337, -81.38305], [40.9023, -74.70501], [34.229933, -117.415856], [33.492822, -80.83418], [32.177821, -110.977084], [37.754656, -120.774847], [35.260463, -80.875863], [40.138541, -74.709078], [33.81486, -118.18336], [39.200293, -121.222674], [36.473474, -119.439998], [40.671011, -74.40901600000002], [41.39012, -88.19296], [32.831024, -96.827613], [45.282999, -123.17365], [33.928474, -118.244572], [41.523696, -73.890362], [44.21484, -93.95571], [38.005292, -122.082444], [43.4058, -123.333322], [37.64888, -77.597899], [47.664195, -122.187184], [35.839976, -78.6771], [43.086375, -75.280426], [44.853819, -93.395129], [34.056470000000004, -80.986698], [25.77586, -80.358798], [38.63214, -90.26278], [35.21931, -80.84380999999998], [25.688161, -80.33259699999998], [34.058177, -118.179003], [34.030145000000005, -118.197227], [27.601105, -82.497363], [33.480509999999995, -112.0129], [35.317623, -119.041612], [38.340659, -123.048078], [41.771098, -72.66853499999998], [39.49199, -76.39409], [34.823409000000005, -82.290612], [38.96777700000001, -77.17965699999998], [37.45918, -77.09743], [40.018889, -78.505798], [40.9855, -73.73883000000002], [34.602048, -117.611572], [34.170578000000006, -118.304515], [33.86871, -84.44266], [36.125096, -86.813632], [39.222162, -76.660093], [35.161303000000004, -90.020009], [40.453761, -74.273188], [30.504474, -91.151407], [35.981265, -77.86670500000002], [36.191096, -86.673969], [34.06573, -117.99422], [39.08573, -77.1696], [32.837091, -83.614242], [34.065309, -117.306679], [36.18646500000001, -86.757713], [33.853970000000004, -117.92433], [39.67448, -105.081417], [27.31448, -82.10821], [35.29216, -80.756393], [35.6237, -97.44283], [33.386415, -111.794089], [25.605246, -80.351185], [35.080771, -120.586693], [36.10776, -86.72012], [34.004992, -117.394634], [40.999713, -74.07159399999998], [41.157335, -111.143012], [39.995323, -75.083566], [33.93915, -117.219605], [37.84193, -122.29746000000002], [36.10956, -118.919845], [40.802117, -73.916498], [34.175078000000006, -117.676555], [28.39295, -81.244247], [38.47038, -121.498867], [42.49828, -82.91713], [45.10899000000001, -93.39212], [40.268332, -76.88183599999998], [34.008125, -117.968734], [35.254753, -96.775179], [37.605677, -120.997901], [33.94085, -118.09671000000002], [30.32250100000001, -81.54213], [41.735063, -72.743569], [39.782753, -86.152642], [34.032342, -118.029106], [36.7959, -121.721513], [39.161099, -123.583992], [32.721468, -96.830368], [38.520456, -76.722746], [30.692086, -88.025432], [35.4933, -97.60114], [40.420005, -80.034829], [33.884251, -118.029049], [41.040804, -73.578586], [42.219262, -122.716695], [34.16795, -118.58815], [38.842903, -77.008656], [39.63443, -84.21194200000002], [33.189609999999995, -87.45166], [40.71223, -73.954565], [44.93413, -93.27453], [37.572907, -122.31636], [28.565166, -81.207339], [32.322626, -110.949082], [38.35884, -77.018764], [38.84737, -77.42849], [34.174232, -78.974453], [34.081352, -117.630077], [32.716673, -117.120105], [45.981831, -93.661959], [33.73602, -117.99428], [37.841363, -122.297042], [36.988815, -121.954649], [45.061509, -93.158217], [42.961759, -85.68249399999998], [34.042952, -118.272653], [26.185037, -80.152357], [40.731576, -74.03969599999998], [37.06215200000001, -120.182415], [26.072691, -80.215825], [44.36934, -92.61357], [26.546105, -81.85526], [33.97867, -118.07803], [33.461533, -112.099739], [38.703762, -120.401873], [40.054757, -75.33791], [39.16376500000001, -77.237689], [29.89092, -95.41199], [37.842205, -120.998113], [37.658107, -122.096868], [25.89915, -80.192673], [40.363219, -111.560249], [42.491248, -83.059275], [37.783543, -121.308856], [38.424989, -77.421226], [32.912557, -96.87629], [40.083184, -75.16205500000002], [38.301204, -122.70603], [34.038678000000004, -118.176569], [42.132411, -122.633351], [38.688396, -121.401352], [26.621123, -81.736737], [25.68619, -80.430098], [25.868406, -80.233536], [30.21615, -81.76108], [30.531701, -87.087184], [25.671643, -80.393191], [39.033403, -77.358228], [34.067308000000004, -117.984268], [30.29411, -91.92022], [36.713239, -119.970056], [27.984019, -82.381165], [27.5972, -80.820072], [44.8794, -93.0607], [25.455461, -80.475078], [38.672457, -121.865183], [34.306493, -110.995699], [40.741971, -74.083911], [37.88847, -78.03583499999998], [36.488885, -119.526346], [34.134271000000005, -117.353315], [27.849429, -82.663637], [42.153773, -88.026643], [30.525068, -85.405487], [40.804381, -73.91829399999997], [40.68729, -73.618863], [40.71579000000001, -73.80588], [28.01216, -82.70881999999997], [43.166474, -73.714174], [34.071889, -117.872551], [33.054889, -116.871421], [37.926362, -122.060449], [40.911451, -73.852319], [34.281690999999995, -119.30568], [34.154487, -118.285964], [26.679459, -81.776238], [40.609197, -74.313024], [25.926862, -80.188198], [41.30249, -73.10055], [27.438026, -82.53054], [32.915289, -96.741386], [40.884082, -111.911763], [25.768453, -80.336301], [31.708017, -106.320283], [38.72753, -121.287128], [40.19096, -76.45416800000002], [37.394068, -120.739623], [30.243235, -97.71674], [30.113934000000004, -81.51365600000003], [44.888567, -93.361799], [37.342865, -80.98134399999998], [36.963294, -81.087416], [33.97465, -118.281119], [32.601532, -117.089742], [33.880835, -81.04028199999998], [40.911766, -73.88465500000002], [38.984481, -76.581176], [40.82271, -111.916153], [42.9608, -85.67504], [38.724545, -121.175397], [43.101757, -123.482111], [25.57793, -80.366148], [28.383688, -81.505875], [30.452585, -91.071543], [44.854635, -93.394398], [44.95296, -93.08803], [33.179896, -117.309446], [33.941627000000004, -117.555803], [36.003217, -117.333051], [39.510544, -119.994702], [39.942601, -75.608302], [34.067307, -117.54988], [34.07478, -118.16164], [33.992151, -117.227143], [45.5304, -122.61497], [33.98815, -118.375307], [37.67211500000001, -97.436874], [33.861833000000004, -118.011339], [38.58922800000001, -121.382928], [32.718793, -117.117705], [44.51401, -88.08273], [40.908665, -74.595209], [30.24059500000001, -97.726818], [34.699268, -81.232589], [36.836954, -76.101897], [43.125943, -75.417213], [38.428727, -122.715193], [42.62662, -123.38318], [45.03508, -93.08435], [40.39498, -83.26974], [40.402257, -75.926241], [28.0356, -80.67148], [30.457709, -83.43977], [40.972701, -79.014662], [39.6389, -76.33295], [41.230576, -96.08696], [41.417266, -73.402866], [35.206487, -80.795435], [33.293015999999994, -117.223424], [39.58993, -77.812546], [36.808146, -119.887194], [26.081091, -80.216192], [39.925562, -74.95975200000002], [43.398788, -73.612507], [37.426364, -120.743362], [25.702429, -80.33314200000002], [34.01631500000001, -117.817701], [41.07018400000001, -111.97308999999998], [45.508132, -122.777308], [25.796984, -80.335963], [42.927612, -85.66967], [45.708097, -121.565436], [40.039449, -86.389074], [27.4293, -82.54668000000002], [41.195911, -73.124864], [33.383728999999995, -117.251356], [33.825615, -118.228158], [34.990364, -118.942706], [28.578613, -81.476138], [41.17902, -73.18119], [36.772454, -119.85333500000002], [40.79995, -73.33681], [27.871732, -82.326764], [33.49407, -112.117065], [35.923868, -79.175792], [39.662929, -106.823104], [34.426721, -117.380482], [40.69992, -111.849068], [42.995807, -83.733108], [39.379201, -77.407418], [38.880173, -77.240291], [32.222426, -110.84108700000002], [35.349427, -119.039616], [42.29692100000001, -113.176025], [33.77553, -117.84732], [41.16766, -73.22822], [34.01873, -118.17352], [43.65239, -89.81291999999998], [40.68709000000001, -111.847107], [28.125944, -81.472656], [38.80309000000001, -90.73641], [41.117838, -79.19600799999998], [40.027958, -122.09986200000002], [28.597382, -81.244578], [36.171487, -86.798976], [30.226078, -97.786278], [40.63439, -111.82102], [36.983333, -121.465278], [43.93889, -92.348197], [28.56681, -81.206435], [26.206182, -80.132733], [33.858971999999994, -117.536104], [33.601979, -117.686293], [41.279417, -122.29204], [38.697141, -120.078215], [35.83065300000001, -78.628886], [33.876847, -84.44934], [33.7033, -84.16691], [42.970603, -85.680214], [32.771905, -96.753182], [39.967307, -76.065332], [41.426304, -78.726093], [37.720924, -121.93836], [27.4463, -82.49948], [33.77426, -118.077728], [33.920075, -118.265374], [33.808505, -118.081596], [37.493151, -121.101361], [41.87323, -87.6206], [33.641152000000005, -117.381604], [30.379590000000004, -97.68771], [39.23503, -84.62789000000002], [34.579746, -117.972512], [40.186073, -75.513611], [33.941182, -118.096502], [25.711643, -80.38238100000002], [33.889581, -84.26263900000002], [28.026841, -82.192829], [47.628783, -116.681456], [25.92487, -80.305], [34.181862, -118.396958], [29.973145, -90.04445600000004], [25.809255, -80.319017], [32.7917, -80.03224], [34.156667, -118.415678], [44.06533, -92.50031], [40.4358, -75.42453], [34.895309000000005, -82.311143], [40.729393, -74.223435], [35.183678, -80.752205], [35.197923, -87.031494], [30.581499, -88.16969300000002], [37.641174, -121.009049], [35.112390000000005, -106.70374], [34.146343, -118.07346499999998], [33.8819, -117.58375], [25.868275, -80.209884], [25.518665, -80.39312], [38.46909, -122.74042], [33.09245, -80.64889699999998], [39.442135, -76.34509], [34.018322999999995, -117.524415], [36.544667, -119.282528], [33.926347, -118.368518], [33.8544, -117.7908], [32.310599, -86.36389100000002], [34.098208, -117.301773], [43.212187, -77.638568], [36.758719, -76.341215], [25.685996, -80.39984399999999], [45.24316, -120.17954], [36.064602, -79.458902], [29.770106, -95.340918], [34.173528000000005, -118.556479], [39.115471, -94.578419], [45.5254, -122.66171], [37.892862, -122.125001], [35.584173, -78.75699200000003], [33.415382, -112.029793], [41.222189, -74.184264], [30.312382, -97.730802], [29.35645, -98.41508], [26.16231, -80.16253], [45.639921, -94.953428], [28.551795, -81.56479399999998], [39.42071, -76.64496], [28.409568, -81.476117], [39.916452, -75.417612], [27.734611, -82.38282], [30.518585, -89.10857299999998], [42.698806, -73.714523], [33.462165, -112.069216], [36.090892, -86.734654], [34.024445, -118.469257], [28.25979, -81.605851], [25.924424, -80.31085300000002], [37.83443, -79.36968], [40.75997, -73.83859], [33.152883, -80.06108499999998], [32.375668, -86.02894599999998], [27.111931, -82.384421], [39.22164, -76.70128000000003], [34.004472, -118.06387], [37.182083, -93.28022], [28.451044, -81.356241], [35.731403, -78.644325], [29.881519, -95.411948], [33.767736, -117.478699], [45.204374, -93.365415], [47.372885, -93.156927], [33.46498, -112.10985], [34.182867, -118.159659], [28.451602, -81.477678], [29.722152, -95.512333], [41.42073, -81.81912], [40.463626, -76.517653], [42.40054, -83.07091], [39.378144, -121.539785], [30.26441, -81.51926999999998], [45.836752, -118.420096], [27.208985, -81.83165100000002], [38.54389000000001, -75.947251], [32.79177, -96.73262], [38.859141, -78.52680600000002], [39.40392, -111.56721], [32.853597, -96.843539], [39.742063, -84.18700000000003], [47.3504, -122.24466], [39.983384, -75.10068299999998], [32.816109999999995, -96.86811], [46.769979, -95.785438], [40.24838, -75.29519], [35.913094, -84.60038], [34.791798, -118.834708], [42.437599, -122.757507], [39.094986, -77.52859699999998], [30.33217800000001, -81.673551], [45.582121, -118.610298], [35.036314000000004, -90.789201], [34.066461, -117.331676], [38.731495, -86.489793], [44.79882, -93.2895], [34.173263, -118.540045], [32.278215, -95.345254], [33.97432, -118.12412], [34.067366, -117.563705], [25.945115, -80.205365], [39.912975, -75.571826], [37.85082, -122.23252], [29.590686, -98.600673], [33.7332, -117.81519], [45.343204, -121.142174], [32.853831, -117.181774], [40.737079, -73.93220500000002], [26.514947, -81.94807800000002], [37.743657, -97.30231], [43.58906500000001, -116.213604], [37.209444, -121.7225], [40.844882, -73.90534], [28.650503000000004, -82.446264], [33.514956, -117.588771], [40.733281, -74.124723], [33.876596, -118.18612], [45.194512, -93.394012], [39.869996, -75.28494], [42.382603, -73.465458], [41.508533, -95.906023], [27.96697, -80.62266], [34.191829, -118.943679], [45.079983, -123.626714], [32.837231, -97.046774], [38.90383, -76.942262], [39.71124, -105.0251], [29.730484000000004, -95.410598], [38.394995, -120.816425], [39.31632800000001, -120.349235], [45.038269, -120.721187], [42.912629, -85.615932], [32.82453, -96.629913], [38.499675, -77.38046899999998], [40.780737, -73.420172], [38.604048, -121.506653], [43.0753, -75.34178100000003], [32.765339000000004, -97.318686], [33.941206, -117.271365], [34.134172, -117.676698], [34.14855, -118.0734], [38.50351, -121.423578], [34.64156, -118.15306], [37.78176, -122.39721000000002], [44.89029, -93.28835], [26.70764, -80.13825], [41.694735, -88.030132], [27.964593, -82.412577], [34.451193, -118.422399], [34.14612, -118.36911], [29.712957, -95.610725], [33.87679, -118.10739], [33.89391, -84.25702], [43.305581, -76.580153], [37.548624, -77.651015], [44.405547, -95.127621], [25.765225, -80.336334], [41.81911, -71.38309], [33.219641, -97.170435], [29.637122, -98.217331], [44.941409, -93.456519], [29.875601, -95.287892], [33.691863, -84.500191], [34.072665, -117.097655], [34.437855, -118.336122], [41.292416, -112.093057], [37.994997, -122.29028999999998], [30.003778000000004, -90.05221800000002], [36.046329, -95.905274], [25.680743, -80.416517], [41.771897, -72.59974799999998], [39.8115, -86.16938], [39.28764, -84.40123], [39.104931, -120.162505], [30.430191, -91.056703], [36.234165, -86.72041999999998], [45.370063, -118.294449], [38.911162, -76.932757], [37.909601, -121.288172], [47.458661, -122.26436], [28.493792, -81.459929], [40.478022, -111.436544], [33.382462, -80.520786], [42.927636, -78.850374], [32.75713, -117.22317], [28.769951, -81.358305], [38.134416, -77.528972], [32.677107, -96.857145], [35.97118, -83.980017], [33.953064000000005, -118.368941], [25.701827, -80.347041], [33.702290000000005, -117.776675], [32.41457800000001, -86.352917], [32.96516, -96.82166], [32.46836500000001, -83.745077], [44.61111, -123.062193], [38.36576, -122.712241], [32.323408, -111.046019], [37.436481, -121.919606], [39.32177100000001, -123.099079], [25.92478, -80.154122], [47.446464, -122.21608700000002], [39.016994, -122.642574], [40.052762, -82.99773], [37.6082, -113.35625], [41.039074, -73.836568], [35.065301, -90.025631], [35.184854, -80.888111], [35.480326, -80.87504], [39.95937, -76.65995], [34.606613, -120.098139], [37.261877, -119.93931], [32.731163, -90.048889], [34.050755, -118.006398], [35.007153, -81.217642], [38.986, -77.15751], [34.26184, -119.23169], [39.79414000000001, -105.05794], [45.32492, -118.08764], [29.77768, -95.4553], [34.004792, -118.172994], [36.6779, -119.73682], [41.503062, -72.76893199999998], [34.837996000000004, -82.28894], [34.06327, -118.16185], [27.307657, -82.482203], [38.496203, -121.44053], [33.791177000000005, -78.777321], [36.030923, -78.843712], [35.585347, -77.224101], [39.273644, -76.621087], [41.26778, -111.96949], [25.842546, -80.24974399999998], [30.227178, -97.761638], [33.628442, -117.720913], [40.76949000000001, -73.690457], [35.195744, -78.849508], [32.3573, -80.921419], [37.583921, -77.47415500000002], [40.730806, -112.589934], [41.65056, -93.586411], [41.346001, -72.86864], [34.32286, -118.479137], [47.167471, -122.475489], [34.132057, -117.217489], [34.066026, -117.396148], [40.272048, -79.074686], [32.414763, -80.65216600000002], [42.49205900000001, -83.00032399999998], [27.96661, -82.45345400000002], [33.88872, -118.03717], [33.694971, -84.404472], [37.595986, -122.058843], [34.986736, -80.33030500000002], [41.334589, -122.334812], [34.17352, -118.556975], [38.643059, -121.429745], [45.68708, -122.87271], [39.55931, -105.10414], [28.647082, -81.388838], [37.260832, -93.224741], [34.007174, -118.414369], [38.994606, -77.485683], [37.1382, -93.29711], [34.154337, -118.392716], [27.051135, -80.23509200000002], [25.73589, -80.319411], [41.111714, -78.54164499999997], [44.945541, -93.078273], [33.61183, -117.70402], [35.082335, -80.873349], [43.02795, -88.021341], [40.225936, -76.092435], [46.139666, -93.703009], [33.659619, -111.931661], [42.948715, -85.666678], [35.550731, -120.716271], [37.475524, -120.853533], [39.46289, -112.43211], [34.222251, -117.40974], [44.096599, -123.129566], [34.066026, -117.396148], [38.957806, -77.02821], [43.29886, -123.35002], [38.11392, -85.698211], [29.37255, -98.39528], [41.82572, -86.67804], [33.825367, -118.223404], [25.578347, -80.369697], [39.85758, -84.18938], [40.8419, -73.945358], [35.188259, -80.77324], [25.889511, -80.162851], [33.949717, -118.27957], [30.20111, -97.76173], [42.698806, -73.714523], [37.58581, -122.051591], [34.441446, -111.455534], [27.955559, -82.490597], [35.412385, -119.067701], [38.448789, -121.44462], [26.146076, -80.546447], [40.70148, -73.98969], [34.593658000000005, -118.150277], [34.19276, -79.80332299999998], [36.692479, -82.016211], [38.1166, -85.69945], [36.120376, -86.80739], [32.58036, -83.71993], [44.94849, -92.868987], [34.087763, -80.959467], [38.638336, -121.52338799999998], [28.58225, -81.37522], [33.943179, -117.074579], [40.70249, -73.81631], [40.64306, -73.95164], [31.771704, -106.491876], [33.881833, -117.268201], [37.837998, -122.296702], [34.049619, -118.19003899999998], [34.997215999999995, -85.05753], [28.452476, -81.47081800000002], [34.155728, -118.43123500000002], [29.847532, -95.394236], [37.175588, -93.340377], [42.197281, -87.984619], [35.361481, -90.279711], [32.163295, -110.94268], [25.942684, -80.203142], [36.782773, -76.23688800000002], [42.94282000000001, -85.71215], [41.519514, -72.772826], [28.347858, -81.419797], [34.018961, -118.178654], [42.08425, -88.03102], [30.23292600000001, -97.800732], [33.76685, -117.97599], [40.72576, -111.98203], [32.513989, -93.728434], [44.902292, -93.401373], [25.89829, -80.21127], [47.44331, -121.66814], [36.059102, -79.66149200000002], [34.347021000000005, -117.476956], [33.853995, -117.943048], [40.57277, -75.392535], [41.61372, -83.68417], [35.099548, -80.780452], [34.168194, -117.300496], [40.73180900000001, -74.084133], [25.941051, -80.24421], [38.52446, -121.46727], [25.608855, -80.414107], [40.858971, -123.497408], [46.485546, -97.67896], [38.904107, -77.018215], [25.854102, -80.244066], [37.43822, -77.472912], [39.93214, -105.12165], [24.589512, -81.681389], [28.433711, -82.602158], [39.941255, -75.34956700000002], [25.925515, -80.171996], [25.974415, -80.147591], [41.675778, -122.727222], [34.067736, -80.982093], [39.923419, -77.765383], [28.843831, -81.310694], [40.117578, -75.35072199999998], [40.30607, -79.593597], [40.71487800000001, -111.784942], [30.171893, -85.789208], [40.58181, -104.67745], [40.0445, -86.48735], [34.134611, -112.147256], [44.568417, -122.914129], [40.66332, -73.80336], [28.568657, -81.249208], [39.5292, -76.18577900000003], [36.813372, -76.349111], [32.909406, -96.804088], [41.19018, -73.68769], [40.810183, -73.937414], [28.338919, -81.409591], [32.488686, -80.74096999999998], [28.553266, -81.459372], [38.847746, -77.301476], [28.882439, -81.280937], [41.13458, -74.16811], [33.945532, -118.282615], [31.503757, -86.925426], [38.689739, -121.354445], [41.91459, -87.94], [43.596917, -116.473552], [36.038128, -86.646866], [28.551914, -81.491106], [25.736216, -80.262152], [35.050558, -81.81900999999998], [34.644329, -120.430682], [38.912018, -94.524596], [34.06754, -117.55608], [33.07977, -80.26149699999998], [41.32165, -72.37165999999998], [25.89613, -80.37898], [32.697854, -117.138053], [39.263868, -76.56671899999998], [33.880938, -117.599126], [38.891848, -76.95604200000002], [42.448983, -93.835488], [40.073782, -75.348556], [47.86829, -122.27679], [38.972244, -77.30070500000002], [45.72952100000001, -123.250021], [40.82533400000001, -76.873193], [47.50145, -122.27581], [38.581947, -121.514131], [40.943908, -73.87491800000002], [35.29507, -84.812682], [34.120076, -117.837967], [44.778631, -93.288227], [37.390347, -76.768201], [47.43922, -94.86364], [40.002347, -75.58421], [39.74196, -86.13768], [28.528282, -81.434332], [28.61858, -81.36561999999998], [27.29876, -82.48098], [28.135196, -80.687928], [26.20755, -80.13985], [37.74116, -121.580467], [35.33673, -80.742509], [26.087218, -80.362898], [33.856752, -117.984639], [39.971023, -75.042705], [36.536201, -84.481858], [38.42656, -122.714956], [32.75943400000001, -117.175886], [37.698207, -122.149007], [29.90995, -90.20268], [36.13293400000001, -86.76542099999998], [34.27583, -118.383682], [42.03843, -87.97879], [40.72602, -111.96163], [34.052547, -117.300935], [39.17027, -94.55814], [40.787274, -73.824016], [46.778358, -92.108741], [38.683023, -121.33652], [38.582795, -121.5027], [33.95328, -118.08998], [45.619622, -120.739113], [47.750801, -111.66603], [38.611167, -90.203895], [39.958811, -75.912951], [34.066832, -117.9878], [39.634352, -105.89623600000002], [37.84193, -122.29746000000002], [39.546885, -75.94815], [44.799488, -93.038824], [32.254191, -110.91407], [29.49533, -98.6185], [31.77822, -106.452314], [28.006617, -82.505022], [33.80084, -118.20708], [38.27632, -122.047369], [40.851449, -73.952134], [35.077848, -80.816755], [33.548019000000004, -81.667004], [47.066149, -109.424894], [37.58717, -122.3537], [40.18043, -118.47004], [33.87897, -117.55805], [35.91219, -78.65511], [38.649818, -120.950017], [45.15073, -122.703652], [38.88525, -76.844289], [33.581332, -117.671877], [38.601773, -122.864975], [38.254385, -122.703315], [36.99199, -79.67639100000002], [30.43851, -88.550818], [40.06712, -75.30943], [27.720634000000004, -82.43395100000002], [39.01598, -77.11636], [35.97151599999999, -80.495847], [41.930319, -72.607794], [40.264452, -103.80504], [26.547965, -81.83930600000002], [38.493255, -121.161233], [36.021791, -95.88642], [40.76292, -73.86065], [33.568788, -117.699656], [37.244542, -121.773308], [27.922648, -82.370281], [36.23229, -86.62471], [33.961742, -118.282754], [44.8746, -93.04637], [32.784486, -117.108655], [45.525281, -122.661725], [29.501649, -82.296749], [34.161461, -117.46538], [36.52275, -121.45948], [37.551111, -120.712187], [47.834118, -122.266341], [36.707777, -119.763712], [38.675413, -90.361856], [35.43987199999999, -119.085368], [40.62573, -73.95638000000002], [25.769442, -80.33892900000002], [37.197035, -93.317195], [34.10938400000001, -117.528674], [40.892432, -122.794736], [33.622567, -117.715484], [28.451003000000004, -81.35939300000003], [40.13664, -74.96269000000002], [35.766231, -78.601966], [33.964364, -80.45564499999998], [41.818155, -71.397093], [42.253171, -83.184903], [33.731612, -117.400952], [37.70167100000001, -121.877029], [39.86628, -86.04731], [30.423297, -91.156496], [38.34875, -121.99069], [36.188837, -86.792819], [38.727395, -77.20075600000001], [45.52455, -122.56518], [40.475895, -123.883565], [25.71496, -80.32644], [36.869362, -119.744357], [25.73589, -80.319411], [40.934036, -76.729345], [25.932329, -80.293591], [45.50859000000001, -122.77801], [45.006362, -93.282455], [40.75293, -74.11869], [26.69224, -80.11986], [36.031823, -95.886557], [44.283569, -93.116531], [25.926013, -80.163996], [33.975346, -117.879411], [37.561266, -76.61444], [42.969878, -77.075518], [42.858406, -73.77447], [37.418362, -76.814483], [42.868667, -78.83378], [39.29628, -76.56783], [33.91225900000001, -118.326451], [45.057667, -117.941526], [46.511752, -114.066749], [45.712845, -121.522272], [35.76639, -78.73574], [27.388152, -82.46345600000002], [40.965259, -123.641563], [33.876935, -118.151383], [34.309875, -117.472778], [34.023637, -118.277025], [39.82105, -85.77488000000002], [45.335538, -122.76956], [45.51525, -122.66765], [47.61762, -95.853861], [42.709381, -85.660776], [35.153896, -89.88159300000002], [44.660755, -123.910108], [32.157686, -110.909338], [45.689338, -120.49576100000002], [25.491722, -80.49176], [43.933379, -93.091339], [25.768644, -80.36648100000002], [45.00746, -93.401], [34.983589, -120.432595], [29.639782, -98.212119], [26.469928000000003, -81.793759], [37.536989, -77.438839], [33.987475, -117.890169], [38.636868, -121.49428], [38.394888, -119.45279], [38.785961, -77.315371], [38.495969, -121.459148], [34.056889, -117.958224], [40.652607, -73.976996], [26.649412, -81.86348199999998], [32.853544, -117.181915], [41.74518, -87.83939000000002], [40.693053000000006, -111.98173], [42.181612, -121.823651], [44.08408, -123.043007], [29.945083, -90.064728], [36.261918, -86.77604699999998], [40.128561, -75.547217], [37.524922, -120.887058], [29.70929000000001, -95.2248], [40.62498, -74.01916999999997], [25.796813, -80.328079], [37.517743, -77.209485], [25.925513, -80.175177], [40.69408, -111.90268], [27.48525, -82.43396], [37.960006, -121.333487], [25.898729, -80.186768], [38.643288, -107.584005], [37.10641, -121.97579], [42.99284, -83.74441], [38.91721, -76.97256999999998], [25.95766, -80.19773], [44.827899, -93.111421], [34.091277000000005, -80.935281], [37.57507, -122.0469], [25.857782, -80.20948100000003], [32.221656, -110.920367], [34.168698, -81.27410400000002], [32.641307, -117.093509], [33.873369, -118.216449], [42.94863, -85.6616], [40.28346, -74.69634], [35.426971, -119.132946], [39.913147, -75.331773], [40.752807, -74.191843], [37.631724, -120.957254], [40.555678, -74.31152800000002], [40.031688, -86.46585300000002], [32.89435, -97.342036], [38.59377, -77.299999], [34.070926, -118.235602], [38.359762, -81.713229], [37.631042, -120.974723], [44.87287, -122.880685], [36.948551, -120.047973], [34.065095, -117.305821], [34.443093, -118.605509], [38.653576, -77.287148], [37.303742, -120.492974], [30.314066, -81.66064], [34.058981, -118.216416], [44.903686, -83.443088], [25.941223, -80.306794], [36.177034, -86.597289], [40.595244, -78.768078], [44.252926, -123.22446200000002], [40.058028, -75.485964], [26.0841, -80.19298], [29.89637, -95.20318], [35.444069, -80.99884200000002], [26.30158, -80.2434], [40.594493, -123.010064], [42.21775, -83.55396999999998], [36.353882, -87.663684], [34.07994, -117.73774], [34.059104, -117.121482], [25.886854, -80.127313], [30.106262, -81.797221], [34.065656, -117.996206], [34.374965, -118.496464], [44.89134, -93.44326], [36.432324, -87.071854], [30.33579000000001, -97.60497], [25.521057, -80.48181899999999], [35.477945, -80.819664], [34.211653000000005, -118.228028], [28.392874, -81.37246999999998], [37.783203, -121.221933], [37.98349, -122.04161], [37.293798, -121.809718], [34.495806, -118.623932], [37.68081, -113.082782], [30.415952, -91.071397], [32.64205, -96.82996], [37.63826, -120.912653], [27.439695, -82.57542], [36.99477, -119.998908], [40.79083, -77.863803], [44.9501, -93.10364], [43.224612, -123.360111], [36.954746, -76.26425], [34.07107, -118.4651], [37.930835, -76.856602], [41.744678, -72.66207299999998], [32.543954, -97.314766], [37.346217, -120.923806], [35.30983300000001, -80.926076], [37.621437, -122.07731499999998], [37.25242, -122.05835], [33.826457, -117.925667], [44.406105, -122.283035], [26.683312, -80.163706], [38.50894, -77.378039], [30.345901, -91.148663], [40.054513, -75.64352199999998], [30.435336, -91.177242], [33.367419, -79.45275500000002], [34.033988, -117.987482], [32.82077, -117.147133], [42.823991, -118.942915], [37.960983, -121.206915], [40.799824, -73.929906], [34.886034, -82.593778], [36.769845, -76.465251], [37.371072, -113.255024], [40.844796, -73.905512], [38.916762, -76.921104], [33.692075, -117.766345], [41.35827000000001, -75.05033900000002], [35.05536, -85.13723], [37.586976, -77.338001], [38.16623, -85.56936], [47.298797, -115.176172], [40.814023, -124.105394], [25.732159, -80.38112], [28.163726, -81.120418], [38.0727, -84.48269], [35.098561, -85.328096], [34.311921000000005, -119.292195], [34.071467, -118.122988], [32.71983, -117.11757], [33.964459999999995, -117.32559], [35.907257, -78.899785], [46.831294, -100.777813], [33.994936, -117.361174], [41.86143, -87.64453], [32.243451, -110.876619], [25.764375, -80.265059], [39.177879, -121.662265], [38.05963300000001, -77.505036], [29.273409, -81.121847], [44.063769, -123.095766], [25.702455, -80.332105], [48.254852, -114.254684], [27.99814000000001, -81.9944], [34.938968, -118.930754], [28.367, -81.32209], [34.82069, -118.156084], [39.689149, -75.639358], [33.976081, -118.282677], [40.607691, -74.143702], [26.964852, -80.17182], [27.93797600000001, -82.251956], [29.77688, -95.38401], [33.99025, -117.921034], [40.678993, -73.699114], [36.871555, -76.43336500000002], [42.367583, -73.844894], [40.80637700000001, -73.236267], [45.410439, -122.524593], [34.700876, -81.655535], [28.450781, -81.477807], [45.63766, -90.39208], [41.45405, -81.71858], [36.603149, -120.361266], [25.86339, -80.257706], [35.354568, -119.252338], [38.849161, -75.812478], [45.871441, -111.241501], [34.045295, -117.963135], [38.037832, -78.706243], [34.066403, -117.55831299999998], [38.525109, -122.497629], [32.86966, -96.751207], [34.205406, -117.106543], [42.467941, -123.50417], [30.38931, -91.061751], [40.461046, -123.841617], [39.378358, -77.407103], [42.878555, -85.377105], [33.916418, -118.347279], [35.923693, -84.064993], [44.832086, -92.963429], [44.051651, -92.492642], [25.702908, -80.318058], [39.39146, -77.3228], [26.597345, -81.84673199999997], [40.15863, -76.38955], [33.71752, -85.02075], [36.584435, -121.895694], [32.94007, -83.77526], [37.479488, -122.408972], [34.047292, -118.175079], [35.708826, -78.627593], [29.636147, -95.414945], [44.948201, -93.079983], [38.973149, -77.121876], [33.87897, -117.55805], [33.876719, -118.187766], [40.101316, -75.113745], [38.670878, -122.812043], [37.55948, -77.4698], [38.662443, -121.22571], [34.068639000000005, -117.974155], [32.34818, -111.0992], [45.961786, -92.959839], [36.148643, -86.857892], [40.906582, -74.16339599999998], [37.861886, -112.824903], [45.111612, -122.878099], [32.792505, -96.683671], [40.697117, -74.12441899999997], [33.437615, -86.722368], [27.497159000000003, -82.475169], [33.397412, -111.840061], [40.03737, -75.247137], [39.944292, -75.279657], [34.169027, -118.594163], [45.711292, -118.992126], [30.358844, -97.736522], [38.688549, -120.624367], [37.64082, -77.56063], [33.893625, -118.047021], [38.25854, -85.7623], [47.454875, -122.264453], [40.971531, -73.861102], [33.960574, -84.11228], [28.49327700000001, -81.427867], [34.228971, -118.393416], [40.876768, -74.119187], [45.361899, -122.61192], [33.458234000000004, -112.311875], [41.378719, -81.5129], [33.912859999999995, -118.14588], [25.883616, -80.211893], [39.069539, -77.159975], [33.629779, -84.41475799999998], [32.872208, -117.22905], [39.777877, -76.67053], [37.761572, -118.458504], [37.66779, -122.39456], [28.467922, -81.418533], [40.49598, -79.912587], [30.381102, -97.684982], [25.715168, -80.431221], [32.75992, -97.1153], [30.337572, -97.804922], [40.200101, -74.591599], [30.00775, -90.21779], [38.83404, -77.44968399999998], [36.721168, -121.792126], [44.72488, -94.54511], [38.451098, -75.055008], [35.849564, -78.583549], [42.394089, -82.990974], [39.60568, -77.72584], [26.408365000000003, -81.772828], [32.689476, -96.629087], [47.5017, -122.19629], [25.854989, -80.184904], [28.567595, -81.20780400000002], [35.412207, -119.673975], [32.772654, -96.84379], [37.783518, -121.193461], [43.1121, -75.205203], [32.71652, -117.11632], [43.015948, -85.68976500000002], [40.7259, -112.0187], [32.39171, -111.046907], [34.63253, -117.84941], [34.212106, -118.348554], [28.38097, -81.50171], [34.071065999999995, -117.952708], [37.1237, -121.62908], [38.89568, -76.84866], [39.28172, -77.537185], [40.441409, -79.858238], [41.82117, -71.4203], [42.31661, -88.00455], [34.05603, -117.687249], [36.81408, -81.56031], [41.88509000000001, -88.19448], [34.402039, -118.456133], [40.618481, -111.787831], [34.103868, -118.251553], [30.72568, -86.57474300000001], [37.396371, -122.016472], [43.61799600000001, -122.08081], [30.44475, -84.292767], [33.934785, -118.231083], [37.93225, -120.450861], [35.88413, -78.82112], [26.98767, -82.30761], [33.414741, -81.84227], [41.03674, -73.67549], [40.731139, -74.051249], [33.384009000000006, -111.779952], [45.392689, -122.418602], [25.821447, -80.248828], [40.24078400000001, -76.89121800000002], [38.641714, -121.410695], [34.117799, -118.337568], [34.006944, -81.038085], [38.49609, -121.416426], [40.088257, -75.726363], [25.880151, -80.209149], [32.716609000000005, -80.860394], [34.321412, -118.496747], [28.227712, -80.679012], [43.185075, -124.25186200000002], [47.71254, -116.94213], [28.595515, -81.30709300000002], [37.903123, -122.515557], [43.960901, -123.011265], [38.05217800000001, -78.915487], [32.85392, -96.64543], [36.706451, -119.610147], [44.88977, -93.35832], [26.08149, -80.15899], [30.196651, -97.800257], [25.64728, -80.333658], [37.419458, -122.175902], [36.10308, -86.765913], [34.15681, -118.41021], [39.05595, -94.49374], [41.63461, -83.62595999999998], [34.129908, -117.933695], [40.60948, -111.981419], [29.939832, -95.295595], [39.615242, -86.473979], [36.377088, -119.21564], [34.173263, -118.306456], [32.853282, -96.6659], [28.551534000000004, -81.536645], [42.07186, -88.31373], [28.449065, -81.363827], [41.843463, -123.211309], [42.58706, -71.1609], [34.85625, -82.44384000000002], [40.848148, -74.171347], [45.858832, -110.589067], [34.319654, -118.42686100000002], [32.753563, -96.809495], [27.12280800000001, -82.397533], [29.622563, -82.389661], [40.419723, -76.41978], [34.212106, -118.348554], [40.73232, -74.12527], [45.139242, -94.839759], [32.223667, -110.78986299999998], [28.734032, -81.306747], [36.962792, -76.27172900000002], [38.99177, -76.88377], [33.573194, -117.658264], [37.466537, -122.208004], [33.82575, -118.24584], [47.15855, -122.45772], [40.632016, -73.991663], [32.740496, -96.821966], [39.702792, -75.65306899999999], [45.66337, -121.89373], [35.17799, -89.79302], [41.71466, -88.01071999999998], [35.880374, -78.572293], [28.578027, -81.46071500000002], [28.428143, -81.405668], [39.699386, -104.164885], [32.896092, -96.89469], [37.841366, -122.297047], [33.964382, -118.120064], [30.332554, -81.552468], [40.257903000000006, -79.205303], [37.702487, -121.744508], [42.360886, -87.999033], [36.739774, -119.777438], [45.737918, -92.992068], [38.363778, -81.6701], [35.40674, -80.89466999999998], [28.568955, -81.207835], [32.843920000000004, -96.63466], [39.465957, -104.87364], [35.16395, -80.95784], [33.881170000000004, -117.61765], [40.864133, -73.872027], [45.50421, -122.5106], [34.027584000000004, -118.173992], [37.554732, -79.661675], [35.017794, -85.168687], [41.82042, -88.20378000000002], [35.72729, -78.58577], [38.999447, -77.321954], [45.50147, -122.662], [39.43781, -76.81940999999998], [28.9819, -81.923253], [36.677949, -119.785743], [44.93322, -123.17007], [33.97189, -117.84641], [41.69724, -88.04433], [34.081233000000005, -118.30045], [37.319029, -120.504944], [45.411418, -122.572478], [40.093347, -74.095699], [33.69565, -117.93471], [44.045713, -123.024726], [40.731129, -73.925852], [33.85387, -117.954219], [33.925541, -118.309152], [40.138635, -75.243706], [33.903713, -118.361282], [47.41286, -122.22058], [28.451231, -81.239808], [33.813592, -118.167537], [34.067483, -117.545259], [34.220351, -117.410158], [33.480667, -117.140523], [37.76713, -121.33151], [28.381335, -81.425568], [32.79076, -96.75858], [35.036564, -90.786633], [32.19965, -110.94964], [40.850603, -73.946782], [38.410575, -122.715939], [34.023764, -117.770879], [44.06469, -123.17363], [39.404879, -76.66194300000002], [33.670724, -112.113364], [37.467788, -122.209703], [33.988889, -118.352388], [39.86445, -75.10073], [39.340776, -120.342582], [25.68692, -80.416652], [40.76508, -73.89480999999998], [32.237991, -110.901166], [36.754851, -119.763508], [40.353394, -74.120775], [30.008834000000004, -90.030227], [33.837032, -117.305081], [27.775354, -82.775152], [38.557652, -121.4486], [35.18592, -80.72998], [36.32845, -119.601019], [40.78111, -73.94405], [38.758531, -94.963964], [41.185972, -111.97128], [35.21334, -80.83393000000002], [27.449294, -82.575402], [33.988355, -118.171073], [40.71884, -74.23523], [25.714654, -80.41241600000002], [35.154599, -119.452559], [25.892122, -80.262297], [34.55797800000001, -118.132558], [37.32777, -121.87819], [29.701573, -95.587731], [30.190968, -81.682071], [39.671064, -75.599242], [35.179891999999995, -119.453987], [36.954302, -76.26463100000002], [45.224479, -93.552306], [47.642651, -122.31859], [38.701053, -121.781422], [32.20641, -110.8411], [41.87559, -87.66181999999998], [41.5709, -87.29075], [34.886752, -117.092467], [26.544291, -81.871363], [35.55952, -82.6441], [45.54204, -122.867645], [32.924452, -96.765774], [38.882896, -77.013359], [30.21053, -90.96224], [42.31947, -87.86649], [46.000517, -112.467609], [33.691675, -84.499978], [36.722307, -78.13049000000002], [30.809026, -81.802708], [41.77821, -87.63101999999998], [34.13556, -117.98633999999998], [25.769489, -80.337262], [34.478627, -92.729212], [29.924311, -81.419554], [27.937817, -82.309164], [34.122733000000004, -118.478659], [35.28153, -118.92315], [32.912346, -96.737054], [35.153944, -80.850495], [39.84405, -84.67661], [28.545806, -81.36323], [45.143133, -93.267928], [44.890239, -93.246772], [38.510465, -121.443201], [29.93261, -95.41175], [34.774316, -118.77361299999998], [38.390446, -75.109115], [40.834005, -73.860811], [45.514694, -122.700595], [43.674, -123.9295], [34.065245000000004, -117.997809], [34.016459999999995, -118.171871], [29.003031, -82.002672], [45.06036, -93.45037], [39.5886, -76.67520400000002], [38.285241, -122.687268], [45.22695, -122.81367], [38.743125, -121.271177], [39.219356, -76.658617], [30.522006, -83.299981], [34.040317, -118.44074], [37.657023, -122.40603], [29.685026, -95.277246], [34.001054, -118.409865], [34.153995, -118.376009], [45.649544, -120.959691], [41.288665, -72.889347], [33.479784, -112.168999], [43.59434, -72.35043], [33.975770000000004, -118.38524], [35.56426, -82.49955], [33.930947, -118.295451], [32.67781, -97.12], [30.286681, -87.49131], [34.02237, -94.33965], [27.857023, -82.329216], [42.376399, -122.920372], [34.026843, -118.429919], [44.955013, -93.188771], [34.056022, -117.682715], [25.931113, -80.122035], [45.068427, -93.287841], [34.085235, -118.218431], [32.79045, -96.80055], [37.552072, -77.47760500000003], [39.855064, -112.138092], [43.590324, -116.365804], [30.53553, -87.380476], [25.727829, -80.415539], [32.72457, -96.70025], [40.306273, -76.831179], [32.91622, -117.23147], [36.049559, -86.713664], [25.700656, -80.390346], [29.80923, -95.34077], [30.445677000000003, -91.048894], [44.16044, -121.35663], [33.902072, -118.10531], [36.60412700000001, -119.984979], [28.257973, -81.467945], [35.47401, -97.73609], [30.518787, -87.272607], [44.563919, -123.245104], [30.505432, -91.325032], [34.0767, -117.54465], [25.639505, -80.41469000000002], [45.08789, -117.949696], [33.787092, -117.885646], [27.484118, -82.412918], [25.760887, -80.41421899999997], [45.03752, -93.04203], [39.6893, -104.88952], [35.194059, -80.765862], [38.94041, -94.57836], [30.54771, -87.28128000000002], [35.144614000000004, -118.967717], [33.160171000000005, -117.340844], [37.33966, -121.85222], [33.644801, -112.290321], [36.713995, -119.826783], [40.195842, -75.534999], [38.90656, -77.0385], [38.562923, -121.640828], [29.720343, -95.534358], [34.140869, -80.90649], [25.880344, -80.35553399999998], [34.066513, -117.509984], [45.416311, -122.743924], [45.231559, -95.409692], [32.380972, -111.063295], [39.69487, -105.77442], [45.390245, -122.436175], [33.880864, -117.549701], [26.334883, -81.76266899999997], [32.80142, -79.90328000000002], [34.01410300000001, -118.159193], [36.734681, -120.132335], [36.346353, -119.403586], [37.347364, -121.841562], [34.02816, -118.20691], [45.776665, -119.285166], [34.020708, -78.80225], [33.698778999999995, -117.942322], [39.503706, -122.01846100000002], [33.991015999999995, -117.550296], [37.580253000000006, -120.929542], [33.87034, -117.70351], [35.660805, -80.48178100000001], [28.56736, -81.286006], [45.375647, -122.58596], [30.42393, -91.000389], [42.970887, -83.31476500000002], [29.787626, -95.33105], [42.59863, -114.45434], [40.83374600000001, -124.081855], [35.39075, -97.41983], [41.8355, -87.68427], [33.971931, -118.080765], [25.705697, -80.301551], [37.689982, -122.136787], [38.777977, -90.508384], [28.3343, -81.479741], [40.683585, -78.22863199999998], [40.126545, -76.305084], [35.315651, -80.78193], [35.38437000000001, -83.21993], [38.003541, -122.317456], [34.934687, -79.057841], [35.213771, -80.826666], [33.652811, -84.39585500000003], [37.630931, -122.110193], [25.810945, -80.313388], [42.480064, -83.755549], [29.825976, -95.302064], [32.901138, -117.224122], [36.243468, -86.748046], [46.710468, -113.332515], [37.64018, -77.42423000000002], [35.79085, -78.71574], [36.152991, -86.633473], [34.172422999999995, -118.467769], [36.110279, -86.800353], [33.652982, -117.599446], [25.95197000000001, -80.180014], [29.80177, -95.33963], [38.90219, -77.081118], [39.477016, -119.786145], [38.657535, -121.327549], [40.225397, -76.759126], [30.465237, -91.134334], [38.954505, -77.19383], [37.99485, -122.29106000000002], [35.11738, -80.95766], [34.120457, -117.871404], [34.144572, -117.268838], [32.76713, -96.86049], [29.96285, -90.08962], [37.364013, -121.901677], [34.26375, -119.011171], [39.260461, -78.222449], [39.115612, -121.559942], [30.532390000000003, -87.22679699999998], [38.928047, -110.007745], [25.694332, -80.366028], [34.055374, -118.187881], [35.449025, -118.922095], [35.25678900000001, -81.03109], [41.76384, -72.63009], [33.628421, -117.72088], [33.666104, -84.497592], [37.620888, -114.783579], [44.113991, -93.246247], [34.165014, -118.474892], [37.990116, -120.473647], [42.897137, -82.509373], [33.70325, -84.17498], [34.98942, -85.20826600000002], [34.14132, -118.17979], [38.731427, -120.787535], [45.9849, -115.96507], [39.362542, -77.16258499999998], [36.855712, -76.1774], [25.883627, -80.211609], [38.661265, -121.374854], [38.882191, -77.027137], [33.660173, -84.35853900000002], [44.95179, -93.08557], [40.058341, -75.400109], [41.185298, -112.011042], [38.05809, -121.417698], [28.551918, -81.49074], [32.805933, -97.212071], [27.988022, -82.79586], [45.07463, -93.2869], [39.49994, -119.783499], [40.62064, -111.89988999999998], [44.970646, -93.2529], [25.577061, -80.371183], [40.74197, -73.8976], [33.869029, -117.753485], [42.907739, -73.87423000000003], [43.02669, -120.781259], [43.093667, -124.4151], [33.91272, -118.28639], [27.063015000000004, -82.416107], [34.042790000000004, -84.56369000000002], [34.223943, -117.410418], [42.347164, -122.875628], [34.2373, -79.808882], [26.616118, -81.697497], [38.006717, -121.335579], [33.621144, -84.29796999999998], [32.7258, -117.07321], [38.920837, -77.396739], [45.612621, -94.164667], [29.80697, -94.97077], [33.433959, -86.716275], [47.25072, -95.25114], [43.61571, -118.6582], [39.550656, -86.041434], [37.693936, -122.049284], [27.450098, -82.58760600000002], [33.362854, -111.894115], [34.025965, -118.249145], [45.33386, -122.58849], [34.004963000000004, -117.395053], [47.60853400000001, -122.327117], [43.127284, -77.64514399999999], [36.14369, -86.68871999999998], [32.82405, -96.88112], [30.025936, -90.011045], [33.92981, -118.309117], [40.348621, -74.115774], [32.663499, -96.823477], [41.5698, -87.40981], [33.61468, -117.7078], [37.791431, -122.181084], [34.17057, -118.60516], [34.534288000000004, -119.238921], [33.63808, -111.89045], [33.6512, -84.36641], [33.70985, -84.24579], [42.989185, -83.65045], [44.94543, -122.99015], [36.96069, -81.06482], [40.817245, -77.935413], [25.808966, -80.244297], [32.692234, -117.121955], [38.544779, -121.47398], [29.256172, -82.30937800000002], [34.165132, -117.460911], [41.541506, -87.961488], [34.038165, -81.10259], [32.847496, -117.236025], [38.276707, -77.045528], [43.068726, -77.42859200000002], [41.41056, -81.62056], [38.94141, -94.78588], [45.52711, -122.66537], [34.587675, -92.267915], [38.93467, -94.68965], [36.13005, -79.85416], [43.15712, -77.65533], [41.287833, -72.534152], [40.96693, -111.89107], [43.010712, -83.668988], [43.117, -85.60271999999998], [47.815081, -122.234988], [33.377590999999995, -112.625044], [47.30342, -122.22193], [34.013413, -117.922616], [47.12095, -122.55329], [45.290182, -118.036154], [44.783122, -93.431083], [28.562045, -81.133048], [39.01345, -77.03894], [32.773456, -96.796559], [41.954824, -89.02455], [28.332797, -81.493606], [28.511806, -81.393874], [30.527865, -91.027941], [34.343056, -119.416111], [26.330538, -81.807037], [32.226240000000004, -110.9815], [33.967837, -117.847247], [33.712623, -81.16505699999998], [34.10393, -118.71134], [25.62287, -80.343971], [47.65667, -122.34732], [39.778414, -86.141277], [25.838005, -80.322447], [33.824290000000005, -117.7164], [43.691758, -116.459728], [40.6894, -73.62921], [37.609403, -120.981493], [28.465940000000003, -81.33068], [42.44525, -92.19176], [27.841277, -82.762279], [30.00989, -90.02086], [37.674689, -77.538164], [36.059907, -78.791981], [34.081209, -118.301693], [45.410508, -105.38093], [26.152951, -80.255987], [34.004257, -117.405523], [34.177287, -118.518515], [28.157437, -81.823962], [37.185041, -93.317785], [44.809158, -93.291531], [29.985149, -90.070003], [42.11758, -73.714152], [40.096267, -74.74240400000002], [38.927502, -76.927944], [45.443161, -94.562776], [33.8599, -118.2955], [40.110576, -75.33362], [43.488961, -75.331546], [38.302287, -77.503738], [46.73146, -122.97616], [40.041751, -80.100512], [34.128808, -118.346897], [42.913245, -85.677573], [28.57552, -81.476014], [38.31454, -104.664908], [37.0817, -77.969822], [32.11916, -111.033372], [36.75171, -119.7911], [34.506479, -117.450982], [29.766790000000004, -95.36639], [26.045612, -80.162826], [33.282071, -85.09828], [37.120157, -79.712935], [39.779549, -86.270189], [33.880001, -118.191896], [37.98058, -122.3169], [38.737926, -77.388425], [40.24851, -75.242768], [42.363914, -87.934066], [32.476146, -93.848488], [32.78096, -117.084056], [40.97366, -76.80911], [47.202371, -114.925526], [37.77545, -121.180462], [45.50479, -122.39991], [33.876290000000004, -118.09592], [28.294751, -81.474108], [41.966455, -74.014155], [37.112379, -80.443354], [39.422694, -76.39774399999997], [39.98407, -83.11864], [37.075988, -94.513867], [32.82636, -111.699017], [34.036792, -118.28575], [38.249216, -121.290209], [38.456259, -121.369029], [25.731657, -80.317135], [25.894519, -80.209621], [37.15593, -119.29615], [38.524437, -121.370213], [36.760371, -76.27205699999998], [38.462501, -78.869508], [37.754076, -121.476742], [36.941, -76.26584], [43.26125800000001, -122.428209], [36.087423, -86.692187], [36.26125, -86.71255], [40.666397, -73.78998299999998], [41.84938, -87.64451], [35.448217, -120.638883], [40.74556, -73.76879], [34.03706, -118.30533], [30.6765, -88.0883], [45.515005, -122.667547], [32.713648, -117.130404], [33.547528, -117.179041], [33.667978000000005, -84.339927], [42.3002, -88.03235], [33.375069, -117.56089], [39.05743, -94.50219], [41.025093, -73.730653], [41.893066, -78.606227], [32.868194, -117.229691], [35.752557, -78.648953], [45.346133, -118.126807], [40.131145, -75.54491], [34.15567, -118.29732], [39.25376, -74.72699], [30.173, -97.800026], [29.56836, -95.387013], [33.93225, -118.09042], [25.866389, -80.20825], [41.10907, -76.87870600000002], [27.462324, -82.563114], [36.838799, -76.092177], [39.01329000000001, -77.14609], [40.0715, -75.34525], [34.359758, -117.24811499999998], [39.94776, -78.2297], [33.518491, -117.627372], [35.037394, -119.88278], [33.42729, -83.37077], [25.811402, -80.193826], [38.855781, -77.112567], [25.787157, -80.17779499999997], [27.77638300000001, -82.712288], [25.763863, -80.303919], [34.770990000000005, -92.16208], [43.63786500000001, -95.69369], [39.196663, -122.037155], [33.619463, -117.922392], [37.30875, -77.39608], [40.02887, -86.45615], [33.521104, -86.826817], [32.655445, -97.321245], [37.21328, -122.06785], [30.403351, -87.339833], [38.80258, -77.021889], [44.774426, -93.292905], [38.83697, -104.83114], [41.05199, -111.96042], [37.99485, -122.29106000000002], [44.07597, -121.3042], [35.143235, -120.640815], [45.31189000000001, -121.79853], [37.791363, -122.385224], [28.558115, -81.3196], [27.459472, -82.57534799999998], [38.425672, -78.878189], [43.283563, -123.355971], [34.06119, -84.41901999999997], [41.86583, -124.183387], [40.012022, -111.7623], [38.706126, -77.22375], [26.10146, -80.16875999999998], [37.360457, -120.724178], [45.587049, -94.366303], [34.654585, -92.3059], [45.472254, -122.677459], [38.385905, -81.593638], [34.138407, -118.471321], [45.61297, -122.001124], [30.319402, -81.468834], [34.741204, -80.76668199999997], [39.098398, -94.602238], [40.076572, -75.159196], [39.122892, -75.942494], [42.49101, -122.93948], [25.8123, -80.24415], [29.625363, -95.285482], [25.689146, -80.38287199999998], [37.54887, -122.2918], [39.403263, -122.194985], [34.070888000000004, -118.465179], [25.869332, -80.20797900000002], [37.835037, -122.009117], [39.86907, -75.30736999999998], [27.03212000000001, -82.20405], [40.065468, -123.786873], [33.8245, -118.299186], [30.404394, -81.659456], [37.78194600000001, -122.420722], [33.461723, -112.11729], [33.86922, -117.544359], [40.848615, -76.526494], [40.726479, -78.404241], [33.82195, -118.20685], [42.476716, -83.111626], [45.088437, -93.423861], [33.999201, -118.175713], [34.909654, -118.924158], [40.282754, -79.406488], [32.35727, -86.216876], [36.76304, -121.754401], [34.452694, -82.648758], [34.036247, -118.024157], [34.1684, -118.38449], [38.474344, -121.417148], [44.95203, -93.03374], [39.83508, -75.09136], [41.551706, -73.049643], [38.86501, -121.152873], [37.243675, -77.39401], [40.838071, -73.947932], [33.55312, -112.11193], [33.915933, -118.138388], [38.731638, -120.791109], [29.117822, -82.026891], [39.07919, -94.59435], [32.307425, -86.337451], [41.62166, -87.68318000000002], [37.1049, -120.22352], [25.796834, -80.338403], [35.764355, -78.72658100000002], [28.194074, -82.383973], [38.973012, -76.93791999999998], [39.67424000000001, -84.221809], [37.95718, -121.24041], [34.946061, -92.422775], [37.779552, -121.314514], [25.81314, -80.32155], [30.00654, -90.01901], [35.44334, -82.53804000000002], [41.136283, -112.025564], [39.515519, -76.204045], [34.01789, -117.53458], [37.63502800000001, -121.014925], [42.199749, -87.83421899999998], [35.973484, -77.93740600000002], [34.438248, -119.844452], [39.747408, -86.140526], [40.729532, -73.878185], [30.72602, -86.56335], [35.666148, -78.259733], [33.871424, -117.544833], [35.089249, -85.08886], [36.86198, -121.61209], [39.86900900000001, -75.10068199999998], [35.51296, -97.55], [40.100716, -75.177644], [42.9877, -71.4161], [31.758929, -106.356172], [32.855252, -80.041824], [30.362078000000004, -97.697593], [43.05505, -76.0668], [34.170664, -80.71204499999997], [25.7707, -80.32019], [34.116944000000004, -117.807058], [33.982369, -118.280407], [30.24341, -97.73534], [33.85608, -118.02469], [34.9553, -81.128292], [34.071914, -117.894166], [33.923396000000004, -118.025403], [26.661526, -81.884966], [34.017512, -118.482008], [42.186246, -87.989634], [34.004133, -117.550512], [28.481321, -81.417445], [43.09593, -77.63207], [30.24398, -81.58858000000002], [29.399822, -98.533231], [28.557155, -81.475886], [34.051287, -118.261064], [45.774233, -123.944193], [34.033303000000004, -118.12502], [37.104486, -121.611122], [41.94327, -87.71621], [33.70644, -117.779], [27.423038, -82.57549499999998], [32.890324, -96.962373], [34.15636, -118.26394], [35.301269, -120.676146], [38.496273, -121.347397], [41.002811, -91.905902], [39.094707, -76.627061], [33.883039000000004, -117.541328], [39.119392, -94.564384], [43.21079500000001, -77.70859200000002], [38.333955, -75.08631700000002], [44.416616, -93.29276], [33.879870000000004, -117.65542], [33.89952, -84.26938], [33.69093, -117.91953], [47.59122, -122.31011], [36.114, -86.72438000000002], [27.916578, -82.790813], [37.964447, -121.230333], [33.986393, -117.90645], [38.179035, -77.501981], [25.901102, -80.23555400000002], [33.88056, -81.03701], [42.97768, -85.677887], [34.018065, -117.340805], [37.9558, -122.501116], [39.94337, -75.10647], [47.58813, -122.23404], [40.6095, -111.95616], [45.407884, -122.537691], [32.778921000000004, -117.061586], [35.774242, -78.685485], [37.199803, -120.210095], [28.61378, -81.451678], [39.230038, -76.714524], [39.24739, -76.68415999999998], [34.023582, -118.24286200000002], [43.21735, -77.731992], [28.763963, -82.500691], [34.12225, -79.77998000000002], [30.276372, -97.716393], [40.022324, -75.325537], [40.19203, -74.75121], [40.68273, -74.16787], [35.766975, -78.633934], [34.081981, -117.710276], [34.067244, -117.530601], [29.69117, -95.37824], [39.82542, -75.82354000000002], [33.781017, -117.489649], [33.127724, -117.325545], [41.103833, -74.023078], [33.917041999999995, -118.079686], [34.183285999999995, -118.148699], [39.79794, -104.98667], [25.980852, -80.165981], [29.956616, -90.07994], [37.494804, -122.228042], [38.812775, -120.821959], [25.823638, -80.250348], [41.2306, -74.178138], [42.288923, -83.801625], [26.61374600000001, -80.06851999999998], [47.571262, -117.586712], [30.634212, -88.10105], [40.175339, -75.271561], [32.77742, -96.78026], [28.088117, -82.45845600000001], [45.022226, -92.980826], [33.951604, -118.368993], [46.953752, -114.135567], [39.101618, -77.046228], [40.075529, -75.356984], [42.74296, -87.83618], [25.776115, -80.13267900000002], [37.689746, -122.136754], [30.450593, -91.180607], [40.250238, -75.31298100000002], [34.493208, -92.711149], [38.585142, -121.403878], [38.41475, -122.71612], [43.379266, -83.876605], [36.054024, -79.768124], [32.829736, -96.917312], [25.925678, -80.17139300000002], [35.412244, -119.058817], [45.545096, -122.706009], [29.624606, -98.225347], [30.32317, -81.53575], [26.330459, -81.813199], [33.969854999999995, -80.923546], [29.724625, -95.592436], [28.580034, -81.476099], [41.568113, -87.34970899999998], [43.18868, -77.68330999999998], [40.736864, -74.36109], [37.583243, -77.498266], [34.474607, -117.594734], [26.546772, -81.839161], [37.783129, -121.238996], [37.574805, -122.388145], [40.039164, -76.353342], [42.482682, -73.67791], [34.03971, -118.052226], [35.076302, -81.732382], [40.896149, -78.219949], [25.847117, -80.20774], [42.885803, -85.6139], [39.531008, -107.722781], [36.861358, -76.431682], [30.458972, -81.64491], [33.918828000000005, -118.178938], [25.85039, -80.322653], [38.676738, -77.626737], [33.585801000000004, -117.613867], [30.484195, -84.302247], [47.35351, -122.29598], [44.958447, -93.090988], [32.92582, -96.81125], [39.717995, -111.737076], [37.641241, -121.342907], [32.686287, -117.179738], [42.208905, -85.643389], [39.799284, -76.67678000000002], [38.76197, -104.75413], [30.471721, -84.232052], [45.50689000000001, -122.71238999999998], [38.43911, -81.82963000000002], [38.803161, -77.099755], [33.76391, -80.96112], [39.261666, -120.071929], [44.05031500000001, -95.140131], [28.560105, -81.379927], [32.634636, -96.865632], [42.38665, -83.43139000000002], [34.03685, -118.28712], [36.389111, -80.788661], [38.07013, -119.16964], [38.019658, -120.24668], [28.982113, -82.049368], [38.889864, -76.93759200000002], [25.791534, -80.336951], [33.95323, -117.303871], [30.198796999999995, -84.175258], [30.533508, -87.283673], [33.79209, -117.890111], [40.667124, -73.780375], [34.298554, -113.116983], [36.070212, -86.684818], [37.027176, -76.332246], [38.898241, -77.010944], [33.995144, -117.356233], [33.681281, -87.089277], [33.813009, -118.298202], [41.887255, -87.918402], [38.025284, -121.329055], [41.57783, -87.57139000000002], [32.781087, -96.811632], [27.791702, -82.339907], [34.988572, -107.20634], [41.6625, -88.1251], [32.909464, -96.839142], [44.62963, -122.98234], [38.553289, -121.375054], [28.658542, -81.460241], [47.54308, -122.33406], [25.686047, -80.397987], [38.794494, -77.617903], [35.05104, -80.76953], [40.60298, -74.01634], [33.86384, -118.04624], [30.372858, -97.937391], [29.725811, -95.484424], [41.093387, -73.446579], [44.145308, -121.269181], [34.745304, -81.564525], [44.066699, -92.755335], [34.418052, -119.710217], [32.925984, -96.811998], [33.92889, -118.29314], [36.963437, -121.80948], [45.090494, -93.440929], [37.133113, -121.98121100000002], [33.31362, -80.55126], [28.551512, -81.54212700000002], [37.762659, -121.439963], [35.383176, -119.119099], [41.84636, -87.97236], [33.719304, -84.396682], [30.449072, -84.29534100000002], [25.981413, -80.247276], [33.32932, -111.89323], [39.902955, -75.11589599999998], [35.251021, -80.973489], [37.529491, -122.330863], [41.77048, -72.681649], [29.377404, -81.143867], [40.842344, -73.889317], [44.587259, -123.253971], [33.877021, -118.133966], [34.033361, -118.152748], [35.096658000000005, -81.00110500000002], [32.71682, -117.14757], [45.909069, -123.722867], [38.95894600000001, -94.730333], [39.468863, -77.989891], [34.33475, -118.50925], [33.967599, -118.161907], [26.542968, -81.83934], [32.924431, -96.790638], [38.49583, -121.523513], [38.060686, -121.2595], [39.750283, -86.231657], [37.613222, -121.030392], [40.77157, -73.87645], [28.468733, -81.267707], [41.819812, -79.808024], [38.59852, -89.979], [25.768424, -80.369784], [41.207993, -73.094116], [42.97266, -78.63384], [25.632618, -80.414796], [40.68706, -111.8714], [25.780701, -80.200097], [30.570019, -87.289142], [36.785799, -76.412986], [41.652592, -70.953537], [42.639935, -76.943838], [40.679362, -122.34832], [27.899554, -82.504545], [37.32509, -121.88677], [33.928740000000005, -118.25041], [42.683044, -73.75178000000002], [40.690142, -73.56259], [34.064861, -83.94868100000002], [33.699906, -117.945033], [34.037393, -117.321056], [34.072821999999995, -117.545016], [37.80247, -122.231301], [45.539885, -122.698541], [37.631295, -122.083822], [33.56607, -112.26362], [35.36306, -97.58295], [25.808694, -80.253697], [29.6749, -95.508551], [42.9724, -85.69711], [34.724793, -86.59595], [39.999042, -75.285424], [29.080555, -81.887885], [42.63471, -73.77802], [45.507658, -123.870956], [43.809355, -122.575906], [40.74099, -73.82132], [26.52375300000001, -80.07264], [41.57765, -87.56348], [40.387124, -74.176165], [34.232634000000004, -118.299172], [36.75284, -119.706205], [30.636845, -87.66863000000002], [27.791967, -82.67130999999998], [25.883811, -80.210514], [38.653981, -121.382857], [33.96746, -118.234674], [32.745185, -117.188503], [34.459314, -117.077021], [42.336018, -88.11198900000002], [34.087143, -117.683056], [27.31448, -82.10821], [39.013149, -122.358706], [33.846849, -118.092802], [29.933446000000004, -90.101498], [34.554171999999994, -79.73764], [40.880985, -73.901583], [41.26365, -73.683832], [40.78449000000001, -73.78614], [45.297823, -93.552479], [34.172276000000004, -118.51454], [33.462709999999994, -112.17497], [28.523843, -81.311325], [39.84419000000001, -86.04244], [37.974229, -121.7412], [33.771318, -118.280192], [47.234068, -122.250959], [35.784225, -78.730512], [44.02266, -123.81032], [37.70078, -122.02652], [29.674241, -95.572068], [33.98834, -117.90313], [33.34811, -80.177638], [33.736098, -117.657033], [28.206152000000003, -82.663866], [45.501927, -122.673586], [38.50103, -90.3163], [33.104048, -97.222448], [37.964974, -122.514254], [37.272163, -81.123046], [40.558122, -77.162679], [43.102741, -75.243957], [37.36458, -121.90176], [33.862414, -118.319617], [38.63208, -90.29187], [32.703847, -96.663402], [25.787337, -80.19726899999998], [33.064459, -97.014995], [26.162091, -80.326295], [29.850728000000004, -95.528623], [32.763690000000004, -117.12774], [36.834465, -76.13756], [25.809573, -80.206102], [42.46493, -123.32363], [40.5643, -111.89945], [39.442087, -76.343275], [33.97312, -118.16808], [34.029703000000005, -118.256059], [40.86306, -73.053022], [38.91626, -94.76766], [44.191128000000006, -93.99504], [33.076952, -84.345145], [45.456799, -122.57316000000002], [39.936799, -76.680999], [30.001243, -90.039488], [41.92724000000001, -87.6871], [33.79913, -111.97823], [42.349108, -87.940945], [34.965244, -85.187398], [47.890098, -102.739], [37.37733400000001, -121.925276], [41.48746, -72.04470699999997], [37.64366500000001, -122.44723], [27.23643400000001, -82.497502], [37.550501, -77.339803], [34.551469, -120.1913], [25.811616, -80.197845], [38.492329, -121.799809], [32.7978, -96.68412], [37.691413, -122.13888], [34.718684, -118.139999], [39.0259, -76.96601], [36.788852, -121.673942], [25.899721, -80.180184], [34.743959999999994, -120.27673], [38.0335, -122.11671], [37.40425, -122.02125], [34.02557, -118.46499], [36.604739, -82.222934], [41.53049, -93.77391], [33.485476, -84.21839200000002], [28.539609, -81.25161999999997], [33.84766, -117.87091], [40.96913, -73.81699], [35.339453000000006, -118.986698], [32.717252, -117.114118], [39.214624, -78.136928], [34.016257, -118.054865], [35.84232, -78.78524], [41.607126, -87.125591], [26.331242, -81.76264], [38.300452, -77.504391], [26.054259, -80.162419], [34.078205, -118.219617], [25.711852, -80.39891800000002], [32.94096, -112.73431], [25.627141, -80.383572], [33.89432, -84.26171], [43.09505, -76.03828], [35.56838, -120.647514], [46.868992, -113.88118], [32.525184, -93.702973], [25.764586, -80.303949], [28.498937, -81.296677], [29.773405, -95.40953], [34.170902000000005, -118.574205], [25.702002, -80.29171], [38.125278, -121.578611], [38.602382, -76.04241800000001], [34.024634000000006, -117.756964], [33.884121, -118.028451], [45.685593, -111.129943], [29.75927, -95.14603], [36.07907, -120.10532], [43.015319, -83.51756999999998], [25.68706700000001, -80.364859], [32.812599, -96.823953], [38.656586, -120.997806], [37.636184, -121.00347], [45.691291, -121.765626], [45.904997, -119.302289], [30.376811, -91.068516], [35.30479000000001, -81.777173], [33.705276, -117.855194], [36.149002, -95.987365], [38.663835, -121.273545], [42.578598, -113.431574], [40.346285, -111.762867], [33.762427, -117.908995], [39.943435, -78.987544], [42.91814, -77.75744], [34.03301, -118.13508600000002], [34.0545, -118.257314], [34.065975, -117.50728], [28.452939, -81.400159], [25.925464, -80.29233], [44.06125, -123.173601], [41.01432, -80.00395999999998], [32.653890000000004, -96.75623], [38.528413, -122.72274099999998], [34.22097, -118.519695], [34.961143, -94.109625], [29.70825, -95.313124], [41.02010300000001, -73.624949], [33.97527, -85.00516], [39.045412, -94.398839], [37.55701, -122.031358], [47.579272, -117.673425], [33.464959, -86.757072], [37.715206, -122.172632], [25.956341, -80.20557600000002], [33.995842, -117.906359], [35.29548, -80.78007], [30.288898, -97.754003], [33.8738, -118.10102], [38.619554, -121.348804], [40.134042, -75.3021], [38.01430300000001, -121.104584], [35.29658, -118.762679], [33.880642, -118.218068], [37.29605, -122.02742], [33.862508, -118.199174], [42.23898, -121.79646], [43.133729, -75.505052], [33.649642, -117.1713], [33.563790999999995, -117.546035], [44.540916, -124.073789], [41.19726, -112.040601], [34.59447, -118.144504], [45.369118, -122.134847], [32.383755, -111.10254], [33.918239, -117.287935], [41.147481, -96.119908], [38.79492, -77.14371], [35.134547, -119.45504], [28.553184, -81.347912], [33.802040000000005, -80.322592], [37.833113, -122.294585], [36.051299, -119.268093], [37.700442, -122.064242], [35.310323, -80.715255], [33.887499, -117.30729], [37.990253, -121.755831], [39.052897, -112.290071], [33.695823, -117.935142], [29.65544, -95.452173], [37.22093, -113.38457], [40.021907, -75.628366], [30.751101, -85.267902], [33.960689, -118.247654], [38.83951, -77.086431], [33.740534000000004, -117.833811], [47.056396, -123.025835], [32.826534, -97.479805], [32.236, -110.94386000000002], [35.38075999999999, -118.971484], [33.370016, -79.63792600000002], [32.698541, -117.120684], [30.457564, -91.098785], [41.666664, -71.494361], [30.417231, -91.097664], [32.133976000000004, -111.106021], [25.80797, -80.276701], [44.87618, -93.03081], [30.46007100000001, -87.270032], [32.481496, -93.712768], [28.42485, -81.47442], [35.901141, -78.65395699999998], [32.787333000000004, -117.206944], [29.913098, -95.309018], [25.785694, -80.262073], [25.7307, -80.317718], [26.764929, -81.437401], [37.66434, -122.39922], [28.447743, -81.473913], [25.74804, -80.317224], [39.142701, -85.95801800000002], [34.795707, -82.382923], [38.485236, -121.808056], [35.297383, -119.257155], [33.550175, -86.774836], [34.167975, -118.588151], [30.206862, -81.61725600000003], [35.16789, -77.885035], [36.074033, -120.093427], [44.95333, -93.08086], [29.811225, -95.345911], [41.00121, -121.44664], [43.935281, -91.805201], [32.808704, -97.315599], [34.065724, -117.255942], [41.883929, -88.10681], [45.126536, -93.34975], [25.891627, -80.163146], [45.623728, -122.814469], [41.54555, -72.62931999999998], [39.77476, -105.05325], [28.298712, -81.350852], [41.725335, -72.783437], [38.756426, -111.443675], [36.476612, -121.722356], [35.075559000000005, -85.199332], [33.951441, -117.551004], [35.468186, -119.49273], [40.75923, -74.208945], [42.28299000000001, -87.95335], [28.347863, -81.66435899999998], [25.669776, -80.416237], [28.06931, -82.4594], [40.77428, -73.67087], [34.019672, -118.173498], [33.70057, -112.10881], [28.090389, -82.502966], [44.05508, -89.190764], [33.911245, -118.172382], [38.19, -85.72475], [34.037993, -80.412904], [40.66764000000001, -73.99632], [38.003464, -121.835484], [35.76201, -119.053226], [34.252762, -77.95441600000002], [42.38541, -83.023812], [41.56743, -87.31864399999998], [40.828419, -73.41140899999998], [25.926029, -80.15029200000002], [34.071969, -81.16012099999998], [37.62880300000001, -77.458538], [35.61899099999999, -120.686426], [45.371119, -122.585711], [27.4492, -82.530501], [25.78169, -80.32025], [25.684696, -80.434148], [40.0549, -111.553191], [25.799207, -80.33392099999998], [46.892409, -98.439231], [36.158076, -86.78404], [25.750452, -80.335838], [37.40968, -122.072945], [35.223423, -80.83061], [40.640119, -111.889069], [26.121694, -80.342649], [43.11805, -70.82571800000002], [34.142605, -117.704134], [33.68148, -84.31313], [34.001044, -118.409861], [35.13553, -80.89189], [37.305914, -120.851272], [33.47999, -112.23779], [39.462815, -76.29624], [30.30691, -97.75766], [40.13365, -74.9656], [34.14731, -79.385537], [25.702455, -80.332105], [33.82403, -84.1494], [32.73979, -96.82282], [45.530101, -122.61453600000002], [34.004002, -117.383443], [30.306390000000004, -81.64496], [45.653264, -121.5135], [38.003358, -122.042918], [40.457413, -74.27614799999998], [28.954732, -82.57871], [44.359732, -123.06101], [39.310629, -80.048928], [42.97261, -85.80466], [34.032585, -118.222306], [34.057258000000004, -118.002491], [28.229568, -82.677236], [29.763025, -95.367604], [38.70376, -121.354264], [25.688176, -80.332065], [43.918593, -122.817437], [36.047692, -86.713482], [42.799955, -112.338198], [34.881005, -81.050777], [47.159169, -122.414782], [34.095046999999994, -118.311494]],\n",
       "                {&quot;blur&quot;: 15, &quot;maxZoom&quot;: 18, &quot;minOpacity&quot;: 0.5, &quot;radius&quot;: 25}\n",
       "            ).addTo(map_b8646d1d4fa5a54d74d30286b6675288);\n",
       "        \n",
       "&lt;/script&gt;\n",
       "&lt;/html&gt;\" style=\"position:absolute;width:100%;height:100%;left:0;top:0;border:none !important;\" allowfullscreen webkitallowfullscreen mozallowfullscreen></iframe></div></div>"
      ],
      "text/plain": [
       "<folium.folium.Map at 0x22c3cae8f10>"
      ]
     },
     "execution_count": 67,
     "metadata": {},
     "output_type": "execute_result"
    }
   ],
   "source": [
    "HeatMap(lat_lng_pairs).add_to(hmap)\n",
    "hmap"
   ]
  },
  {
   "cell_type": "markdown",
   "id": "b8ec3e01",
   "metadata": {},
   "source": [
    "#### ✅Results:\n",
    "\n",
    "- From the map we can see that costal areas have most accidents."
   ]
  },
  {
   "cell_type": "markdown",
   "id": "9a7c8898",
   "metadata": {},
   "source": [
    "### Weather condition:"
   ]
  },
  {
   "cell_type": "code",
   "execution_count": 72,
   "id": "a48736b5",
   "metadata": {},
   "outputs": [
    {
     "data": {
      "text/plain": [
       "Fair                1107194\n",
       "Mostly Cloudy        363959\n",
       "Cloudy               348767\n",
       "Partly Cloudy        249939\n",
       "Clear                173823\n",
       "Light Rain           128403\n",
       "Overcast              84882\n",
       "Scattered Clouds      45132\n",
       "Light Snow            43752\n",
       "Fog                   41226\n",
       "Name: Weather_Condition, dtype: int64"
      ]
     },
     "execution_count": 72,
     "metadata": {},
     "output_type": "execute_result"
    }
   ],
   "source": [
    "df['Weather_Condition'].value_counts().sort_values(ascending=False)[:10]"
   ]
  },
  {
   "cell_type": "code",
   "execution_count": 75,
   "id": "8fd3ed74",
   "metadata": {},
   "outputs": [
    {
     "data": {
      "text/plain": [
       "<AxesSubplot:>"
      ]
     },
     "execution_count": 75,
     "metadata": {},
     "output_type": "execute_result"
    },
    {
     "data": {
      "image/png": "[encoded data removed]",
      "text/plain": [
       "<Figure size 432x288 with 1 Axes>"
      ]
     },
     "metadata": {},
     "output_type": "display_data"
    }
   ],
   "source": [
    "df['Weather_Condition'].value_counts().sort_values(ascending=False)[:10].plot(kind='bar')"
   ]
  },
  {
   "cell_type": "markdown",
   "id": "8420ed99",
   "metadata": {},
   "source": [
    "#### Results:\n",
    "\n",
    "- Most accidents happened duirng Fair weather. so in particular Weather condition doesnt cause accidents."
   ]
  },
  {
   "cell_type": "markdown",
   "id": "fa8c4856",
   "metadata": {},
   "source": [
    "### Bump:\n",
    "\n",
    "#### Does having bump reduces the number of accidents:"
   ]
  },
  {
   "cell_type": "code",
   "execution_count": 76,
   "id": "03b48cdc",
   "metadata": {},
   "outputs": [
    {
     "data": {
      "text/plain": [
       "False    2844321\n",
       "True        1021\n",
       "Name: Bump, dtype: int64"
      ]
     },
     "execution_count": 76,
     "metadata": {},
     "output_type": "execute_result"
    }
   ],
   "source": [
    "df['Bump'].value_counts()"
   ]
  },
  {
   "cell_type": "code",
   "execution_count": 79,
   "id": "3565ea74",
   "metadata": {},
   "outputs": [
    {
     "data": {
      "text/plain": [
       "<AxesSubplot:ylabel='Bump'>"
      ]
     },
     "execution_count": 79,
     "metadata": {},
     "output_type": "execute_result"
    },
    {
     "data": {
      "image/png": "[encoded data removed]",
      "text/plain": [
       "<Figure size 432x288 with 1 Axes>"
      ]
     },
     "metadata": {},
     "output_type": "display_data"
    }
   ],
   "source": [
    "df['Bump'].value_counts().plot(kind='pie')"
   ]
  },
  {
   "cell_type": "markdown",
   "id": "ea675c2f",
   "metadata": {},
   "source": [
    "#### ✅ Results:\n",
    "\n",
    "- From the plot we can see that most accidents happen when there are no bumps.\n",
    "- We can reduce the number of accidents by adding more bumps."
   ]
  },
  {
   "cell_type": "markdown",
   "id": "317634a7",
   "metadata": {},
   "source": [
    "### Roundabout:"
   ]
  },
  {
   "cell_type": "code",
   "execution_count": 81,
   "id": "d7132efc",
   "metadata": {},
   "outputs": [
    {
     "data": {
      "text/plain": [
       "False    2845219\n",
       "True         123\n",
       "Name: Roundabout, dtype: int64"
      ]
     },
     "execution_count": 81,
     "metadata": {},
     "output_type": "execute_result"
    }
   ],
   "source": [
    "df['Roundabout'].value_counts()"
   ]
  },
  {
   "cell_type": "markdown",
   "id": "7923183e",
   "metadata": {},
   "source": [
    "#### Result:\n",
    "- We can see that there were no roundabouts nearby.\n",
    "- Adding Roundabouts can help to decrease the number of accidents."
   ]
  },
  {
   "cell_type": "markdown",
   "id": "f9efea93",
   "metadata": {},
   "source": [
    "###  Stop Sign:"
   ]
  },
  {
   "cell_type": "code",
   "execution_count": 82,
   "id": "9752c6ea",
   "metadata": {},
   "outputs": [
    {
     "data": {
      "text/plain": [
       "False    2794942\n",
       "True       50400\n",
       "Name: Stop, dtype: int64"
      ]
     },
     "execution_count": 82,
     "metadata": {},
     "output_type": "execute_result"
    }
   ],
   "source": [
    "df['Stop'].value_counts()"
   ]
  },
  {
   "cell_type": "markdown",
   "id": "03a32ab6",
   "metadata": {},
   "source": [
    "#### Results:\n",
    "\n",
    "- We can see that adding more stop sign can help to reduce the number of accidents."
   ]
  },
  {
   "cell_type": "markdown",
   "id": "fcc4990e",
   "metadata": {},
   "source": [
    "#### Summary and Conclusion:\n",
    "\n",
    "- Miami and Los Angels are having most accidents.\n",
    "- California and Florida has most accidents state-wise probably because of population. \n",
    "- Most accidents happen between 3pm to 6pm probably while coming back home.\n",
    "- Least number of accidents happen before 6am\n",
    "- Year by year the number of accidents have been increasing and Most accidents happened in year 2019.\n",
    "- Most accidents happen on Fridays and least happen on weekends.\n",
    "- Many precautions canbe taken in order to reduce the number of accidents:\n",
    "1. Adding more bumps.\n",
    "2. Adding more roundabouts.\n",
    "3. Adding more stops.\n",
    "4. Adding more Traffic signals.\n",
    "\n",
    "Still there is so much scope for analysis. We can analyse on precipitation, Wind_Speed, visibility, Humidity etc. Due to time constraints I am limiting myself to this."
   ]
  },
  {
   "cell_type": "code",
   "execution_count": null,
   "id": "d691d603",
   "metadata": {},
   "outputs": [],
   "source": []
  }
 ],
 "metadata": {
  "kernelspec": {
   "display_name": "Python 3 (ipykernel)",
   "language": "python",
   "name": "python3"
  },
  "language_info": {
   "codemirror_mode": {
    "name": "ipython",
    "version": 3
   },
   "file_extension": ".py",
   "mimetype": "text/x-python",
   "name": "python",
   "nbconvert_exporter": "python",
   "pygments_lexer": "ipython3",
   "version": "3.9.7"
  },
  "widgets": {
   "application/vnd.jupyter.widget-state+json": {
    "state": {},
    "version_major": 2,
    "version_minor": 0
   }
  }
 },
 "nbformat": 4,
 "nbformat_minor": 5
}
